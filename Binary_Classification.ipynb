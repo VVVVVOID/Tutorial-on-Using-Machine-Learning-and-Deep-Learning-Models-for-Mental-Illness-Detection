{
  "cells": [
    {
      "cell_type": "markdown",
      "metadata": {
        "id": "yuHWywOxgvBi"
      },
      "source": [
        "# 1.Load the Data"
      ]
    },
    {
      "cell_type": "code",
      "execution_count": null,
      "metadata": {
        "colab": {
          "base_uri": "https://localhost:8080/"
        },
        "id": "lekaEbyJMrde",
        "outputId": "54177f5c-0c82-4343-adf8-8aba6abe11d3"
      },
      "outputs": [
        {
          "name": "stderr",
          "output_type": "stream",
          "text": [
            "/usr/local/lib/python3.11/dist-packages/dask/dataframe/__init__.py:42: FutureWarning: \n",
            "Dask dataframe query planning is disabled because dask-expr is not installed.\n",
            "\n",
            "You can install it with `pip install dask[dataframe]` or `conda install dask`.\n",
            "This will raise in a future version.\n",
            "\n",
            "  warnings.warn(msg, FutureWarning)\n",
            "[nltk_data] Downloading package stopwords to /root/nltk_data...\n",
            "[nltk_data]   Unzipping corpora/stopwords.zip.\n",
            "[nltk_data] Downloading package wordnet to /root/nltk_data...\n"
          ]
        },
        {
          "data": {
            "text/plain": [
              "True"
            ]
          },
          "execution_count": 1,
          "metadata": {},
          "output_type": "execute_result"
        }
      ],
      "source": [
        "#impoart libraries\n",
        "import numpy as np\n",
        "import pandas as pd\n",
        "import matplotlib.pyplot as plt\n",
        "import seaborn as sns\n",
        "import time\n",
        "%matplotlib inline\n",
        "\n",
        "import re\n",
        "import string\n",
        "import random\n",
        "from imblearn.over_sampling import SMOTE, RandomOverSampler\n",
        "from scipy.sparse import hstack  # To combine sparse matrices\n",
        "from wordcloud import WordCloud\n",
        "\n",
        "import nltk\n",
        "from nltk.corpus import stopwords\n",
        "from nltk.tokenize import word_tokenize\n",
        "from nltk.stem import PorterStemmer, SnowballStemmer\n",
        "\n",
        "from sklearn.feature_extraction.text import CountVectorizer, TfidfVectorizer\n",
        "from sklearn.model_selection import train_test_split, GridSearchCV\n",
        "from sklearn.preprocessing import LabelEncoder\n",
        "from sklearn.linear_model import LogisticRegression\n",
        "from sklearn.svm import SVC\n",
        "from sklearn.tree import DecisionTreeClassifier\n",
        "from lightgbm import LGBMClassifier\n",
        "from sklearn.metrics import  f1_score, accuracy_score, classification_report, confusion_matrix, roc_curve, auc\n",
        "from nltk.corpus import stopwords\n",
        "from nltk.tokenize import word_tokenize\n",
        "from nltk.stem import WordNetLemmatizer\n",
        "from sklearn.ensemble import RandomForestClassifier\n",
        "from sklearn.utils import shuffle\n",
        "from itertools import product\n",
        "\n",
        "import warnings\n",
        "warnings.filterwarnings(\"ignore\")\n",
        "\n",
        "nltk.download('stopwords')\n",
        "nltk.download('wordnet')"
      ]
    },
    {
      "cell_type": "code",
      "execution_count": null,
      "metadata": {
        "id": "iJm7sg5OMvea"
      },
      "outputs": [],
      "source": [
        "#load the data\n",
        "df = pd.read_csv('/content/sample_data/Combined Data.csv', index_col=0)"
      ]
    },
    {
      "cell_type": "code",
      "execution_count": null,
      "metadata": {
        "id": "djHGHl3AUArE"
      },
      "outputs": [],
      "source": [
        "#Drop NULLs\n",
        "df.dropna(inplace = True)"
      ]
    },
    {
      "cell_type": "code",
      "execution_count": null,
      "metadata": {
        "colab": {
          "base_uri": "https://localhost:8080/"
        },
        "id": "EBvTE1MgdsCC",
        "outputId": "0c761707-e6a6-47fc-fb19-3689718d13a3"
      },
      "outputs": [
        {
          "data": {
            "text/plain": [
              "(52681, 2)"
            ]
          },
          "execution_count": 5,
          "metadata": {},
          "output_type": "execute_result"
        }
      ],
      "source": [
        "df.shape"
      ]
    },
    {
      "cell_type": "code",
      "execution_count": null,
      "metadata": {
        "colab": {
          "base_uri": "https://localhost:8080/",
          "height": 112
        },
        "id": "k_ENXCnKlfTL",
        "outputId": "c5e7b7fc-a975-40a3-fe78-a7da237a992e"
      },
      "outputs": [
        {
          "data": {
            "application/vnd.google.colaboratory.intrinsic+json": {
              "summary": "{\n  \"name\": \"df\",\n  \"rows\": 2,\n  \"fields\": [\n    {\n      \"column\": \"count\",\n      \"properties\": {\n        \"dtype\": \"date\",\n        \"min\": \"52681\",\n        \"max\": \"52681\",\n        \"num_unique_values\": 1,\n        \"samples\": [\n          \"52681\"\n        ],\n        \"semantic_type\": \"\",\n        \"description\": \"\"\n      }\n    },\n    {\n      \"column\": \"unique\",\n      \"properties\": {\n        \"dtype\": \"date\",\n        \"min\": 7,\n        \"max\": 51073,\n        \"num_unique_values\": 2,\n        \"samples\": [\n          7\n        ],\n        \"semantic_type\": \"\",\n        \"description\": \"\"\n      }\n    },\n    {\n      \"column\": \"top\",\n      \"properties\": {\n        \"dtype\": \"string\",\n        \"num_unique_values\": 2,\n        \"samples\": [\n          \"Normal\"\n        ],\n        \"semantic_type\": \"\",\n        \"description\": \"\"\n      }\n    },\n    {\n      \"column\": \"freq\",\n      \"properties\": {\n        \"dtype\": \"date\",\n        \"min\": \"22\",\n        \"max\": \"16343\",\n        \"num_unique_values\": 2,\n        \"samples\": [\n          \"16343\"\n        ],\n        \"semantic_type\": \"\",\n        \"description\": \"\"\n      }\n    }\n  ]\n}",
              "type": "dataframe"
            },
            "text/html": [
              "\n",
              "  <div id=\"df-41160879-436d-45c1-8aee-1df6c7587813\" class=\"colab-df-container\">\n",
              "    <div>\n",
              "<style scoped>\n",
              "    .dataframe tbody tr th:only-of-type {\n",
              "        vertical-align: middle;\n",
              "    }\n",
              "\n",
              "    .dataframe tbody tr th {\n",
              "        vertical-align: top;\n",
              "    }\n",
              "\n",
              "    .dataframe thead th {\n",
              "        text-align: right;\n",
              "    }\n",
              "</style>\n",
              "<table border=\"1\" class=\"dataframe\">\n",
              "  <thead>\n",
              "    <tr style=\"text-align: right;\">\n",
              "      <th></th>\n",
              "      <th>count</th>\n",
              "      <th>unique</th>\n",
              "      <th>top</th>\n",
              "      <th>freq</th>\n",
              "    </tr>\n",
              "  </thead>\n",
              "  <tbody>\n",
              "    <tr>\n",
              "      <th>statement</th>\n",
              "      <td>52681</td>\n",
              "      <td>51073</td>\n",
              "      <td>what do you mean?</td>\n",
              "      <td>22</td>\n",
              "    </tr>\n",
              "    <tr>\n",
              "      <th>status</th>\n",
              "      <td>52681</td>\n",
              "      <td>7</td>\n",
              "      <td>Normal</td>\n",
              "      <td>16343</td>\n",
              "    </tr>\n",
              "  </tbody>\n",
              "</table>\n",
              "</div>\n",
              "    <div class=\"colab-df-buttons\">\n",
              "\n",
              "  <div class=\"colab-df-container\">\n",
              "    <button class=\"colab-df-convert\" onclick=\"convertToInteractive('df-41160879-436d-45c1-8aee-1df6c7587813')\"\n",
              "            title=\"Convert this dataframe to an interactive table.\"\n",
              "            style=\"display:none;\">\n",
              "\n",
              "  <svg xmlns=\"http://www.w3.org/2000/svg\" height=\"24px\" viewBox=\"0 -960 960 960\">\n",
              "    <path d=\"M120-120v-720h720v720H120Zm60-500h600v-160H180v160Zm220 220h160v-160H400v160Zm0 220h160v-160H400v160ZM180-400h160v-160H180v160Zm440 0h160v-160H620v160ZM180-180h160v-160H180v160Zm440 0h160v-160H620v160Z\"/>\n",
              "  </svg>\n",
              "    </button>\n",
              "\n",
              "  <style>\n",
              "    .colab-df-container {\n",
              "      display:flex;\n",
              "      gap: 12px;\n",
              "    }\n",
              "\n",
              "    .colab-df-convert {\n",
              "      background-color: #E8F0FE;\n",
              "      border: none;\n",
              "      border-radius: 50%;\n",
              "      cursor: pointer;\n",
              "      display: none;\n",
              "      fill: #1967D2;\n",
              "      height: 32px;\n",
              "      padding: 0 0 0 0;\n",
              "      width: 32px;\n",
              "    }\n",
              "\n",
              "    .colab-df-convert:hover {\n",
              "      background-color: #E2EBFA;\n",
              "      box-shadow: 0px 1px 2px rgba(60, 64, 67, 0.3), 0px 1px 3px 1px rgba(60, 64, 67, 0.15);\n",
              "      fill: #174EA6;\n",
              "    }\n",
              "\n",
              "    .colab-df-buttons div {\n",
              "      margin-bottom: 4px;\n",
              "    }\n",
              "\n",
              "    [theme=dark] .colab-df-convert {\n",
              "      background-color: #3B4455;\n",
              "      fill: #D2E3FC;\n",
              "    }\n",
              "\n",
              "    [theme=dark] .colab-df-convert:hover {\n",
              "      background-color: #434B5C;\n",
              "      box-shadow: 0px 1px 3px 1px rgba(0, 0, 0, 0.15);\n",
              "      filter: drop-shadow(0px 1px 2px rgba(0, 0, 0, 0.3));\n",
              "      fill: #FFFFFF;\n",
              "    }\n",
              "  </style>\n",
              "\n",
              "    <script>\n",
              "      const buttonEl =\n",
              "        document.querySelector('#df-41160879-436d-45c1-8aee-1df6c7587813 button.colab-df-convert');\n",
              "      buttonEl.style.display =\n",
              "        google.colab.kernel.accessAllowed ? 'block' : 'none';\n",
              "\n",
              "      async function convertToInteractive(key) {\n",
              "        const element = document.querySelector('#df-41160879-436d-45c1-8aee-1df6c7587813');\n",
              "        const dataTable =\n",
              "          await google.colab.kernel.invokeFunction('convertToInteractive',\n",
              "                                                    [key], {});\n",
              "        if (!dataTable) return;\n",
              "\n",
              "        const docLinkHtml = 'Like what you see? Visit the ' +\n",
              "          '<a target=\"_blank\" href=https://colab.research.google.com/notebooks/data_table.ipynb>data table notebook</a>'\n",
              "          + ' to learn more about interactive tables.';\n",
              "        element.innerHTML = '';\n",
              "        dataTable['output_type'] = 'display_data';\n",
              "        await google.colab.output.renderOutput(dataTable, element);\n",
              "        const docLink = document.createElement('div');\n",
              "        docLink.innerHTML = docLinkHtml;\n",
              "        element.appendChild(docLink);\n",
              "      }\n",
              "    </script>\n",
              "  </div>\n",
              "\n",
              "\n",
              "<div id=\"df-2610f379-0325-411a-8716-557166415443\">\n",
              "  <button class=\"colab-df-quickchart\" onclick=\"quickchart('df-2610f379-0325-411a-8716-557166415443')\"\n",
              "            title=\"Suggest charts\"\n",
              "            style=\"display:none;\">\n",
              "\n",
              "<svg xmlns=\"http://www.w3.org/2000/svg\" height=\"24px\"viewBox=\"0 0 24 24\"\n",
              "     width=\"24px\">\n",
              "    <g>\n",
              "        <path d=\"M19 3H5c-1.1 0-2 .9-2 2v14c0 1.1.9 2 2 2h14c1.1 0 2-.9 2-2V5c0-1.1-.9-2-2-2zM9 17H7v-7h2v7zm4 0h-2V7h2v10zm4 0h-2v-4h2v4z\"/>\n",
              "    </g>\n",
              "</svg>\n",
              "  </button>\n",
              "\n",
              "<style>\n",
              "  .colab-df-quickchart {\n",
              "      --bg-color: #E8F0FE;\n",
              "      --fill-color: #1967D2;\n",
              "      --hover-bg-color: #E2EBFA;\n",
              "      --hover-fill-color: #174EA6;\n",
              "      --disabled-fill-color: #AAA;\n",
              "      --disabled-bg-color: #DDD;\n",
              "  }\n",
              "\n",
              "  [theme=dark] .colab-df-quickchart {\n",
              "      --bg-color: #3B4455;\n",
              "      --fill-color: #D2E3FC;\n",
              "      --hover-bg-color: #434B5C;\n",
              "      --hover-fill-color: #FFFFFF;\n",
              "      --disabled-bg-color: #3B4455;\n",
              "      --disabled-fill-color: #666;\n",
              "  }\n",
              "\n",
              "  .colab-df-quickchart {\n",
              "    background-color: var(--bg-color);\n",
              "    border: none;\n",
              "    border-radius: 50%;\n",
              "    cursor: pointer;\n",
              "    display: none;\n",
              "    fill: var(--fill-color);\n",
              "    height: 32px;\n",
              "    padding: 0;\n",
              "    width: 32px;\n",
              "  }\n",
              "\n",
              "  .colab-df-quickchart:hover {\n",
              "    background-color: var(--hover-bg-color);\n",
              "    box-shadow: 0 1px 2px rgba(60, 64, 67, 0.3), 0 1px 3px 1px rgba(60, 64, 67, 0.15);\n",
              "    fill: var(--button-hover-fill-color);\n",
              "  }\n",
              "\n",
              "  .colab-df-quickchart-complete:disabled,\n",
              "  .colab-df-quickchart-complete:disabled:hover {\n",
              "    background-color: var(--disabled-bg-color);\n",
              "    fill: var(--disabled-fill-color);\n",
              "    box-shadow: none;\n",
              "  }\n",
              "\n",
              "  .colab-df-spinner {\n",
              "    border: 2px solid var(--fill-color);\n",
              "    border-color: transparent;\n",
              "    border-bottom-color: var(--fill-color);\n",
              "    animation:\n",
              "      spin 1s steps(1) infinite;\n",
              "  }\n",
              "\n",
              "  @keyframes spin {\n",
              "    0% {\n",
              "      border-color: transparent;\n",
              "      border-bottom-color: var(--fill-color);\n",
              "      border-left-color: var(--fill-color);\n",
              "    }\n",
              "    20% {\n",
              "      border-color: transparent;\n",
              "      border-left-color: var(--fill-color);\n",
              "      border-top-color: var(--fill-color);\n",
              "    }\n",
              "    30% {\n",
              "      border-color: transparent;\n",
              "      border-left-color: var(--fill-color);\n",
              "      border-top-color: var(--fill-color);\n",
              "      border-right-color: var(--fill-color);\n",
              "    }\n",
              "    40% {\n",
              "      border-color: transparent;\n",
              "      border-right-color: var(--fill-color);\n",
              "      border-top-color: var(--fill-color);\n",
              "    }\n",
              "    60% {\n",
              "      border-color: transparent;\n",
              "      border-right-color: var(--fill-color);\n",
              "    }\n",
              "    80% {\n",
              "      border-color: transparent;\n",
              "      border-right-color: var(--fill-color);\n",
              "      border-bottom-color: var(--fill-color);\n",
              "    }\n",
              "    90% {\n",
              "      border-color: transparent;\n",
              "      border-bottom-color: var(--fill-color);\n",
              "    }\n",
              "  }\n",
              "</style>\n",
              "\n",
              "  <script>\n",
              "    async function quickchart(key) {\n",
              "      const quickchartButtonEl =\n",
              "        document.querySelector('#' + key + ' button');\n",
              "      quickchartButtonEl.disabled = true;  // To prevent multiple clicks.\n",
              "      quickchartButtonEl.classList.add('colab-df-spinner');\n",
              "      try {\n",
              "        const charts = await google.colab.kernel.invokeFunction(\n",
              "            'suggestCharts', [key], {});\n",
              "      } catch (error) {\n",
              "        console.error('Error during call to suggestCharts:', error);\n",
              "      }\n",
              "      quickchartButtonEl.classList.remove('colab-df-spinner');\n",
              "      quickchartButtonEl.classList.add('colab-df-quickchart-complete');\n",
              "    }\n",
              "    (() => {\n",
              "      let quickchartButtonEl =\n",
              "        document.querySelector('#df-2610f379-0325-411a-8716-557166415443 button');\n",
              "      quickchartButtonEl.style.display =\n",
              "        google.colab.kernel.accessAllowed ? 'block' : 'none';\n",
              "    })();\n",
              "  </script>\n",
              "</div>\n",
              "\n",
              "    </div>\n",
              "  </div>\n"
            ],
            "text/plain": [
              "           count unique                top   freq\n",
              "statement  52681  51073  what do you mean?     22\n",
              "status     52681      7             Normal  16343"
            ]
          },
          "execution_count": 6,
          "metadata": {},
          "output_type": "execute_result"
        }
      ],
      "source": [
        "df.describe().T"
      ]
    },
    {
      "cell_type": "code",
      "execution_count": null,
      "metadata": {
        "id": "e0Rijib8TxmF"
      },
      "outputs": [],
      "source": [
        "#As we are going to do binary classifications here, turn all mentl health issues to '1' and normal to 0\n",
        "df['status'] = df['status'].apply(lambda x: 1 if x != \"Normal\" else 0)"
      ]
    },
    {
      "cell_type": "code",
      "execution_count": null,
      "metadata": {
        "colab": {
          "base_uri": "https://localhost:8080/",
          "height": 424
        },
        "id": "dCZFQ1TGXgcQ",
        "outputId": "ebe768c6-10b7-4cd8-b3d8-fb8a3455332c"
      },
      "outputs": [
        {
          "data": {
            "application/vnd.google.colaboratory.intrinsic+json": {
              "summary": "{\n  \"name\": \"df\",\n  \"rows\": 52681,\n  \"fields\": [\n    {\n      \"column\": \"statement\",\n      \"properties\": {\n        \"dtype\": \"string\",\n        \"num_unique_values\": 51073,\n        \"samples\": [\n          \"Advice??   Does anyone have any advice on how to approach a doctor about a possible misdiagnosis? And/or what to expect if I do?  I'm starting to think that the initial diagnosis of BD might actually be BPD. I've cross referenced the two and am starting to doubt. I'm currently medicated for BD and I'm not sure if I would need all the medications I'm on. I don't want to screw up the balance I have but I also don't want to live with the side effects of certain meds if I don't have to. \",\n          \"So sad, I really want to cry. don't like it. make restless.\",\n          \"i m not here for support or anything i m simply here to find an easy painless way to do it i m sick of this place it s not getting better it won t get better only worse it s been this way for year man like literally year when i wa a kid the only thing that made i enjoyed wa video game and now i hate video game simply because i don t find any enjoyment in them smoking weed used to make me feel more numb or at least not like this but i m sick of it i m angry i m angry at my existence and i m angry everybody get so upset when i say i don t wan na endure anymore it s pathetic it s a if the pack animal want to include me in their pack just because i want to exit so somebody please tell me an easy way to leave this place\"\n        ],\n        \"semantic_type\": \"\",\n        \"description\": \"\"\n      }\n    },\n    {\n      \"column\": \"status\",\n      \"properties\": {\n        \"dtype\": \"number\",\n        \"std\": 0,\n        \"min\": 0,\n        \"max\": 1,\n        \"num_unique_values\": 2,\n        \"samples\": [\n          0,\n          1\n        ],\n        \"semantic_type\": \"\",\n        \"description\": \"\"\n      }\n    }\n  ]\n}",
              "type": "dataframe",
              "variable_name": "df"
            },
            "text/html": [
              "\n",
              "  <div id=\"df-4227c23d-9911-4ab6-b0ea-9dcb1b63e04f\" class=\"colab-df-container\">\n",
              "    <div>\n",
              "<style scoped>\n",
              "    .dataframe tbody tr th:only-of-type {\n",
              "        vertical-align: middle;\n",
              "    }\n",
              "\n",
              "    .dataframe tbody tr th {\n",
              "        vertical-align: top;\n",
              "    }\n",
              "\n",
              "    .dataframe thead th {\n",
              "        text-align: right;\n",
              "    }\n",
              "</style>\n",
              "<table border=\"1\" class=\"dataframe\">\n",
              "  <thead>\n",
              "    <tr style=\"text-align: right;\">\n",
              "      <th></th>\n",
              "      <th>statement</th>\n",
              "      <th>status</th>\n",
              "    </tr>\n",
              "  </thead>\n",
              "  <tbody>\n",
              "    <tr>\n",
              "      <th>9265</th>\n",
              "      <td>Basically, my brother has been talking about w...</td>\n",
              "      <td>1</td>\n",
              "    </tr>\n",
              "    <tr>\n",
              "      <th>14110</th>\n",
              "      <td>haha xd i do not have friends :'( I really wis...</td>\n",
              "      <td>1</td>\n",
              "    </tr>\n",
              "    <tr>\n",
              "      <th>23126</th>\n",
              "      <td>To begin with my life is a mistakeI did not as...</td>\n",
              "      <td>1</td>\n",
              "    </tr>\n",
              "    <tr>\n",
              "      <th>35566</th>\n",
              "      <td>Buspar, how long? I started taking 7.5 mg of B...</td>\n",
              "      <td>1</td>\n",
              "    </tr>\n",
              "    <tr>\n",
              "      <th>6090</th>\n",
              "      <td>pi en ice don't understand the meaning of time...</td>\n",
              "      <td>0</td>\n",
              "    </tr>\n",
              "    <tr>\n",
              "      <th>...</th>\n",
              "      <td>...</td>\n",
              "      <td>...</td>\n",
              "    </tr>\n",
              "    <tr>\n",
              "      <th>7407</th>\n",
              "      <td>I am slowly realizing that life just was not m...</td>\n",
              "      <td>1</td>\n",
              "    </tr>\n",
              "    <tr>\n",
              "      <th>410</th>\n",
              "      <td>so it's like this.. the authors never wanted t...</td>\n",
              "      <td>1</td>\n",
              "    </tr>\n",
              "    <tr>\n",
              "      <th>49145</th>\n",
              "      <td>Mental Health or Money I could make a ridiculo...</td>\n",
              "      <td>1</td>\n",
              "    </tr>\n",
              "    <tr>\n",
              "      <th>6195</th>\n",
              "      <td>â let's be mutual with gamora's father, cung</td>\n",
              "      <td>0</td>\n",
              "    </tr>\n",
              "    <tr>\n",
              "      <th>34851</th>\n",
              "      <td>Glass baby food jar thrown at me hit back of m...</td>\n",
              "      <td>1</td>\n",
              "    </tr>\n",
              "  </tbody>\n",
              "</table>\n",
              "<p>52681 rows × 2 columns</p>\n",
              "</div>\n",
              "    <div class=\"colab-df-buttons\">\n",
              "\n",
              "  <div class=\"colab-df-container\">\n",
              "    <button class=\"colab-df-convert\" onclick=\"convertToInteractive('df-4227c23d-9911-4ab6-b0ea-9dcb1b63e04f')\"\n",
              "            title=\"Convert this dataframe to an interactive table.\"\n",
              "            style=\"display:none;\">\n",
              "\n",
              "  <svg xmlns=\"http://www.w3.org/2000/svg\" height=\"24px\" viewBox=\"0 -960 960 960\">\n",
              "    <path d=\"M120-120v-720h720v720H120Zm60-500h600v-160H180v160Zm220 220h160v-160H400v160Zm0 220h160v-160H400v160ZM180-400h160v-160H180v160Zm440 0h160v-160H620v160ZM180-180h160v-160H180v160Zm440 0h160v-160H620v160Z\"/>\n",
              "  </svg>\n",
              "    </button>\n",
              "\n",
              "  <style>\n",
              "    .colab-df-container {\n",
              "      display:flex;\n",
              "      gap: 12px;\n",
              "    }\n",
              "\n",
              "    .colab-df-convert {\n",
              "      background-color: #E8F0FE;\n",
              "      border: none;\n",
              "      border-radius: 50%;\n",
              "      cursor: pointer;\n",
              "      display: none;\n",
              "      fill: #1967D2;\n",
              "      height: 32px;\n",
              "      padding: 0 0 0 0;\n",
              "      width: 32px;\n",
              "    }\n",
              "\n",
              "    .colab-df-convert:hover {\n",
              "      background-color: #E2EBFA;\n",
              "      box-shadow: 0px 1px 2px rgba(60, 64, 67, 0.3), 0px 1px 3px 1px rgba(60, 64, 67, 0.15);\n",
              "      fill: #174EA6;\n",
              "    }\n",
              "\n",
              "    .colab-df-buttons div {\n",
              "      margin-bottom: 4px;\n",
              "    }\n",
              "\n",
              "    [theme=dark] .colab-df-convert {\n",
              "      background-color: #3B4455;\n",
              "      fill: #D2E3FC;\n",
              "    }\n",
              "\n",
              "    [theme=dark] .colab-df-convert:hover {\n",
              "      background-color: #434B5C;\n",
              "      box-shadow: 0px 1px 3px 1px rgba(0, 0, 0, 0.15);\n",
              "      filter: drop-shadow(0px 1px 2px rgba(0, 0, 0, 0.3));\n",
              "      fill: #FFFFFF;\n",
              "    }\n",
              "  </style>\n",
              "\n",
              "    <script>\n",
              "      const buttonEl =\n",
              "        document.querySelector('#df-4227c23d-9911-4ab6-b0ea-9dcb1b63e04f button.colab-df-convert');\n",
              "      buttonEl.style.display =\n",
              "        google.colab.kernel.accessAllowed ? 'block' : 'none';\n",
              "\n",
              "      async function convertToInteractive(key) {\n",
              "        const element = document.querySelector('#df-4227c23d-9911-4ab6-b0ea-9dcb1b63e04f');\n",
              "        const dataTable =\n",
              "          await google.colab.kernel.invokeFunction('convertToInteractive',\n",
              "                                                    [key], {});\n",
              "        if (!dataTable) return;\n",
              "\n",
              "        const docLinkHtml = 'Like what you see? Visit the ' +\n",
              "          '<a target=\"_blank\" href=https://colab.research.google.com/notebooks/data_table.ipynb>data table notebook</a>'\n",
              "          + ' to learn more about interactive tables.';\n",
              "        element.innerHTML = '';\n",
              "        dataTable['output_type'] = 'display_data';\n",
              "        await google.colab.output.renderOutput(dataTable, element);\n",
              "        const docLink = document.createElement('div');\n",
              "        docLink.innerHTML = docLinkHtml;\n",
              "        element.appendChild(docLink);\n",
              "      }\n",
              "    </script>\n",
              "  </div>\n",
              "\n",
              "\n",
              "<div id=\"df-78a82c22-e9d9-407b-bbab-4442bd4b1ca6\">\n",
              "  <button class=\"colab-df-quickchart\" onclick=\"quickchart('df-78a82c22-e9d9-407b-bbab-4442bd4b1ca6')\"\n",
              "            title=\"Suggest charts\"\n",
              "            style=\"display:none;\">\n",
              "\n",
              "<svg xmlns=\"http://www.w3.org/2000/svg\" height=\"24px\"viewBox=\"0 0 24 24\"\n",
              "     width=\"24px\">\n",
              "    <g>\n",
              "        <path d=\"M19 3H5c-1.1 0-2 .9-2 2v14c0 1.1.9 2 2 2h14c1.1 0 2-.9 2-2V5c0-1.1-.9-2-2-2zM9 17H7v-7h2v7zm4 0h-2V7h2v10zm4 0h-2v-4h2v4z\"/>\n",
              "    </g>\n",
              "</svg>\n",
              "  </button>\n",
              "\n",
              "<style>\n",
              "  .colab-df-quickchart {\n",
              "      --bg-color: #E8F0FE;\n",
              "      --fill-color: #1967D2;\n",
              "      --hover-bg-color: #E2EBFA;\n",
              "      --hover-fill-color: #174EA6;\n",
              "      --disabled-fill-color: #AAA;\n",
              "      --disabled-bg-color: #DDD;\n",
              "  }\n",
              "\n",
              "  [theme=dark] .colab-df-quickchart {\n",
              "      --bg-color: #3B4455;\n",
              "      --fill-color: #D2E3FC;\n",
              "      --hover-bg-color: #434B5C;\n",
              "      --hover-fill-color: #FFFFFF;\n",
              "      --disabled-bg-color: #3B4455;\n",
              "      --disabled-fill-color: #666;\n",
              "  }\n",
              "\n",
              "  .colab-df-quickchart {\n",
              "    background-color: var(--bg-color);\n",
              "    border: none;\n",
              "    border-radius: 50%;\n",
              "    cursor: pointer;\n",
              "    display: none;\n",
              "    fill: var(--fill-color);\n",
              "    height: 32px;\n",
              "    padding: 0;\n",
              "    width: 32px;\n",
              "  }\n",
              "\n",
              "  .colab-df-quickchart:hover {\n",
              "    background-color: var(--hover-bg-color);\n",
              "    box-shadow: 0 1px 2px rgba(60, 64, 67, 0.3), 0 1px 3px 1px rgba(60, 64, 67, 0.15);\n",
              "    fill: var(--button-hover-fill-color);\n",
              "  }\n",
              "\n",
              "  .colab-df-quickchart-complete:disabled,\n",
              "  .colab-df-quickchart-complete:disabled:hover {\n",
              "    background-color: var(--disabled-bg-color);\n",
              "    fill: var(--disabled-fill-color);\n",
              "    box-shadow: none;\n",
              "  }\n",
              "\n",
              "  .colab-df-spinner {\n",
              "    border: 2px solid var(--fill-color);\n",
              "    border-color: transparent;\n",
              "    border-bottom-color: var(--fill-color);\n",
              "    animation:\n",
              "      spin 1s steps(1) infinite;\n",
              "  }\n",
              "\n",
              "  @keyframes spin {\n",
              "    0% {\n",
              "      border-color: transparent;\n",
              "      border-bottom-color: var(--fill-color);\n",
              "      border-left-color: var(--fill-color);\n",
              "    }\n",
              "    20% {\n",
              "      border-color: transparent;\n",
              "      border-left-color: var(--fill-color);\n",
              "      border-top-color: var(--fill-color);\n",
              "    }\n",
              "    30% {\n",
              "      border-color: transparent;\n",
              "      border-left-color: var(--fill-color);\n",
              "      border-top-color: var(--fill-color);\n",
              "      border-right-color: var(--fill-color);\n",
              "    }\n",
              "    40% {\n",
              "      border-color: transparent;\n",
              "      border-right-color: var(--fill-color);\n",
              "      border-top-color: var(--fill-color);\n",
              "    }\n",
              "    60% {\n",
              "      border-color: transparent;\n",
              "      border-right-color: var(--fill-color);\n",
              "    }\n",
              "    80% {\n",
              "      border-color: transparent;\n",
              "      border-right-color: var(--fill-color);\n",
              "      border-bottom-color: var(--fill-color);\n",
              "    }\n",
              "    90% {\n",
              "      border-color: transparent;\n",
              "      border-bottom-color: var(--fill-color);\n",
              "    }\n",
              "  }\n",
              "</style>\n",
              "\n",
              "  <script>\n",
              "    async function quickchart(key) {\n",
              "      const quickchartButtonEl =\n",
              "        document.querySelector('#' + key + ' button');\n",
              "      quickchartButtonEl.disabled = true;  // To prevent multiple clicks.\n",
              "      quickchartButtonEl.classList.add('colab-df-spinner');\n",
              "      try {\n",
              "        const charts = await google.colab.kernel.invokeFunction(\n",
              "            'suggestCharts', [key], {});\n",
              "      } catch (error) {\n",
              "        console.error('Error during call to suggestCharts:', error);\n",
              "      }\n",
              "      quickchartButtonEl.classList.remove('colab-df-spinner');\n",
              "      quickchartButtonEl.classList.add('colab-df-quickchart-complete');\n",
              "    }\n",
              "    (() => {\n",
              "      let quickchartButtonEl =\n",
              "        document.querySelector('#df-78a82c22-e9d9-407b-bbab-4442bd4b1ca6 button');\n",
              "      quickchartButtonEl.style.display =\n",
              "        google.colab.kernel.accessAllowed ? 'block' : 'none';\n",
              "    })();\n",
              "  </script>\n",
              "</div>\n",
              "\n",
              "  <div id=\"id_2f82f583-fdcf-47c5-a57e-216f9b794328\">\n",
              "    <style>\n",
              "      .colab-df-generate {\n",
              "        background-color: #E8F0FE;\n",
              "        border: none;\n",
              "        border-radius: 50%;\n",
              "        cursor: pointer;\n",
              "        display: none;\n",
              "        fill: #1967D2;\n",
              "        height: 32px;\n",
              "        padding: 0 0 0 0;\n",
              "        width: 32px;\n",
              "      }\n",
              "\n",
              "      .colab-df-generate:hover {\n",
              "        background-color: #E2EBFA;\n",
              "        box-shadow: 0px 1px 2px rgba(60, 64, 67, 0.3), 0px 1px 3px 1px rgba(60, 64, 67, 0.15);\n",
              "        fill: #174EA6;\n",
              "      }\n",
              "\n",
              "      [theme=dark] .colab-df-generate {\n",
              "        background-color: #3B4455;\n",
              "        fill: #D2E3FC;\n",
              "      }\n",
              "\n",
              "      [theme=dark] .colab-df-generate:hover {\n",
              "        background-color: #434B5C;\n",
              "        box-shadow: 0px 1px 3px 1px rgba(0, 0, 0, 0.15);\n",
              "        filter: drop-shadow(0px 1px 2px rgba(0, 0, 0, 0.3));\n",
              "        fill: #FFFFFF;\n",
              "      }\n",
              "    </style>\n",
              "    <button class=\"colab-df-generate\" onclick=\"generateWithVariable('df')\"\n",
              "            title=\"Generate code using this dataframe.\"\n",
              "            style=\"display:none;\">\n",
              "\n",
              "  <svg xmlns=\"http://www.w3.org/2000/svg\" height=\"24px\"viewBox=\"0 0 24 24\"\n",
              "       width=\"24px\">\n",
              "    <path d=\"M7,19H8.4L18.45,9,17,7.55,7,17.6ZM5,21V16.75L18.45,3.32a2,2,0,0,1,2.83,0l1.4,1.43a1.91,1.91,0,0,1,.58,1.4,1.91,1.91,0,0,1-.58,1.4L9.25,21ZM18.45,9,17,7.55Zm-12,3A5.31,5.31,0,0,0,4.9,8.1,5.31,5.31,0,0,0,1,6.5,5.31,5.31,0,0,0,4.9,4.9,5.31,5.31,0,0,0,6.5,1,5.31,5.31,0,0,0,8.1,4.9,5.31,5.31,0,0,0,12,6.5,5.46,5.46,0,0,0,6.5,12Z\"/>\n",
              "  </svg>\n",
              "    </button>\n",
              "    <script>\n",
              "      (() => {\n",
              "      const buttonEl =\n",
              "        document.querySelector('#id_2f82f583-fdcf-47c5-a57e-216f9b794328 button.colab-df-generate');\n",
              "      buttonEl.style.display =\n",
              "        google.colab.kernel.accessAllowed ? 'block' : 'none';\n",
              "\n",
              "      buttonEl.onclick = () => {\n",
              "        google.colab.notebook.generateWithVariable('df');\n",
              "      }\n",
              "      })();\n",
              "    </script>\n",
              "  </div>\n",
              "\n",
              "    </div>\n",
              "  </div>\n"
            ],
            "text/plain": [
              "                                               statement  status\n",
              "9265   Basically, my brother has been talking about w...       1\n",
              "14110  haha xd i do not have friends :'( I really wis...       1\n",
              "23126  To begin with my life is a mistakeI did not as...       1\n",
              "35566  Buspar, how long? I started taking 7.5 mg of B...       1\n",
              "6090   pi en ice don't understand the meaning of time...       0\n",
              "...                                                  ...     ...\n",
              "7407   I am slowly realizing that life just was not m...       1\n",
              "410    so it's like this.. the authors never wanted t...       1\n",
              "49145  Mental Health or Money I could make a ridiculo...       1\n",
              "6195        â let's be mutual with gamora's father, cung       0\n",
              "34851  Glass baby food jar thrown at me hit back of m...       1\n",
              "\n",
              "[52681 rows x 2 columns]"
            ]
          },
          "execution_count": 9,
          "metadata": {},
          "output_type": "execute_result"
        }
      ],
      "source": [
        "#shuffle the data\n",
        "random.seed(1234)\n",
        "df = shuffle(df)\n",
        "df"
      ]
    },
    {
      "cell_type": "markdown",
      "metadata": {
        "id": "RLvH1uvrlq16"
      },
      "source": [
        "After bacis cleaning dropping the NULLs, the data contains 52681 records with 2 columns, statement \\(text\\) and status \\(status\\) .\n",
        "There are 7 unique status, as we are going to do binary classification here, we turn all mentl health issues to '1' and normal to 0"
      ]
    },
    {
      "cell_type": "markdown",
      "metadata": {
        "id": "lt1EXEwehKDV"
      },
      "source": [
        "# 3.Modeling"
      ]
    },
    {
      "cell_type": "markdown",
      "metadata": {
        "id": "3NXL0CRS1W2Z"
      },
      "source": [
        "## 3.1 Classical ML Models\n"
      ]
    },
    {
      "cell_type": "markdown",
      "metadata": {
        "id": "Uc2JWqJKBRwH"
      },
      "source": [
        "### 3.1.0 Pre-processing for classical ML Models"
      ]
    },
    {
      "cell_type": "code",
      "execution_count": null,
      "metadata": {
        "id": "mFeJfEiCEvX5"
      },
      "outputs": [],
      "source": [
        "#make a copy of data especially for classical ML Models\n",
        "df1 = df.copy()"
      ]
    },
    {
      "cell_type": "code",
      "execution_count": null,
      "metadata": {
        "id": "OOW3QEjsxon5"
      },
      "outputs": [],
      "source": [
        "# Step 1: Clean the Text\n",
        "# Purpose: Removes noise (e.g., special characters, extra spaces) that doesn't contribute to understanding the text's meaning.\n",
        "def clean_text(text):\n",
        "    \"\"\"Cleans input text from social media for NLP models.\n",
        "\n",
        "    Args:\n",
        "        text (str): The input text.\n",
        "\n",
        "    Returns:\n",
        "        str: The cleaned text.\n",
        "    \"\"\"\n",
        "    # Convert to lowercase\n",
        "    text = text.lower()\n",
        "\n",
        "    # Remove URLs\n",
        "    text = re.sub(r'http\\S+|www\\.\\S+', '', text)\n",
        "\n",
        "    # Remove mentions and hashtags\n",
        "    text = re.sub(r'@[A-Za-z0-9_]+', '', text)\n",
        "    text = re.sub(r'#\\w+', '', text)\n",
        "\n",
        "    # Remove HTML tags\n",
        "    text = re.sub(r'<.*?>', '', text)\n",
        "\n",
        "    # Remove special characters, punctuation, and numbers\n",
        "    text = re.sub(r'[^a-zA-Z\\s]', '', text)\n",
        "\n",
        "    # Remove extra whitespace\n",
        "    text = re.sub(r'\\s+', ' ', text).strip()\n",
        "\n",
        "    return text\n",
        "\n",
        "df1['statement'] = df1['statement'].apply(clean_text)"
      ]
    },
    {
      "cell_type": "code",
      "execution_count": null,
      "metadata": {
        "id": "LrC-ovG2Fnel"
      },
      "outputs": [],
      "source": [
        "#Step 2: stopwords removal\n",
        "#Stop words (e.g., \"and\", \"is\", \"the\") do not carry much meaning and can be removed to reduce noise.\n",
        "stop_words = set(stopwords.words('english'))\n",
        "df1['statement'] = df1['statement'].apply(lambda x: ' '.join([word for word in x.split() if word not in stop_words]))"
      ]
    },
    {
      "cell_type": "code",
      "execution_count": null,
      "metadata": {
        "id": "XaML7wspGU4q"
      },
      "outputs": [],
      "source": [
        "#Step 3：lemmatize\n",
        "# Reduces words to their base or root forms, ensuring that variations of the same word are treated equally (e.g., \"running\", \"runs\", \"ran\" → \"run\").\n",
        "lemmatizer = WordNetLemmatizer()\n",
        "df1['statement'] = df1['statement'].apply(lambda x: ' '.join([lemmatizer.lemmatize(word) for word in x.split()]))\n"
      ]
    },
    {
      "cell_type": "code",
      "execution_count": null,
      "metadata": {
        "id": "Lkp9ofk2SKnc"
      },
      "outputs": [],
      "source": [
        "#Step 4: Train-Test Split\n",
        "#Random sample with seed, use 20% data for test, 60% data for train,20% data for validation\n",
        "X1 = df1['statement']\n",
        "y1 = df1['status']\n",
        "\n",
        "# Initial train-test split\n",
        "X_train_1, X_test_1, y_train_1, y_test_1 = train_test_split(\n",
        "    X1.tolist(), y1.tolist(), test_size=0.2, random_state=42\n",
        ")\n",
        "\n",
        "# Further split training data into training and validation sets\n",
        "X_train_1, X_val_1, y_train_1, y_val_1 = train_test_split(\n",
        "    X_train_1, y_train_1, test_size=0.25, random_state=42  # for validation: 0.25 * 0.8 = 0.2 of original data\n",
        ")\n"
      ]
    },
    {
      "cell_type": "code",
      "execution_count": null,
      "metadata": {
        "id": "6mfHuUiqVFyX"
      },
      "outputs": [],
      "source": [
        "# Step 5: TF-IDF Vectorization\n",
        "#Converts raw text into numerical features for input to ML models\n",
        "tfidf = TfidfVectorizer(stop_words='english', max_features=1000, ngram_range=(1, 2))\n",
        "X_train_tfidf_1 = tfidf.fit_transform(X_train_1)  # Fit on training data\n",
        "X_test_tfidf_1 = tfidf.transform(X_test_1)       # Transform test data\n",
        "\n",
        "# Initialize the TF-IDF Vectorizer\n",
        "tfidf = TfidfVectorizer(max_features=10000, stop_words='english')\n",
        "\n",
        "# Fit TF-IDF on training data\n",
        "tfidf.fit(X_train_1)\n",
        "\n",
        "# Transform train, validation, and test sets\n",
        "X_train_1= tfidf.transform(X_train_1)\n",
        "X_val_1 = tfidf.transform(X_val_1)\n",
        "X_test_1 = tfidf.transform(X_test_1)\n"
      ]
    },
    {
      "cell_type": "code",
      "execution_count": null,
      "metadata": {
        "colab": {
          "base_uri": "https://localhost:8080/",
          "height": 807
        },
        "id": "B_kZxEcbWBwv",
        "outputId": "ddf66a19-5d09-4dec-e17e-8ef67746494d"
      },
      "outputs": [
        {
          "data": {
            "image/png": "[encoded data removed]",
            "text/plain": [
              "<Figure size 1200x800 with 1 Axes>"
            ]
          },
          "metadata": {},
          "output_type": "display_data"
        }
      ],
      "source": [
        "# As shown by below plot, there are 36338 'abnormal' while just 16343 'normal', which means there are class-imbalance issues\n",
        "# Therefore, we would need to balance the class distribution in the training, we would try to do this by adjust class weights during training\n",
        "plt.figure(figsize=(12,8))\n",
        "status_counts = df1['status'].value_counts()\n",
        "ax = status_counts.plot(kind='bar')\n",
        "for i, v in enumerate(status_counts):\n",
        "    ax.text(i, v, str(v), ha='center', va='bottom')\n",
        "\n",
        "plt.title('Statement distribution by status')\n",
        "plt.xlabel('Status')\n",
        "plt.ylabel('Count')\n",
        "plt.tight_layout()\n",
        "plt.show()"
      ]
    },
    {
      "cell_type": "code",
      "execution_count": null,
      "metadata": {
        "id": "fYN8M6sHWvyQ"
      },
      "outputs": [],
      "source": [
        "#SMOTE technique used to resample the class - Do not do it - SMOTE is not giving reasonable result\n",
        "#smote = SMOTE(random_state=42)\n",
        "#X_train_resampled_1, y_train_resampled_1 = smote.fit_resample(X_train_tfidf_1, y_train_1)"
      ]
    },
    {
      "cell_type": "markdown",
      "metadata": {
        "id": "C7Y2b0vD8mU7"
      },
      "source": [
        "### 3.1.1 SVM"
      ]
    },
    {
      "cell_type": "code",
      "execution_count": null,
      "metadata": {
        "colab": {
          "background_save": true,
          "base_uri": "https://localhost:8080/"
        },
        "id": "zS6fjqU08p78",
        "outputId": "f261db78-f1db-4496-e45b-a5bf2b2377b8"
      },
      "outputs": [
        {
          "name": "stdout",
          "output_type": "stream",
          "text": [
            "Validation F1-Score for C=0.1, kernel=linear, class_weight=balanced, gamma=scale: 0.9121\n",
            "Validation F1-Score for C=0.1, kernel=linear, class_weight=balanced, gamma=auto: 0.9121\n",
            "Validation F1-Score for C=0.1, kernel=linear, class_weight=None, gamma=scale: 0.9266\n",
            "Validation F1-Score for C=0.1, kernel=linear, class_weight=None, gamma=auto: 0.9266\n",
            "Validation F1-Score for C=0.1, kernel=rbf, class_weight=balanced, gamma=scale: 0.8875\n",
            "Validation F1-Score for C=0.1, kernel=rbf, class_weight=balanced, gamma=auto: 0.1455\n",
            "Validation F1-Score for C=0.1, kernel=rbf, class_weight=None, gamma=scale: 0.9197\n",
            "Validation F1-Score for C=0.1, kernel=rbf, class_weight=None, gamma=auto: 0.5653\n",
            "Validation F1-Score for C=1, kernel=linear, class_weight=balanced, gamma=scale: 0.9307\n",
            "Validation F1-Score for C=1, kernel=linear, class_weight=balanced, gamma=auto: 0.9307\n",
            "Validation F1-Score for C=1, kernel=linear, class_weight=None, gamma=scale: 0.9344\n",
            "Validation F1-Score for C=1, kernel=linear, class_weight=None, gamma=auto: 0.9344\n",
            "Validation F1-Score for C=1, kernel=rbf, class_weight=balanced, gamma=scale: 0.9361\n",
            "Validation F1-Score for C=1, kernel=rbf, class_weight=balanced, gamma=auto: 0.1455\n",
            "Validation F1-Score for C=1, kernel=rbf, class_weight=None, gamma=scale: 0.9393\n",
            "Validation F1-Score for C=1, kernel=rbf, class_weight=None, gamma=auto: 0.5653\n",
            "Validation F1-Score for C=10, kernel=linear, class_weight=balanced, gamma=scale: 0.9193\n",
            "Validation F1-Score for C=10, kernel=linear, class_weight=balanced, gamma=auto: 0.9193\n",
            "Validation F1-Score for C=10, kernel=linear, class_weight=None, gamma=scale: 0.9226\n",
            "Validation F1-Score for C=10, kernel=linear, class_weight=None, gamma=auto: 0.9226\n",
            "Validation F1-Score for C=10, kernel=rbf, class_weight=balanced, gamma=scale: 0.9385\n",
            "Validation F1-Score for C=10, kernel=rbf, class_weight=balanced, gamma=auto: 0.5815\n",
            "Validation F1-Score for C=10, kernel=rbf, class_weight=None, gamma=scale: 0.9387\n",
            "Validation F1-Score for C=10, kernel=rbf, class_weight=None, gamma=auto: 0.5653\n",
            "Total Parameter Tuning Time: 4681.96 seconds\n",
            "\n",
            "Best Hyperparameters: {'C': 1, 'kernel': 'rbf', 'class_weight': None, 'gamma': 'scale'}\n",
            "Best Validation F1-Score: 0.9393478912811632\n"
          ]
        }
      ],
      "source": [
        "random.seed(1234)\n",
        "\n",
        "# Define parameter grid\n",
        "param_grid = {\n",
        "    'C': [0.1, 1, 10],           # Regularization strength\n",
        "    'kernel': ['linear', 'rbf'],    # Kernel types\n",
        "    'class_weight': ['balanced', None],    # Handle class imbalance\n",
        "    'gamma': ['scale', 'auto'],            # Kernel coefficient\n",
        "}\n",
        "\n",
        "# Initialize variables to track the best model and parameters\n",
        "best_f1 = 0\n",
        "best_model = None\n",
        "best_params = None\n",
        "\n",
        "# Start timer\n",
        "start_time = time.time()\n",
        "\n",
        "# Iterate through all combinations of parameters\n",
        "for C, kernel, class_weight, gamma in product(param_grid['C'], param_grid['kernel'], param_grid['class_weight'], param_grid['gamma']):\n",
        "    try:\n",
        "        # Create the SVM model with current parameters\n",
        "        model = SVC(C=C, kernel=kernel, class_weight=class_weight, gamma=gamma, random_state=42)\n",
        "\n",
        "        # Train the model\n",
        "        model.fit(X_train_1, y_train_1)\n",
        "\n",
        "        # Validate the model on validation set\n",
        "        y_val_pred = model.predict(X_val_1)\n",
        "        f1 = f1_score(y_val_1, y_val_pred, average='weighted')\n",
        "        print(f\"Validation F1-Score for C={C}, kernel={kernel}, class_weight={class_weight}, gamma={gamma}: {f1:.4f}\")\n",
        "\n",
        "        # Update the best model if current one is better\n",
        "        if f1 > best_f1:\n",
        "            best_f1 = f1\n",
        "            best_model = model\n",
        "            best_params = {'C': C, 'kernel': kernel, 'class_weight': class_weight, 'gamma': gamma}\n",
        "    except Exception as e:\n",
        "        print(f\"Skipping combination C={C}, kernel={kernel}, class_weight={class_weight}, gamma={gamma} due to error: {e}\")\n",
        "\n",
        "# End timer\n",
        "end_time = time.time()\n",
        "total_time = end_time - start_time\n",
        "print(f\"Total Parameter Tuning Time: {total_time:.2f} seconds\")\n",
        "\n",
        "# Print the best parameters and F1 score on validation set\n",
        "print(\"\\nBest Hyperparameters:\", best_params)\n",
        "print(\"Best Validation F1-Score:\", best_f1)"
      ]
    },
    {
      "cell_type": "code",
      "execution_count": null,
      "metadata": {
        "colab": {
          "background_save": true
        },
        "id": "_eQh_eIH8uUg",
        "outputId": "fa681417-6cd5-4d4d-f9d7-1462bd20c9aa"
      },
      "outputs": [
        {
          "name": "stdout",
          "output_type": "stream",
          "text": [
            "\n",
            "Test Performance:\n",
            "              precision    recall  f1-score   support\n",
            "\n",
            "           0       0.90      0.90      0.90      3267\n",
            "           1       0.96      0.96      0.96      7270\n",
            "\n",
            "    accuracy                           0.94     10537\n",
            "   macro avg       0.93      0.93      0.93     10537\n",
            "weighted avg       0.94      0.94      0.94     10537\n",
            "\n"
          ]
        },
        {
          "data": {
            "text/plain": [
              "0.9401233445448035"
            ]
          },
          "execution_count": 36,
          "metadata": {},
          "output_type": "execute_result"
        }
      ],
      "source": [
        "# Evaluate the Model on test set, with best parameters found\n",
        "y_test_pred = best_model.predict(X_test_1)\n",
        "print(\"\\nTest Performance:\")\n",
        "print(classification_report(y_test_1, y_test_pred))\n",
        "f1_score(y_test_1, y_test_pred, average='weighted')"
      ]
    },
    {
      "cell_type": "code",
      "execution_count": null,
      "metadata": {
        "colab": {
          "background_save": true
        },
        "id": "2NHlgMQl81KU",
        "outputId": "27716852-9cd2-4910-e425-46bb6d7e5bac"
      },
      "outputs": [
        {
          "data": {
            "image/png": "[encoded data removed]",
            "text/plain": [
              "<Figure size 600x600 with 2 Axes>"
            ]
          },
          "metadata": {},
          "output_type": "display_data"
        },
        {
          "data": {
            "image/png": "[encoded data removed]",
            "text/plain": [
              "<Figure size 800x600 with 1 Axes>"
            ]
          },
          "metadata": {},
          "output_type": "display_data"
        }
      ],
      "source": [
        "# Confusion Matrix\n",
        "conf_matrix = confusion_matrix(y_test_1, y_test_pred)\n",
        "plt.figure(figsize=(6, 6))\n",
        "sns.heatmap(conf_matrix, annot=True, fmt='d', cmap='Blues', xticklabels=['No Issue', 'Issue'], yticklabels=['No Issue', 'Issue'])\n",
        "plt.xlabel('Predicted')\n",
        "plt.ylabel('Actual')\n",
        "plt.title('Confusion Matrix - Binary : SVM')\n",
        "plt.show()\n",
        "\n",
        "# ROC Curve\n",
        "fpr, tpr, thresholds = roc_curve(y_test_1, y_test_pred)\n",
        "roc_auc = auc(fpr, tpr)\n",
        "\n",
        "plt.figure(figsize=(8, 6))\n",
        "plt.plot(fpr, tpr, label=f'AUC = {roc_auc:.2f}')\n",
        "plt.plot([0, 1], [0, 1], linestyle='--', color='gray')\n",
        "plt.xlabel('False Positive Rate')\n",
        "plt.ylabel('True Positive Rate')\n",
        "plt.title('ROC Curve -Binary: SVM')\n",
        "plt.legend(loc='lower right')\n",
        "plt.show()"
      ]
    },
    {
      "cell_type": "code",
      "execution_count": null,
      "metadata": {
        "id": "kuN5k-nNBRJH"
      },
      "outputs": [],
      "source": [
        "##feature importance if best model is linear\n",
        "# Check if the best model has a linear kernel\n",
        "if best_params['kernel'] == 'linear':\n",
        "    # Extract feature names\n",
        "    feature_names = X_train_1.columns if isinstance(X_train_1, pd.DataFrame) else [f'Feature {i}' for i in range(X_train_1.shape[1])]\n",
        "\n",
        "    # Extract coefficients\n",
        "    coefficients = best_model.coef_[0]\n",
        "\n",
        "    # Create a DataFrame for feature importance\n",
        "    importance_df = pd.DataFrame({\n",
        "        'Feature': feature_names,\n",
        "        'Coefficient': coefficients\n",
        "    })\n",
        "    # Add absolute value for sorting\n",
        "    importance_df['Importance (Abs)'] = importance_df['Coefficient'].abs()\n",
        "    # Sort by absolute importance\n",
        "    importance_df = importance_df.sort_values(by='Importance (Abs)', ascending=False)\n",
        "\n",
        "    # Select the top 10 most important features\n",
        "    top_10_features = importance_df.head(10)\n",
        "\n",
        "    # Plot feature importance\n",
        "    plt.figure(figsize=(10, 6))\n",
        "    plt.barh(top_10_features['Feature'], top_10_features['Coefficient'], color='skyblue')\n",
        "    plt.xlabel('Coefficient Value')\n",
        "    plt.ylabel('Feature')\n",
        "    plt.title('Top 10 Feature Importance (SVM with Linear Kernel)')\n",
        "    plt.gca().invert_yaxis()\n",
        "    plt.show()\n",
        "\n",
        "    # Print the DataFrame\n",
        "    print(top_10_features)\n",
        "else:\n",
        "    print(\"Feature importance is not directly available for non-linear kernels. Consider using SHAP or permutation importance.\")"
      ]
    },
    {
      "cell_type": "code",
      "execution_count": null,
      "metadata": {
        "id": "Cl-kQwXpBQfa"
      },
      "outputs": [],
      "source": [
        "##feature importance if best model is rbf\n",
        "import shap\n",
        "\n",
        "# Initialize SHAP explainer for SVM\n",
        "explainer = shap.Explainer(best_model, X_train_1)\n",
        "\n",
        "# Compute SHAP values for the test set\n",
        "shap_values = explainer(X_test_1)\n",
        "\n",
        "# Summary plot for feature importance\n",
        "shap.summary_plot(shap_values, X_test_1, feature_names=X_train_1.columns if isinstance(X_train_1, pd.DataFrame) else None)\n",
        "\n",
        "# Bar plot for average absolute SHAP values (top features)\n",
        "shap.summary_plot(shap_values, X_test_1, feature_names=X_train_1.columns if isinstance(X_train_1, pd.DataFrame) else None, plot_type=\"bar\")"
      ]
    },
    {
      "cell_type": "markdown",
      "metadata": {
        "id": "PewSwsEtYJmn"
      },
      "source": [
        "### 3.1.2 Logistic Regression"
      ]
    },
    {
      "cell_type": "code",
      "execution_count": null,
      "metadata": {
        "colab": {
          "base_uri": "https://localhost:8080/"
        },
        "id": "Wy9mgdEDYIjz",
        "outputId": "45a4a719-256f-444e-9217-ef13fcf030ec"
      },
      "outputs": [
        {
          "name": "stdout",
          "output_type": "stream",
          "text": [
            "Validation F1-Score for C=0.01, solver=liblinear, penalty=l2, class_weight=balanced: 0.8465\n",
            "Validation F1-Score for C=0.01, solver=liblinear, penalty=l2, class_weight=None: 0.5959\n",
            "Validation F1-Score for C=0.01, solver=lbfgs, penalty=l2, class_weight=balanced: 0.8435\n",
            "Validation F1-Score for C=0.01, solver=lbfgs, penalty=l2, class_weight=None: 0.5947\n",
            "Validation F1-Score for C=0.1, solver=liblinear, penalty=l2, class_weight=balanced: 0.8869\n",
            "Validation F1-Score for C=0.1, solver=liblinear, penalty=l2, class_weight=None: 0.9105\n",
            "Validation F1-Score for C=0.1, solver=lbfgs, penalty=l2, class_weight=balanced: 0.8868\n",
            "Validation F1-Score for C=0.1, solver=lbfgs, penalty=l2, class_weight=None: 0.9106\n",
            "Validation F1-Score for C=1, solver=liblinear, penalty=l2, class_weight=balanced: 0.9203\n",
            "Validation F1-Score for C=1, solver=liblinear, penalty=l2, class_weight=None: 0.9336\n",
            "Validation F1-Score for C=1, solver=lbfgs, penalty=l2, class_weight=balanced: 0.9204\n",
            "Validation F1-Score for C=1, solver=lbfgs, penalty=l2, class_weight=None: 0.9340\n",
            "Validation F1-Score for C=10, solver=liblinear, penalty=l2, class_weight=balanced: 0.9336\n",
            "Validation F1-Score for C=10, solver=liblinear, penalty=l2, class_weight=None: 0.9384\n",
            "Validation F1-Score for C=10, solver=lbfgs, penalty=l2, class_weight=balanced: 0.9339\n",
            "Validation F1-Score for C=10, solver=lbfgs, penalty=l2, class_weight=None: 0.9383\n",
            "Validation F1-Score for C=100, solver=liblinear, penalty=l2, class_weight=balanced: 0.9284\n",
            "Validation F1-Score for C=100, solver=liblinear, penalty=l2, class_weight=None: 0.9288\n",
            "Validation F1-Score for C=100, solver=lbfgs, penalty=l2, class_weight=balanced: 0.9298\n",
            "Validation F1-Score for C=100, solver=lbfgs, penalty=l2, class_weight=None: 0.9296\n",
            "Total Parameter Tuning Time: 7.33 seconds\n",
            "\n",
            "Best Hyperparameters: {'C': 10, 'solver': 'liblinear', 'penalty': 'l2', 'class_weight': None}\n",
            "Best Validation F1-Score: 0.938357432119098\n"
          ]
        }
      ],
      "source": [
        "# Define parameter grid\n",
        "\n",
        "random.seed(1234)\n",
        "\n",
        "param_grid = {\n",
        "    'C': [0.01, 0.1, 1, 10, 100],       # Regularization strength\n",
        "    'solver': ['liblinear', 'lbfgs'],   # Optimization algorithms\n",
        "    'penalty': ['l2'],                  # Regularization type\n",
        "    'class_weight': ['balanced',None]  # Handle class imbalance - balanced is a choice to adjust class weights according to class frequency\n",
        "}\n",
        "\n",
        "# Grid search\n",
        "best_f1 = 0\n",
        "best_model = None\n",
        "best_params = None\n",
        "\n",
        "# Start timer\n",
        "start_time = time.time()\n",
        "\n",
        "# Iterate through all combinations of parameters, find the best params that works the best on validation set - primary metric: F1\n",
        "for C, solver, penalty, class_weight in product(param_grid['C'], param_grid['solver'], param_grid['penalty'], param_grid['class_weight']):\n",
        "    try:\n",
        "        # Create the model with current parameters\n",
        "        model = LogisticRegression(C=C, solver=solver, penalty=penalty, class_weight=class_weight, random_state=42, max_iter=1000)\n",
        "\n",
        "        # Train the model\n",
        "        model.fit(X_train_1, y_train_1)\n",
        "\n",
        "        # Validate the model on validation set\n",
        "        y_val_pred = model.predict(X_val_1)\n",
        "        f1 = f1_score(y_val_1, y_val_pred,average='weighted')\n",
        "        print(f\"Validation F1-Score for C={C}, solver={solver}, penalty={penalty}, class_weight={class_weight}: {f1:.4f}\")\n",
        "\n",
        "        # Update the best model if current one is better\n",
        "        if f1 > best_f1:\n",
        "            best_f1 = f1\n",
        "            best_model = model\n",
        "            best_params = {'C': C, 'solver': solver, 'penalty': penalty, 'class_weight': class_weight}\n",
        "    except Exception as e:\n",
        "        print(f\"Skipping combination C={C}, solver={solver}, penalty={penalty}, class_weight={class_weight} due to error: {e}\")\n",
        "\n",
        "# End timer\n",
        "end_time = time.time()\n",
        "total_time = end_time - start_time\n",
        "print(f\"Total Parameter Tuning Time: {total_time:.2f} seconds\")\n",
        "\n",
        "# Print the best parameters and F1 score on validation set\n",
        "print(\"\\nBest Hyperparameters:\", best_params)\n",
        "print(\"Best Validation F1-Score:\", best_f1)"
      ]
    },
    {
      "cell_type": "code",
      "execution_count": null,
      "metadata": {
        "colab": {
          "base_uri": "https://localhost:8080/"
        },
        "id": "wS5Iw8oXZZlh",
        "outputId": "f6c6829b-b911-4f15-d1c7-0c553e30231f"
      },
      "outputs": [
        {
          "name": "stdout",
          "output_type": "stream",
          "text": [
            "\n",
            "Test Performance:\n",
            "              precision    recall  f1-score   support\n",
            "\n",
            "           0       0.88      0.90      0.89      3197\n",
            "           1       0.96      0.95      0.95      7340\n",
            "\n",
            "    accuracy                           0.93     10537\n",
            "   macro avg       0.92      0.93      0.92     10537\n",
            "weighted avg       0.93      0.93      0.93     10537\n",
            "\n"
          ]
        }
      ],
      "source": [
        "# Evaluate the Model on test set, with best parameters found\n",
        "y_test_pred = best_model.predict(X_test_1)\n",
        "print(\"\\nTest Performance:\")\n",
        "print(classification_report(y_test_1, y_test_pred))"
      ]
    },
    {
      "cell_type": "code",
      "execution_count": null,
      "metadata": {
        "colab": {
          "base_uri": "https://localhost:8080/"
        },
        "id": "lq_Ie-abhQBz",
        "outputId": "df121061-8cdd-4c34-bec2-1b92fd4520c8"
      },
      "outputs": [
        {
          "data": {
            "text/plain": [
              "0.9343467743707984"
            ]
          },
          "execution_count": 20,
          "metadata": {},
          "output_type": "execute_result"
        }
      ],
      "source": [
        "f1_score(y_test_1, y_test_pred,average='weighted')"
      ]
    },
    {
      "cell_type": "code",
      "execution_count": null,
      "metadata": {
        "colab": {
          "base_uri": "https://localhost:8080/",
          "height": 1000
        },
        "id": "YH1JRvd3ZZzb",
        "outputId": "7956089b-5924-47c4-d026-43dbe91ab833"
      },
      "outputs": [
        {
          "data": {
            "image/png": "[encoded data removed]",
            "text/plain": [
              "<Figure size 600x600 with 2 Axes>"
            ]
          },
          "metadata": {},
          "output_type": "display_data"
        },
        {
          "data": {
            "image/png": "[encoded data removed]",
            "text/plain": [
              "<Figure size 800x600 with 1 Axes>"
            ]
          },
          "metadata": {},
          "output_type": "display_data"
        }
      ],
      "source": [
        "# Confusion Matrix\n",
        "conf_matrix = confusion_matrix(y_test_1, y_test_pred)\n",
        "plt.figure(figsize=(6, 6))\n",
        "sns.heatmap(conf_matrix, annot=True, fmt='d', cmap='Blues', xticklabels=['No Issue', 'Issue'], yticklabels=['No Issue', 'Issue'])\n",
        "plt.xlabel('Predicted')\n",
        "plt.ylabel('Actual')\n",
        "plt.title('Confusion Matrix - Binary : Logistic Regression')\n",
        "plt.show()\n",
        "\n",
        "# ROC Curve\n",
        "fpr, tpr, thresholds = roc_curve(y_test_1, y_test_pred)\n",
        "roc_auc = auc(fpr, tpr)\n",
        "\n",
        "plt.figure(figsize=(8, 6))\n",
        "plt.plot(fpr, tpr, label=f'AUC = {roc_auc:.2f}')\n",
        "plt.plot([0, 1], [0, 1], linestyle='--', color='gray')\n",
        "plt.xlabel('False Positive Rate')\n",
        "plt.ylabel('True Positive Rate')\n",
        "plt.title('ROC Curve - Binary: Logistic Regression')\n",
        "plt.legend(loc='lower right')\n",
        "plt.show()"
      ]
    },
    {
      "cell_type": "code",
      "execution_count": null,
      "metadata": {
        "colab": {
          "base_uri": "https://localhost:8080/",
          "height": 755
        },
        "id": "SPkWucjl9vX9",
        "outputId": "df299736-e8cd-4dd5-9aca-96b98f36b016"
      },
      "outputs": [
        {
          "data": {
            "image/png": "[encoded data removed]",
            "text/plain": [
              "<Figure size 1000x600 with 1 Axes>"
            ]
          },
          "metadata": {},
          "output_type": "display_data"
        },
        {
          "name": "stdout",
          "output_type": "stream",
          "text": [
            "           Feature  Coefficient  Importance (Abs)\n",
            "2281  Feature 2281    23.500958         23.500958\n",
            "8582  Feature 8582    13.609974         13.609974\n",
            "7370  Feature 7370    12.924765         12.924765\n",
            "412    Feature 412    11.299318         11.299318\n",
            "416    Feature 416    11.198247         11.198247\n",
            "2385  Feature 2385    11.096084         11.096084\n",
            "2277  Feature 2277    10.113492         10.113492\n",
            "8580  Feature 8580     9.961314          9.961314\n",
            "908    Feature 908     9.913335          9.913335\n",
            "5802  Feature 5802     9.662707          9.662707\n"
          ]
        }
      ],
      "source": [
        "# Extract feature names\n",
        "feature_names = X_train_1.columns if isinstance(X_train_1, pd.DataFrame) else [f'Feature {i}' for i in range(X_train_1.shape[1])]\n",
        "\n",
        "# Extract the coefficients from the best model\n",
        "coefficients = best_model.coef_[0]\n",
        "\n",
        "# Create a DataFrame to store feature names and their corresponding coefficients\n",
        "importance_df = pd.DataFrame({\n",
        "    'Feature': feature_names,\n",
        "    'Coefficient': coefficients\n",
        "})\n",
        "\n",
        "# Add an absolute value column to sort features by their importance\n",
        "importance_df['Importance (Abs)'] = importance_df['Coefficient'].abs()\n",
        "\n",
        "importance_df = importance_df.sort_values(by='Importance (Abs)', ascending=False)\n",
        "\n",
        "# Select the top 10 most important features\n",
        "top_10_features = importance_df.head(10)\n",
        "\n",
        "# Plot the top 10 features\n",
        "plt.figure(figsize=(10, 6))\n",
        "plt.barh(top_10_features['Feature'], top_10_features['Coefficient'], color='skyblue')\n",
        "plt.xlabel('Coefficient Value')\n",
        "plt.ylabel('Feature')\n",
        "plt.title('Top 10 Feature Importance (Logistic Regression Coefficients)')\n",
        "plt.gca().invert_yaxis()  # Invert y-axis to show the most important features at the top\n",
        "plt.show()\n",
        "\n",
        "# Print the top 10 feature importance DataFrame for reference\n",
        "print(top_10_features)"
      ]
    },
    {
      "cell_type": "markdown",
      "metadata": {
        "id": "OOFKjTzEZgwT"
      },
      "source": [
        "### 3.1.3 Random Forest"
      ]
    },
    {
      "cell_type": "code",
      "execution_count": null,
      "metadata": {
        "colab": {
          "base_uri": "https://localhost:8080/"
        },
        "id": "EbqoFotQffYJ",
        "outputId": "c87b0e43-e0f4-4eb7-aa94-ca439c5957ca"
      },
      "outputs": [
        {
          "name": "stdout",
          "output_type": "stream",
          "text": [
            "Validation F1-Score for n_estimators=50, max_depth=10, min_samples_split=2, min_samples_leaf=1, class_weight=None: 0.7668\n",
            "Validation F1-Score for n_estimators=50, max_depth=10, min_samples_split=2, min_samples_leaf=1, class_weight=balanced: 0.8334\n",
            "Validation F1-Score for n_estimators=50, max_depth=10, min_samples_split=2, min_samples_leaf=2, class_weight=None: 0.7716\n",
            "Validation F1-Score for n_estimators=50, max_depth=10, min_samples_split=2, min_samples_leaf=2, class_weight=balanced: 0.8321\n",
            "Validation F1-Score for n_estimators=50, max_depth=10, min_samples_split=2, min_samples_leaf=4, class_weight=None: 0.7746\n",
            "Validation F1-Score for n_estimators=50, max_depth=10, min_samples_split=2, min_samples_leaf=4, class_weight=balanced: 0.8298\n",
            "Validation F1-Score for n_estimators=50, max_depth=10, min_samples_split=5, min_samples_leaf=1, class_weight=None: 0.7683\n",
            "Validation F1-Score for n_estimators=50, max_depth=10, min_samples_split=5, min_samples_leaf=1, class_weight=balanced: 0.8325\n",
            "Validation F1-Score for n_estimators=50, max_depth=10, min_samples_split=5, min_samples_leaf=2, class_weight=None: 0.7760\n",
            "Validation F1-Score for n_estimators=50, max_depth=10, min_samples_split=5, min_samples_leaf=2, class_weight=balanced: 0.8324\n",
            "Validation F1-Score for n_estimators=50, max_depth=10, min_samples_split=5, min_samples_leaf=4, class_weight=None: 0.7746\n",
            "Validation F1-Score for n_estimators=50, max_depth=10, min_samples_split=5, min_samples_leaf=4, class_weight=balanced: 0.8298\n",
            "Validation F1-Score for n_estimators=50, max_depth=10, min_samples_split=10, min_samples_leaf=1, class_weight=None: 0.7682\n",
            "Validation F1-Score for n_estimators=50, max_depth=10, min_samples_split=10, min_samples_leaf=1, class_weight=balanced: 0.8321\n",
            "Validation F1-Score for n_estimators=50, max_depth=10, min_samples_split=10, min_samples_leaf=2, class_weight=None: 0.7712\n",
            "Validation F1-Score for n_estimators=50, max_depth=10, min_samples_split=10, min_samples_leaf=2, class_weight=balanced: 0.8311\n",
            "Validation F1-Score for n_estimators=50, max_depth=10, min_samples_split=10, min_samples_leaf=4, class_weight=None: 0.7746\n",
            "Validation F1-Score for n_estimators=50, max_depth=10, min_samples_split=10, min_samples_leaf=4, class_weight=balanced: 0.8294\n",
            "Validation F1-Score for n_estimators=50, max_depth=20, min_samples_split=2, min_samples_leaf=1, class_weight=None: 0.8887\n",
            "Validation F1-Score for n_estimators=50, max_depth=20, min_samples_split=2, min_samples_leaf=1, class_weight=balanced: 0.8620\n",
            "Validation F1-Score for n_estimators=50, max_depth=20, min_samples_split=2, min_samples_leaf=2, class_weight=None: 0.8912\n",
            "Validation F1-Score for n_estimators=50, max_depth=20, min_samples_split=2, min_samples_leaf=2, class_weight=balanced: 0.8608\n",
            "Validation F1-Score for n_estimators=50, max_depth=20, min_samples_split=2, min_samples_leaf=4, class_weight=None: 0.8926\n",
            "Validation F1-Score for n_estimators=50, max_depth=20, min_samples_split=2, min_samples_leaf=4, class_weight=balanced: 0.8585\n",
            "Validation F1-Score for n_estimators=50, max_depth=20, min_samples_split=5, min_samples_leaf=1, class_weight=None: 0.8883\n",
            "Validation F1-Score for n_estimators=50, max_depth=20, min_samples_split=5, min_samples_leaf=1, class_weight=balanced: 0.8626\n",
            "Validation F1-Score for n_estimators=50, max_depth=20, min_samples_split=5, min_samples_leaf=2, class_weight=None: 0.8906\n",
            "Validation F1-Score for n_estimators=50, max_depth=20, min_samples_split=5, min_samples_leaf=2, class_weight=balanced: 0.8603\n",
            "Validation F1-Score for n_estimators=50, max_depth=20, min_samples_split=5, min_samples_leaf=4, class_weight=None: 0.8926\n",
            "Validation F1-Score for n_estimators=50, max_depth=20, min_samples_split=5, min_samples_leaf=4, class_weight=balanced: 0.8585\n",
            "Validation F1-Score for n_estimators=50, max_depth=20, min_samples_split=10, min_samples_leaf=1, class_weight=None: 0.8889\n",
            "Validation F1-Score for n_estimators=50, max_depth=20, min_samples_split=10, min_samples_leaf=1, class_weight=balanced: 0.8611\n",
            "Validation F1-Score for n_estimators=50, max_depth=20, min_samples_split=10, min_samples_leaf=2, class_weight=None: 0.8905\n",
            "Validation F1-Score for n_estimators=50, max_depth=20, min_samples_split=10, min_samples_leaf=2, class_weight=balanced: 0.8609\n",
            "Validation F1-Score for n_estimators=50, max_depth=20, min_samples_split=10, min_samples_leaf=4, class_weight=None: 0.8927\n",
            "Validation F1-Score for n_estimators=50, max_depth=20, min_samples_split=10, min_samples_leaf=4, class_weight=balanced: 0.8572\n",
            "Validation F1-Score for n_estimators=50, max_depth=None, min_samples_split=2, min_samples_leaf=1, class_weight=None: 0.9310\n",
            "Validation F1-Score for n_estimators=50, max_depth=None, min_samples_split=2, min_samples_leaf=1, class_weight=balanced: 0.9337\n",
            "Validation F1-Score for n_estimators=50, max_depth=None, min_samples_split=2, min_samples_leaf=2, class_weight=None: 0.9230\n",
            "Validation F1-Score for n_estimators=50, max_depth=None, min_samples_split=2, min_samples_leaf=2, class_weight=balanced: 0.9306\n",
            "Validation F1-Score for n_estimators=50, max_depth=None, min_samples_split=2, min_samples_leaf=4, class_weight=None: 0.9185\n",
            "Validation F1-Score for n_estimators=50, max_depth=None, min_samples_split=2, min_samples_leaf=4, class_weight=balanced: 0.9280\n",
            "Validation F1-Score for n_estimators=50, max_depth=None, min_samples_split=5, min_samples_leaf=1, class_weight=None: 0.9315\n",
            "Validation F1-Score for n_estimators=50, max_depth=None, min_samples_split=5, min_samples_leaf=1, class_weight=balanced: 0.9327\n",
            "Validation F1-Score for n_estimators=50, max_depth=None, min_samples_split=5, min_samples_leaf=2, class_weight=None: 0.9231\n",
            "Validation F1-Score for n_estimators=50, max_depth=None, min_samples_split=5, min_samples_leaf=2, class_weight=balanced: 0.9303\n",
            "Validation F1-Score for n_estimators=50, max_depth=None, min_samples_split=5, min_samples_leaf=4, class_weight=None: 0.9185\n",
            "Validation F1-Score for n_estimators=50, max_depth=None, min_samples_split=5, min_samples_leaf=4, class_weight=balanced: 0.9280\n",
            "Validation F1-Score for n_estimators=50, max_depth=None, min_samples_split=10, min_samples_leaf=1, class_weight=None: 0.9297\n",
            "Validation F1-Score for n_estimators=50, max_depth=None, min_samples_split=10, min_samples_leaf=1, class_weight=balanced: 0.9335\n",
            "Validation F1-Score for n_estimators=50, max_depth=None, min_samples_split=10, min_samples_leaf=2, class_weight=None: 0.9221\n",
            "Validation F1-Score for n_estimators=50, max_depth=None, min_samples_split=10, min_samples_leaf=2, class_weight=balanced: 0.9310\n",
            "Validation F1-Score for n_estimators=50, max_depth=None, min_samples_split=10, min_samples_leaf=4, class_weight=None: 0.9189\n",
            "Validation F1-Score for n_estimators=50, max_depth=None, min_samples_split=10, min_samples_leaf=4, class_weight=balanced: 0.9291\n",
            "Validation F1-Score for n_estimators=100, max_depth=10, min_samples_split=2, min_samples_leaf=1, class_weight=None: 0.7677\n",
            "Validation F1-Score for n_estimators=100, max_depth=10, min_samples_split=2, min_samples_leaf=1, class_weight=balanced: 0.8309\n",
            "Validation F1-Score for n_estimators=100, max_depth=10, min_samples_split=2, min_samples_leaf=2, class_weight=None: 0.7665\n",
            "Validation F1-Score for n_estimators=100, max_depth=10, min_samples_split=2, min_samples_leaf=2, class_weight=balanced: 0.8302\n",
            "Validation F1-Score for n_estimators=100, max_depth=10, min_samples_split=2, min_samples_leaf=4, class_weight=None: 0.7683\n",
            "Validation F1-Score for n_estimators=100, max_depth=10, min_samples_split=2, min_samples_leaf=4, class_weight=balanced: 0.8277\n",
            "Validation F1-Score for n_estimators=100, max_depth=10, min_samples_split=5, min_samples_leaf=1, class_weight=None: 0.7681\n",
            "Validation F1-Score for n_estimators=100, max_depth=10, min_samples_split=5, min_samples_leaf=1, class_weight=balanced: 0.8318\n",
            "Validation F1-Score for n_estimators=100, max_depth=10, min_samples_split=5, min_samples_leaf=2, class_weight=None: 0.7701\n",
            "Validation F1-Score for n_estimators=100, max_depth=10, min_samples_split=5, min_samples_leaf=2, class_weight=balanced: 0.8302\n",
            "Validation F1-Score for n_estimators=100, max_depth=10, min_samples_split=5, min_samples_leaf=4, class_weight=None: 0.7683\n",
            "Validation F1-Score for n_estimators=100, max_depth=10, min_samples_split=5, min_samples_leaf=4, class_weight=balanced: 0.8277\n",
            "Validation F1-Score for n_estimators=100, max_depth=10, min_samples_split=10, min_samples_leaf=1, class_weight=None: 0.7676\n",
            "Validation F1-Score for n_estimators=100, max_depth=10, min_samples_split=10, min_samples_leaf=1, class_weight=balanced: 0.8307\n",
            "Validation F1-Score for n_estimators=100, max_depth=10, min_samples_split=10, min_samples_leaf=2, class_weight=None: 0.7665\n",
            "Validation F1-Score for n_estimators=100, max_depth=10, min_samples_split=10, min_samples_leaf=2, class_weight=balanced: 0.8301\n",
            "Validation F1-Score for n_estimators=100, max_depth=10, min_samples_split=10, min_samples_leaf=4, class_weight=None: 0.7684\n",
            "Validation F1-Score for n_estimators=100, max_depth=10, min_samples_split=10, min_samples_leaf=4, class_weight=balanced: 0.8270\n",
            "Validation F1-Score for n_estimators=100, max_depth=20, min_samples_split=2, min_samples_leaf=1, class_weight=None: 0.8963\n",
            "Validation F1-Score for n_estimators=100, max_depth=20, min_samples_split=2, min_samples_leaf=1, class_weight=balanced: 0.8647\n",
            "Validation F1-Score for n_estimators=100, max_depth=20, min_samples_split=2, min_samples_leaf=2, class_weight=None: 0.8960\n",
            "Validation F1-Score for n_estimators=100, max_depth=20, min_samples_split=2, min_samples_leaf=2, class_weight=balanced: 0.8623\n",
            "Validation F1-Score for n_estimators=100, max_depth=20, min_samples_split=2, min_samples_leaf=4, class_weight=None: 0.8964\n",
            "Validation F1-Score for n_estimators=100, max_depth=20, min_samples_split=2, min_samples_leaf=4, class_weight=balanced: 0.8602\n",
            "Validation F1-Score for n_estimators=100, max_depth=20, min_samples_split=5, min_samples_leaf=1, class_weight=None: 0.8945\n",
            "Validation F1-Score for n_estimators=100, max_depth=20, min_samples_split=5, min_samples_leaf=1, class_weight=balanced: 0.8643\n",
            "Validation F1-Score for n_estimators=100, max_depth=20, min_samples_split=5, min_samples_leaf=2, class_weight=None: 0.8956\n",
            "Validation F1-Score for n_estimators=100, max_depth=20, min_samples_split=5, min_samples_leaf=2, class_weight=balanced: 0.8619\n",
            "Validation F1-Score for n_estimators=100, max_depth=20, min_samples_split=5, min_samples_leaf=4, class_weight=None: 0.8964\n",
            "Validation F1-Score for n_estimators=100, max_depth=20, min_samples_split=5, min_samples_leaf=4, class_weight=balanced: 0.8602\n",
            "Validation F1-Score for n_estimators=100, max_depth=20, min_samples_split=10, min_samples_leaf=1, class_weight=None: 0.8940\n",
            "Validation F1-Score for n_estimators=100, max_depth=20, min_samples_split=10, min_samples_leaf=1, class_weight=balanced: 0.8634\n",
            "Validation F1-Score for n_estimators=100, max_depth=20, min_samples_split=10, min_samples_leaf=2, class_weight=None: 0.8956\n",
            "Validation F1-Score for n_estimators=100, max_depth=20, min_samples_split=10, min_samples_leaf=2, class_weight=balanced: 0.8634\n",
            "Validation F1-Score for n_estimators=100, max_depth=20, min_samples_split=10, min_samples_leaf=4, class_weight=None: 0.8960\n",
            "Validation F1-Score for n_estimators=100, max_depth=20, min_samples_split=10, min_samples_leaf=4, class_weight=balanced: 0.8607\n",
            "Validation F1-Score for n_estimators=100, max_depth=None, min_samples_split=2, min_samples_leaf=1, class_weight=None: 0.9321\n",
            "Validation F1-Score for n_estimators=100, max_depth=None, min_samples_split=2, min_samples_leaf=1, class_weight=balanced: 0.9331\n",
            "Validation F1-Score for n_estimators=100, max_depth=None, min_samples_split=2, min_samples_leaf=2, class_weight=None: 0.9231\n",
            "Validation F1-Score for n_estimators=100, max_depth=None, min_samples_split=2, min_samples_leaf=2, class_weight=balanced: 0.9309\n",
            "Validation F1-Score for n_estimators=100, max_depth=None, min_samples_split=2, min_samples_leaf=4, class_weight=None: 0.9182\n",
            "Validation F1-Score for n_estimators=100, max_depth=None, min_samples_split=2, min_samples_leaf=4, class_weight=balanced: 0.9303\n",
            "Validation F1-Score for n_estimators=100, max_depth=None, min_samples_split=5, min_samples_leaf=1, class_weight=None: 0.9320\n",
            "Validation F1-Score for n_estimators=100, max_depth=None, min_samples_split=5, min_samples_leaf=1, class_weight=balanced: 0.9345\n",
            "Validation F1-Score for n_estimators=100, max_depth=None, min_samples_split=5, min_samples_leaf=2, class_weight=None: 0.9232\n",
            "Validation F1-Score for n_estimators=100, max_depth=None, min_samples_split=5, min_samples_leaf=2, class_weight=balanced: 0.9307\n",
            "Validation F1-Score for n_estimators=100, max_depth=None, min_samples_split=5, min_samples_leaf=4, class_weight=None: 0.9182\n",
            "Validation F1-Score for n_estimators=100, max_depth=None, min_samples_split=5, min_samples_leaf=4, class_weight=balanced: 0.9303\n",
            "Validation F1-Score for n_estimators=100, max_depth=None, min_samples_split=10, min_samples_leaf=1, class_weight=None: 0.9301\n",
            "Validation F1-Score for n_estimators=100, max_depth=None, min_samples_split=10, min_samples_leaf=1, class_weight=balanced: 0.9328\n",
            "Validation F1-Score for n_estimators=100, max_depth=None, min_samples_split=10, min_samples_leaf=2, class_weight=None: 0.9232\n",
            "Validation F1-Score for n_estimators=100, max_depth=None, min_samples_split=10, min_samples_leaf=2, class_weight=balanced: 0.9312\n",
            "Validation F1-Score for n_estimators=100, max_depth=None, min_samples_split=10, min_samples_leaf=4, class_weight=None: 0.9191\n",
            "Validation F1-Score for n_estimators=100, max_depth=None, min_samples_split=10, min_samples_leaf=4, class_weight=balanced: 0.9299\n",
            "Validation F1-Score for n_estimators=200, max_depth=10, min_samples_split=2, min_samples_leaf=1, class_weight=None: 0.7738\n",
            "Validation F1-Score for n_estimators=200, max_depth=10, min_samples_split=2, min_samples_leaf=1, class_weight=balanced: 0.8350\n",
            "Validation F1-Score for n_estimators=200, max_depth=10, min_samples_split=2, min_samples_leaf=2, class_weight=None: 0.7731\n",
            "Validation F1-Score for n_estimators=200, max_depth=10, min_samples_split=2, min_samples_leaf=2, class_weight=balanced: 0.8346\n",
            "Validation F1-Score for n_estimators=200, max_depth=10, min_samples_split=2, min_samples_leaf=4, class_weight=None: 0.7765\n",
            "Validation F1-Score for n_estimators=200, max_depth=10, min_samples_split=2, min_samples_leaf=4, class_weight=balanced: 0.8329\n",
            "Validation F1-Score for n_estimators=200, max_depth=10, min_samples_split=5, min_samples_leaf=1, class_weight=None: 0.7722\n",
            "Validation F1-Score for n_estimators=200, max_depth=10, min_samples_split=5, min_samples_leaf=1, class_weight=balanced: 0.8350\n",
            "Validation F1-Score for n_estimators=200, max_depth=10, min_samples_split=5, min_samples_leaf=2, class_weight=None: 0.7756\n",
            "Validation F1-Score for n_estimators=200, max_depth=10, min_samples_split=5, min_samples_leaf=2, class_weight=balanced: 0.8342\n",
            "Validation F1-Score for n_estimators=200, max_depth=10, min_samples_split=5, min_samples_leaf=4, class_weight=None: 0.7765\n",
            "Validation F1-Score for n_estimators=200, max_depth=10, min_samples_split=5, min_samples_leaf=4, class_weight=balanced: 0.8329\n",
            "Validation F1-Score for n_estimators=200, max_depth=10, min_samples_split=10, min_samples_leaf=1, class_weight=None: 0.7757\n",
            "Validation F1-Score for n_estimators=200, max_depth=10, min_samples_split=10, min_samples_leaf=1, class_weight=balanced: 0.8354\n",
            "Validation F1-Score for n_estimators=200, max_depth=10, min_samples_split=10, min_samples_leaf=2, class_weight=None: 0.7756\n",
            "Validation F1-Score for n_estimators=200, max_depth=10, min_samples_split=10, min_samples_leaf=2, class_weight=balanced: 0.8349\n",
            "Validation F1-Score for n_estimators=200, max_depth=10, min_samples_split=10, min_samples_leaf=4, class_weight=None: 0.7765\n",
            "Validation F1-Score for n_estimators=200, max_depth=10, min_samples_split=10, min_samples_leaf=4, class_weight=balanced: 0.8330\n",
            "Validation F1-Score for n_estimators=200, max_depth=20, min_samples_split=2, min_samples_leaf=1, class_weight=None: 0.9011\n",
            "Validation F1-Score for n_estimators=200, max_depth=20, min_samples_split=2, min_samples_leaf=1, class_weight=balanced: 0.8689\n",
            "Validation F1-Score for n_estimators=200, max_depth=20, min_samples_split=2, min_samples_leaf=2, class_weight=None: 0.9010\n",
            "Validation F1-Score for n_estimators=200, max_depth=20, min_samples_split=2, min_samples_leaf=2, class_weight=balanced: 0.8663\n",
            "Validation F1-Score for n_estimators=200, max_depth=20, min_samples_split=2, min_samples_leaf=4, class_weight=None: 0.9012\n",
            "Validation F1-Score for n_estimators=200, max_depth=20, min_samples_split=2, min_samples_leaf=4, class_weight=balanced: 0.8636\n",
            "Validation F1-Score for n_estimators=200, max_depth=20, min_samples_split=5, min_samples_leaf=1, class_weight=None: 0.9002\n",
            "Validation F1-Score for n_estimators=200, max_depth=20, min_samples_split=5, min_samples_leaf=1, class_weight=balanced: 0.8700\n",
            "Validation F1-Score for n_estimators=200, max_depth=20, min_samples_split=5, min_samples_leaf=2, class_weight=None: 0.9009\n",
            "Validation F1-Score for n_estimators=200, max_depth=20, min_samples_split=5, min_samples_leaf=2, class_weight=balanced: 0.8658\n",
            "Validation F1-Score for n_estimators=200, max_depth=20, min_samples_split=5, min_samples_leaf=4, class_weight=None: 0.9012\n",
            "Validation F1-Score for n_estimators=200, max_depth=20, min_samples_split=5, min_samples_leaf=4, class_weight=balanced: 0.8636\n",
            "Validation F1-Score for n_estimators=200, max_depth=20, min_samples_split=10, min_samples_leaf=1, class_weight=None: 0.8999\n",
            "Validation F1-Score for n_estimators=200, max_depth=20, min_samples_split=10, min_samples_leaf=1, class_weight=balanced: 0.8693\n",
            "Validation F1-Score for n_estimators=200, max_depth=20, min_samples_split=10, min_samples_leaf=2, class_weight=None: 0.9004\n",
            "Validation F1-Score for n_estimators=200, max_depth=20, min_samples_split=10, min_samples_leaf=2, class_weight=balanced: 0.8662\n",
            "Validation F1-Score for n_estimators=200, max_depth=20, min_samples_split=10, min_samples_leaf=4, class_weight=None: 0.9018\n",
            "Validation F1-Score for n_estimators=200, max_depth=20, min_samples_split=10, min_samples_leaf=4, class_weight=balanced: 0.8634\n",
            "Validation F1-Score for n_estimators=200, max_depth=None, min_samples_split=2, min_samples_leaf=1, class_weight=None: 0.9315\n",
            "Validation F1-Score for n_estimators=200, max_depth=None, min_samples_split=2, min_samples_leaf=1, class_weight=balanced: 0.9338\n",
            "Validation F1-Score for n_estimators=200, max_depth=None, min_samples_split=2, min_samples_leaf=2, class_weight=None: 0.9238\n",
            "Validation F1-Score for n_estimators=200, max_depth=None, min_samples_split=2, min_samples_leaf=2, class_weight=balanced: 0.9314\n",
            "Validation F1-Score for n_estimators=200, max_depth=None, min_samples_split=2, min_samples_leaf=4, class_weight=None: 0.9186\n",
            "Validation F1-Score for n_estimators=200, max_depth=None, min_samples_split=2, min_samples_leaf=4, class_weight=balanced: 0.9287\n",
            "Validation F1-Score for n_estimators=200, max_depth=None, min_samples_split=5, min_samples_leaf=1, class_weight=None: 0.9306\n",
            "Validation F1-Score for n_estimators=200, max_depth=None, min_samples_split=5, min_samples_leaf=1, class_weight=balanced: 0.9345\n",
            "Validation F1-Score for n_estimators=200, max_depth=None, min_samples_split=5, min_samples_leaf=2, class_weight=None: 0.9241\n",
            "Validation F1-Score for n_estimators=200, max_depth=None, min_samples_split=5, min_samples_leaf=2, class_weight=balanced: 0.9307\n",
            "Validation F1-Score for n_estimators=200, max_depth=None, min_samples_split=5, min_samples_leaf=4, class_weight=None: 0.9186\n",
            "Validation F1-Score for n_estimators=200, max_depth=None, min_samples_split=5, min_samples_leaf=4, class_weight=balanced: 0.9287\n",
            "Validation F1-Score for n_estimators=200, max_depth=None, min_samples_split=10, min_samples_leaf=1, class_weight=None: 0.9286\n",
            "Validation F1-Score for n_estimators=200, max_depth=None, min_samples_split=10, min_samples_leaf=1, class_weight=balanced: 0.9327\n",
            "Validation F1-Score for n_estimators=200, max_depth=None, min_samples_split=10, min_samples_leaf=2, class_weight=None: 0.9240\n",
            "Validation F1-Score for n_estimators=200, max_depth=None, min_samples_split=10, min_samples_leaf=2, class_weight=balanced: 0.9312\n",
            "Validation F1-Score for n_estimators=200, max_depth=None, min_samples_split=10, min_samples_leaf=4, class_weight=None: 0.9188\n",
            "Validation F1-Score for n_estimators=200, max_depth=None, min_samples_split=10, min_samples_leaf=4, class_weight=balanced: 0.9289\n",
            "\n",
            "Best Hyperparameters: {'n_estimators': 100, 'max_depth': None, 'min_samples_split': 5, 'min_samples_leaf': 1, 'class_weight': 'balanced'}\n",
            "Best Validation F1-Score: 0.934477965311252\n",
            "Total Parameter Tuning Time: 263.54 seconds\n"
          ]
        }
      ],
      "source": [
        "#Define the Hyperparameter Tuning grid\n",
        "random.seed(1234)\n",
        "\n",
        "param_grid = {\n",
        "    'n_estimators': [50, 100, 200],        # Number of trees\n",
        "    'max_depth': [10, 20, None],           # Maximum depth of trees\n",
        "    'min_samples_split': [2, 5, 10],       # Minimum samples to split a node\n",
        "    'min_samples_leaf': [1, 2, 4],         # Minimum samples at a leaf node\n",
        "    'class_weight': [None, 'balanced']     # Handle class imbalance - balanced is a choice to adjust class weights according to class frequency\n",
        "}\n",
        "\n",
        "# Grid search\n",
        "best_f1 = 0\n",
        "best_model = None\n",
        "best_params = None\n",
        "\n",
        "\n",
        "# Start timer\n",
        "start_time = time.time()\n",
        "\n",
        "# Iterate through all combinations of parameters\n",
        "for n_estimators, max_depth, min_samples_split, min_samples_leaf, class_weight in product(\n",
        "    param_grid['n_estimators'],\n",
        "    param_grid['max_depth'],\n",
        "    param_grid['min_samples_split'],\n",
        "    param_grid['min_samples_leaf'],\n",
        "    param_grid['class_weight']\n",
        "):\n",
        "    try:\n",
        "        # Create the Random Forest model with current parameters\n",
        "        model = RandomForestClassifier(\n",
        "            n_estimators=n_estimators,\n",
        "            max_depth=max_depth,\n",
        "            min_samples_split=min_samples_split,\n",
        "            min_samples_leaf=min_samples_leaf,\n",
        "            class_weight=class_weight,\n",
        "            random_state=42,\n",
        "            n_jobs=-1\n",
        "        )\n",
        "\n",
        "        # Train the model\n",
        "        model.fit(X_train_1, y_train_1)\n",
        "\n",
        "        # Validate the model on validation set\n",
        "        y_val_pred = model.predict(X_val_1)\n",
        "        f1 = f1_score(y_val_1, y_val_pred,average='weighted')\n",
        "        print(f\"Validation F1-Score for n_estimators={n_estimators}, max_depth={max_depth}, \"\n",
        "              f\"min_samples_split={min_samples_split}, min_samples_leaf={min_samples_leaf}, \"\n",
        "              f\"class_weight={class_weight}: {f1:.4f}\")\n",
        "\n",
        "        # Update the best model if current one is better\n",
        "        if f1 > best_f1:\n",
        "            best_f1 = f1\n",
        "            best_model = model\n",
        "            best_params = {\n",
        "                'n_estimators': n_estimators,\n",
        "                'max_depth': max_depth,\n",
        "                'min_samples_split': min_samples_split,\n",
        "                'min_samples_leaf': min_samples_leaf,\n",
        "                'class_weight': class_weight\n",
        "            }\n",
        "    except Exception as e:\n",
        "        print(f\"Skipping combination n_estimators={n_estimators}, max_depth={max_depth}, \"\n",
        "              f\"min_samples_split={min_samples_split}, min_samples_leaf={min_samples_leaf}, \"\n",
        "              f\"class_weight={class_weight} due to error: {e}\")\n",
        "\n",
        "# End timer\n",
        "end_time = time.time()\n",
        "total_time = end_time - start_time\n",
        "\n",
        "\n",
        "# Print the best parameters and F1 score on validation set\n",
        "print(\"\\nBest Hyperparameters:\", best_params)\n",
        "print(\"Best Validation F1-Score:\", best_f1)\n",
        "print(f\"Total Parameter Tuning Time: {total_time:.2f} seconds\")"
      ]
    },
    {
      "cell_type": "code",
      "execution_count": null,
      "metadata": {
        "colab": {
          "base_uri": "https://localhost:8080/"
        },
        "id": "cRC2F0-0fk7l",
        "outputId": "acef20f5-43f1-4984-c694-29d7eaf09c98"
      },
      "outputs": [
        {
          "name": "stdout",
          "output_type": "stream",
          "text": [
            "\n",
            "Test Performance:\n",
            "              precision    recall  f1-score   support\n",
            "\n",
            "           0       0.90      0.89      0.90      3267\n",
            "           1       0.95      0.96      0.95      7270\n",
            "\n",
            "    accuracy                           0.94     10537\n",
            "   macro avg       0.93      0.92      0.92     10537\n",
            "weighted avg       0.94      0.94      0.94     10537\n",
            "\n"
          ]
        }
      ],
      "source": [
        "# Evaluate the Model with the best parameters\n",
        "# Evaluate the best model on the test set\n",
        "y_test_pred = best_model.predict(X_test_1)\n",
        "print(\"\\nTest Performance:\")\n",
        "print(classification_report(y_test_1, y_test_pred))"
      ]
    },
    {
      "cell_type": "code",
      "execution_count": null,
      "metadata": {
        "colab": {
          "base_uri": "https://localhost:8080/"
        },
        "id": "tseh0NTzh_tv",
        "outputId": "928e0d63-d12c-4632-9ff1-bac53885d663"
      },
      "outputs": [
        {
          "data": {
            "text/plain": [
              "0.9359145852615572"
            ]
          },
          "execution_count": 21,
          "metadata": {},
          "output_type": "execute_result"
        }
      ],
      "source": [
        "f1_score(y_test_1, y_test_pred,average='weighted')"
      ]
    },
    {
      "cell_type": "code",
      "execution_count": null,
      "metadata": {
        "colab": {
          "base_uri": "https://localhost:8080/",
          "height": 1000
        },
        "id": "za8EO1-gfk_-",
        "outputId": "5451ee64-f332-4ff8-f3d7-a3d01e220c98"
      },
      "outputs": [
        {
          "data": {
            "image/png": "[encoded data removed]",
            "text/plain": [
              "<Figure size 600x600 with 2 Axes>"
            ]
          },
          "metadata": {},
          "output_type": "display_data"
        },
        {
          "data": {
            "image/png": "[encoded data removed]",
            "text/plain": [
              "<Figure size 800x600 with 1 Axes>"
            ]
          },
          "metadata": {},
          "output_type": "display_data"
        }
      ],
      "source": [
        "# Confusion Matrix\n",
        "conf_matrix = confusion_matrix(y_test_1, y_test_pred)\n",
        "plt.figure(figsize=(6, 6))\n",
        "sns.heatmap(conf_matrix, annot=True, fmt='d', cmap='Blues', xticklabels=['No Issue', 'Issue'], yticklabels=['No Issue', 'Issue'])\n",
        "plt.xlabel('Predicted')\n",
        "plt.ylabel('Actual')\n",
        "plt.title('Confusion Matrix - Binary: Random Forest')\n",
        "plt.show()\n",
        "\n",
        "# ROC Curve\n",
        "fpr, tpr, thresholds = roc_curve(y_test_1, y_test_pred)\n",
        "roc_auc = auc(fpr, tpr)\n",
        "\n",
        "plt.figure(figsize=(8, 6))\n",
        "plt.plot(fpr, tpr, label=f'AUC = {roc_auc:.2f}')\n",
        "plt.plot([0, 1], [0, 1], linestyle='--', color='gray')\n",
        "plt.xlabel('False Positive Rate')\n",
        "plt.ylabel('True Positive Rate')\n",
        "plt.title('ROC Curve - Binary: Random Forest')\n",
        "plt.legend(loc='lower right')\n",
        "plt.show()\n"
      ]
    },
    {
      "cell_type": "markdown",
      "metadata": {
        "id": "Xxf9Kwwjgt1Q"
      },
      "source": [
        "### 3.1.4 LGBM"
      ]
    },
    {
      "cell_type": "code",
      "execution_count": null,
      "metadata": {
        "colab": {
          "base_uri": "https://localhost:8080/"
        },
        "id": "2I2wTFfygsbS",
        "outputId": "6c6dcd48-a9fd-4441-d890-596f2ae12975"
      },
      "outputs": [
        {
          "name": "stdout",
          "output_type": "stream",
          "text": [
            "[LightGBM] [Info] Number of positive: 21783, number of negative: 9825\n",
            "[LightGBM] [Info] Auto-choosing col-wise multi-threading, the overhead of testing was 0.354285 seconds.\n",
            "You can set `force_col_wise=true` to remove the overhead.\n",
            "[LightGBM] [Info] Total Bins 243196\n",
            "[LightGBM] [Info] Number of data points in the train set: 31608, number of used features: 6919\n",
            "[LightGBM] [Info] [binary:BoostFromScore]: pavg=0.689161 -> initscore=0.796200\n",
            "[LightGBM] [Info] Start training from score 0.796200\n",
            "Validation F1-Score for n_estimators=50, learning_rate=0.01, max_depth=-1, num_leaves=31, min_child_samples=10, class_weight=None: 0.8749\n",
            "[LightGBM] [Info] Number of positive: 21783, number of negative: 9825\n",
            "[LightGBM] [Info] Auto-choosing col-wise multi-threading, the overhead of testing was 0.354120 seconds.\n",
            "You can set `force_col_wise=true` to remove the overhead.\n",
            "[LightGBM] [Info] Total Bins 243196\n",
            "[LightGBM] [Info] Number of data points in the train set: 31608, number of used features: 6919\n",
            "[LightGBM] [Info] [binary:BoostFromScore]: pavg=0.500000 -> initscore=0.000000\n",
            "[LightGBM] [Info] Start training from score 0.000000\n",
            "Validation F1-Score for n_estimators=50, learning_rate=0.01, max_depth=-1, num_leaves=31, min_child_samples=10, class_weight=balanced: 0.8871\n",
            "[LightGBM] [Info] Number of positive: 21783, number of negative: 9825\n",
            "[LightGBM] [Info] Auto-choosing col-wise multi-threading, the overhead of testing was 0.245472 seconds.\n",
            "You can set `force_col_wise=true` to remove the overhead.\n",
            "[LightGBM] [Info] Total Bins 229751\n",
            "[LightGBM] [Info] Number of data points in the train set: 31608, number of used features: 4631\n",
            "[LightGBM] [Info] [binary:BoostFromScore]: pavg=0.689161 -> initscore=0.796200\n",
            "[LightGBM] [Info] Start training from score 0.796200\n",
            "Validation F1-Score for n_estimators=50, learning_rate=0.01, max_depth=-1, num_leaves=31, min_child_samples=20, class_weight=None: 0.8749\n",
            "[LightGBM] [Info] Number of positive: 21783, number of negative: 9825\n",
            "[LightGBM] [Info] Auto-choosing col-wise multi-threading, the overhead of testing was 0.395699 seconds.\n",
            "You can set `force_col_wise=true` to remove the overhead.\n",
            "[LightGBM] [Info] Total Bins 229751\n",
            "[LightGBM] [Info] Number of data points in the train set: 31608, number of used features: 4631\n",
            "[LightGBM] [Info] [binary:BoostFromScore]: pavg=0.500000 -> initscore=0.000000\n",
            "[LightGBM] [Info] Start training from score 0.000000\n",
            "Validation F1-Score for n_estimators=50, learning_rate=0.01, max_depth=-1, num_leaves=31, min_child_samples=20, class_weight=balanced: 0.8861\n",
            "[LightGBM] [Info] Number of positive: 21783, number of negative: 9825\n",
            "[LightGBM] [Info] Auto-choosing row-wise multi-threading, the overhead of testing was 0.341125 seconds.\n",
            "You can set `force_row_wise=true` to remove the overhead.\n",
            "And if memory is not enough, you can set `force_col_wise=true`.\n",
            "[LightGBM] [Info] Total Bins 243196\n",
            "[LightGBM] [Info] Number of data points in the train set: 31608, number of used features: 6919\n",
            "[LightGBM] [Info] [binary:BoostFromScore]: pavg=0.689161 -> initscore=0.796200\n",
            "[LightGBM] [Info] Start training from score 0.796200\n",
            "Validation F1-Score for n_estimators=50, learning_rate=0.01, max_depth=-1, num_leaves=50, min_child_samples=10, class_weight=None: 0.8865\n",
            "[LightGBM] [Info] Number of positive: 21783, number of negative: 9825\n",
            "[LightGBM] [Info] Auto-choosing col-wise multi-threading, the overhead of testing was 0.357480 seconds.\n",
            "You can set `force_col_wise=true` to remove the overhead.\n",
            "[LightGBM] [Info] Total Bins 243196\n",
            "[LightGBM] [Info] Number of data points in the train set: 31608, number of used features: 6919\n",
            "[LightGBM] [Info] [binary:BoostFromScore]: pavg=0.500000 -> initscore=0.000000\n",
            "[LightGBM] [Info] Start training from score 0.000000\n",
            "Validation F1-Score for n_estimators=50, learning_rate=0.01, max_depth=-1, num_leaves=50, min_child_samples=10, class_weight=balanced: 0.8954\n",
            "[LightGBM] [Info] Number of positive: 21783, number of negative: 9825\n",
            "[LightGBM] [Info] Auto-choosing col-wise multi-threading, the overhead of testing was 0.553243 seconds.\n",
            "You can set `force_col_wise=true` to remove the overhead.\n",
            "[LightGBM] [Info] Total Bins 229751\n",
            "[LightGBM] [Info] Number of data points in the train set: 31608, number of used features: 4631\n",
            "[LightGBM] [Info] [binary:BoostFromScore]: pavg=0.689161 -> initscore=0.796200\n",
            "[LightGBM] [Info] Start training from score 0.796200\n",
            "Validation F1-Score for n_estimators=50, learning_rate=0.01, max_depth=-1, num_leaves=50, min_child_samples=20, class_weight=None: 0.8859\n",
            "[LightGBM] [Info] Number of positive: 21783, number of negative: 9825\n",
            "[LightGBM] [Info] Auto-choosing row-wise multi-threading, the overhead of testing was 0.221765 seconds.\n",
            "You can set `force_row_wise=true` to remove the overhead.\n",
            "And if memory is not enough, you can set `force_col_wise=true`.\n",
            "[LightGBM] [Info] Total Bins 229751\n",
            "[LightGBM] [Info] Number of data points in the train set: 31608, number of used features: 4631\n",
            "[LightGBM] [Info] [binary:BoostFromScore]: pavg=0.500000 -> initscore=0.000000\n",
            "[LightGBM] [Info] Start training from score 0.000000\n",
            "Validation F1-Score for n_estimators=50, learning_rate=0.01, max_depth=-1, num_leaves=50, min_child_samples=20, class_weight=balanced: 0.8955\n",
            "[LightGBM] [Info] Number of positive: 21783, number of negative: 9825\n",
            "[LightGBM] [Info] Auto-choosing col-wise multi-threading, the overhead of testing was 0.366268 seconds.\n",
            "You can set `force_col_wise=true` to remove the overhead.\n",
            "[LightGBM] [Info] Total Bins 243196\n",
            "[LightGBM] [Info] Number of data points in the train set: 31608, number of used features: 6919\n",
            "[LightGBM] [Info] [binary:BoostFromScore]: pavg=0.689161 -> initscore=0.796200\n",
            "[LightGBM] [Info] Start training from score 0.796200\n",
            "Validation F1-Score for n_estimators=50, learning_rate=0.01, max_depth=10, num_leaves=31, min_child_samples=10, class_weight=None: 0.5657\n",
            "[LightGBM] [Info] Number of positive: 21783, number of negative: 9825\n",
            "[LightGBM] [Info] Auto-choosing col-wise multi-threading, the overhead of testing was 0.364393 seconds.\n",
            "You can set `force_col_wise=true` to remove the overhead.\n",
            "[LightGBM] [Info] Total Bins 243196\n",
            "[LightGBM] [Info] Number of data points in the train set: 31608, number of used features: 6919\n",
            "[LightGBM] [Info] [binary:BoostFromScore]: pavg=0.500000 -> initscore=0.000000\n",
            "[LightGBM] [Info] Start training from score 0.000000\n",
            "Validation F1-Score for n_estimators=50, learning_rate=0.01, max_depth=10, num_leaves=31, min_child_samples=10, class_weight=balanced: 0.8620\n",
            "[LightGBM] [Info] Number of positive: 21783, number of negative: 9825\n",
            "[LightGBM] [Info] Auto-choosing col-wise multi-threading, the overhead of testing was 0.251565 seconds.\n",
            "You can set `force_col_wise=true` to remove the overhead.\n",
            "[LightGBM] [Info] Total Bins 229751\n",
            "[LightGBM] [Info] Number of data points in the train set: 31608, number of used features: 4631\n",
            "[LightGBM] [Info] [binary:BoostFromScore]: pavg=0.689161 -> initscore=0.796200\n",
            "[LightGBM] [Info] Start training from score 0.796200\n",
            "Validation F1-Score for n_estimators=50, learning_rate=0.01, max_depth=10, num_leaves=31, min_child_samples=20, class_weight=None: 0.5653\n",
            "[LightGBM] [Info] Number of positive: 21783, number of negative: 9825\n",
            "[LightGBM] [Info] Auto-choosing col-wise multi-threading, the overhead of testing was 0.241857 seconds.\n",
            "You can set `force_col_wise=true` to remove the overhead.\n",
            "[LightGBM] [Info] Total Bins 229751\n",
            "[LightGBM] [Info] Number of data points in the train set: 31608, number of used features: 4631\n",
            "[LightGBM] [Info] [binary:BoostFromScore]: pavg=0.500000 -> initscore=0.000000\n",
            "[LightGBM] [Info] Start training from score 0.000000\n",
            "Validation F1-Score for n_estimators=50, learning_rate=0.01, max_depth=10, num_leaves=31, min_child_samples=20, class_weight=balanced: 0.8616\n",
            "[LightGBM] [Info] Number of positive: 21783, number of negative: 9825\n",
            "[LightGBM] [Info] Auto-choosing row-wise multi-threading, the overhead of testing was 0.364647 seconds.\n",
            "You can set `force_row_wise=true` to remove the overhead.\n",
            "And if memory is not enough, you can set `force_col_wise=true`.\n",
            "[LightGBM] [Info] Total Bins 243196\n",
            "[LightGBM] [Info] Number of data points in the train set: 31608, number of used features: 6919\n",
            "[LightGBM] [Info] [binary:BoostFromScore]: pavg=0.689161 -> initscore=0.796200\n",
            "[LightGBM] [Info] Start training from score 0.796200\n",
            "Validation F1-Score for n_estimators=50, learning_rate=0.01, max_depth=10, num_leaves=50, min_child_samples=10, class_weight=None: 0.5664\n",
            "[LightGBM] [Info] Number of positive: 21783, number of negative: 9825\n",
            "[LightGBM] [Info] Auto-choosing col-wise multi-threading, the overhead of testing was 0.442879 seconds.\n",
            "You can set `force_col_wise=true` to remove the overhead.\n",
            "[LightGBM] [Info] Total Bins 243196\n",
            "[LightGBM] [Info] Number of data points in the train set: 31608, number of used features: 6919\n",
            "[LightGBM] [Info] [binary:BoostFromScore]: pavg=0.500000 -> initscore=0.000000\n",
            "[LightGBM] [Info] Start training from score 0.000000\n",
            "Validation F1-Score for n_estimators=50, learning_rate=0.01, max_depth=10, num_leaves=50, min_child_samples=10, class_weight=balanced: 0.8602\n",
            "[LightGBM] [Info] Number of positive: 21783, number of negative: 9825\n",
            "[LightGBM] [Info] Auto-choosing row-wise multi-threading, the overhead of testing was 0.260965 seconds.\n",
            "You can set `force_row_wise=true` to remove the overhead.\n",
            "And if memory is not enough, you can set `force_col_wise=true`.\n",
            "[LightGBM] [Info] Total Bins 229751\n",
            "[LightGBM] [Info] Number of data points in the train set: 31608, number of used features: 4631\n",
            "[LightGBM] [Info] [binary:BoostFromScore]: pavg=0.689161 -> initscore=0.796200\n",
            "[LightGBM] [Info] Start training from score 0.796200\n",
            "Validation F1-Score for n_estimators=50, learning_rate=0.01, max_depth=10, num_leaves=50, min_child_samples=20, class_weight=None: 0.5686\n",
            "[LightGBM] [Info] Number of positive: 21783, number of negative: 9825\n",
            "[LightGBM] [Info] Auto-choosing col-wise multi-threading, the overhead of testing was 0.253349 seconds.\n",
            "You can set `force_col_wise=true` to remove the overhead.\n",
            "[LightGBM] [Info] Total Bins 229751\n",
            "[LightGBM] [Info] Number of data points in the train set: 31608, number of used features: 4631\n",
            "[LightGBM] [Info] [binary:BoostFromScore]: pavg=0.500000 -> initscore=0.000000\n",
            "[LightGBM] [Info] Start training from score 0.000000\n",
            "Validation F1-Score for n_estimators=50, learning_rate=0.01, max_depth=10, num_leaves=50, min_child_samples=20, class_weight=balanced: 0.8594\n",
            "[LightGBM] [Info] Number of positive: 21783, number of negative: 9825\n",
            "[LightGBM] [Info] Auto-choosing col-wise multi-threading, the overhead of testing was 0.401696 seconds.\n",
            "You can set `force_col_wise=true` to remove the overhead.\n",
            "[LightGBM] [Info] Total Bins 243196\n",
            "[LightGBM] [Info] Number of data points in the train set: 31608, number of used features: 6919\n",
            "[LightGBM] [Info] [binary:BoostFromScore]: pavg=0.689161 -> initscore=0.796200\n",
            "[LightGBM] [Info] Start training from score 0.796200\n",
            "Validation F1-Score for n_estimators=50, learning_rate=0.1, max_depth=-1, num_leaves=31, min_child_samples=10, class_weight=None: 0.9242\n",
            "[LightGBM] [Info] Number of positive: 21783, number of negative: 9825\n",
            "[LightGBM] [Info] Auto-choosing col-wise multi-threading, the overhead of testing was 0.355944 seconds.\n",
            "You can set `force_col_wise=true` to remove the overhead.\n",
            "[LightGBM] [Info] Total Bins 243196\n",
            "[LightGBM] [Info] Number of data points in the train set: 31608, number of used features: 6919\n",
            "[LightGBM] [Info] [binary:BoostFromScore]: pavg=0.500000 -> initscore=0.000000\n",
            "[LightGBM] [Info] Start training from score 0.000000\n",
            "Validation F1-Score for n_estimators=50, learning_rate=0.1, max_depth=-1, num_leaves=31, min_child_samples=10, class_weight=balanced: 0.9187\n",
            "[LightGBM] [Info] Number of positive: 21783, number of negative: 9825\n",
            "[LightGBM] [Info] Auto-choosing row-wise multi-threading, the overhead of testing was 0.244568 seconds.\n",
            "You can set `force_row_wise=true` to remove the overhead.\n",
            "And if memory is not enough, you can set `force_col_wise=true`.\n",
            "[LightGBM] [Info] Total Bins 229751\n",
            "[LightGBM] [Info] Number of data points in the train set: 31608, number of used features: 4631\n",
            "[LightGBM] [Info] [binary:BoostFromScore]: pavg=0.689161 -> initscore=0.796200\n",
            "[LightGBM] [Info] Start training from score 0.796200\n",
            "Validation F1-Score for n_estimators=50, learning_rate=0.1, max_depth=-1, num_leaves=31, min_child_samples=20, class_weight=None: 0.9240\n",
            "[LightGBM] [Info] Number of positive: 21783, number of negative: 9825\n",
            "[LightGBM] [Info] Auto-choosing col-wise multi-threading, the overhead of testing was 0.239715 seconds.\n",
            "You can set `force_col_wise=true` to remove the overhead.\n",
            "[LightGBM] [Info] Total Bins 229751\n",
            "[LightGBM] [Info] Number of data points in the train set: 31608, number of used features: 4631\n",
            "[LightGBM] [Info] [binary:BoostFromScore]: pavg=0.500000 -> initscore=0.000000\n",
            "[LightGBM] [Info] Start training from score 0.000000\n",
            "Validation F1-Score for n_estimators=50, learning_rate=0.1, max_depth=-1, num_leaves=31, min_child_samples=20, class_weight=balanced: 0.9187\n",
            "[LightGBM] [Info] Number of positive: 21783, number of negative: 9825\n",
            "[LightGBM] [Info] Auto-choosing col-wise multi-threading, the overhead of testing was 0.400242 seconds.\n",
            "You can set `force_col_wise=true` to remove the overhead.\n",
            "[LightGBM] [Info] Total Bins 243196\n",
            "[LightGBM] [Info] Number of data points in the train set: 31608, number of used features: 6919\n",
            "[LightGBM] [Info] [binary:BoostFromScore]: pavg=0.689161 -> initscore=0.796200\n",
            "[LightGBM] [Info] Start training from score 0.796200\n",
            "Validation F1-Score for n_estimators=50, learning_rate=0.1, max_depth=-1, num_leaves=50, min_child_samples=10, class_weight=None: 0.9270\n",
            "[LightGBM] [Info] Number of positive: 21783, number of negative: 9825\n",
            "[LightGBM] [Info] Auto-choosing col-wise multi-threading, the overhead of testing was 0.393796 seconds.\n",
            "You can set `force_col_wise=true` to remove the overhead.\n",
            "[LightGBM] [Info] Total Bins 243196\n",
            "[LightGBM] [Info] Number of data points in the train set: 31608, number of used features: 6919\n",
            "[LightGBM] [Info] [binary:BoostFromScore]: pavg=0.500000 -> initscore=0.000000\n",
            "[LightGBM] [Info] Start training from score 0.000000\n",
            "Validation F1-Score for n_estimators=50, learning_rate=0.1, max_depth=-1, num_leaves=50, min_child_samples=10, class_weight=balanced: 0.9258\n",
            "[LightGBM] [Info] Number of positive: 21783, number of negative: 9825\n",
            "[LightGBM] [Info] Auto-choosing col-wise multi-threading, the overhead of testing was 0.252743 seconds.\n",
            "You can set `force_col_wise=true` to remove the overhead.\n",
            "[LightGBM] [Info] Total Bins 229751\n",
            "[LightGBM] [Info] Number of data points in the train set: 31608, number of used features: 4631\n",
            "[LightGBM] [Info] [binary:BoostFromScore]: pavg=0.689161 -> initscore=0.796200\n",
            "[LightGBM] [Info] Start training from score 0.796200\n",
            "Validation F1-Score for n_estimators=50, learning_rate=0.1, max_depth=-1, num_leaves=50, min_child_samples=20, class_weight=None: 0.9297\n",
            "[LightGBM] [Info] Number of positive: 21783, number of negative: 9825\n",
            "[LightGBM] [Info] Auto-choosing row-wise multi-threading, the overhead of testing was 0.288868 seconds.\n",
            "You can set `force_row_wise=true` to remove the overhead.\n",
            "And if memory is not enough, you can set `force_col_wise=true`.\n",
            "[LightGBM] [Info] Total Bins 229751\n",
            "[LightGBM] [Info] Number of data points in the train set: 31608, number of used features: 4631\n",
            "[LightGBM] [Info] [binary:BoostFromScore]: pavg=0.500000 -> initscore=0.000000\n",
            "[LightGBM] [Info] Start training from score 0.000000\n",
            "Validation F1-Score for n_estimators=50, learning_rate=0.1, max_depth=-1, num_leaves=50, min_child_samples=20, class_weight=balanced: 0.9254\n",
            "[LightGBM] [Info] Number of positive: 21783, number of negative: 9825\n",
            "[LightGBM] [Info] Auto-choosing col-wise multi-threading, the overhead of testing was 0.380021 seconds.\n",
            "You can set `force_col_wise=true` to remove the overhead.\n",
            "[LightGBM] [Info] Total Bins 243196\n",
            "[LightGBM] [Info] Number of data points in the train set: 31608, number of used features: 6919\n",
            "[LightGBM] [Info] [binary:BoostFromScore]: pavg=0.689161 -> initscore=0.796200\n",
            "[LightGBM] [Info] Start training from score 0.796200\n",
            "Validation F1-Score for n_estimators=50, learning_rate=0.1, max_depth=10, num_leaves=31, min_child_samples=10, class_weight=None: 0.9144\n",
            "[LightGBM] [Info] Number of positive: 21783, number of negative: 9825\n",
            "[LightGBM] [Info] Auto-choosing col-wise multi-threading, the overhead of testing was 0.358872 seconds.\n",
            "You can set `force_col_wise=true` to remove the overhead.\n",
            "[LightGBM] [Info] Total Bins 243196\n",
            "[LightGBM] [Info] Number of data points in the train set: 31608, number of used features: 6919\n",
            "[LightGBM] [Info] [binary:BoostFromScore]: pavg=0.500000 -> initscore=0.000000\n",
            "[LightGBM] [Info] Start training from score 0.000000\n",
            "Validation F1-Score for n_estimators=50, learning_rate=0.1, max_depth=10, num_leaves=31, min_child_samples=10, class_weight=balanced: 0.9011\n",
            "[LightGBM] [Info] Number of positive: 21783, number of negative: 9825\n",
            "[LightGBM] [Info] Auto-choosing row-wise multi-threading, the overhead of testing was 0.249974 seconds.\n",
            "You can set `force_row_wise=true` to remove the overhead.\n",
            "And if memory is not enough, you can set `force_col_wise=true`.\n",
            "[LightGBM] [Info] Total Bins 229751\n",
            "[LightGBM] [Info] Number of data points in the train set: 31608, number of used features: 4631\n",
            "[LightGBM] [Info] [binary:BoostFromScore]: pavg=0.689161 -> initscore=0.796200\n",
            "[LightGBM] [Info] Start training from score 0.796200\n",
            "Validation F1-Score for n_estimators=50, learning_rate=0.1, max_depth=10, num_leaves=31, min_child_samples=20, class_weight=None: 0.9146\n",
            "[LightGBM] [Info] Number of positive: 21783, number of negative: 9825\n",
            "[LightGBM] [Info] Auto-choosing col-wise multi-threading, the overhead of testing was 0.238353 seconds.\n",
            "You can set `force_col_wise=true` to remove the overhead.\n",
            "[LightGBM] [Info] Total Bins 229751\n",
            "[LightGBM] [Info] Number of data points in the train set: 31608, number of used features: 4631\n",
            "[LightGBM] [Info] [binary:BoostFromScore]: pavg=0.500000 -> initscore=0.000000\n",
            "[LightGBM] [Info] Start training from score 0.000000\n",
            "Validation F1-Score for n_estimators=50, learning_rate=0.1, max_depth=10, num_leaves=31, min_child_samples=20, class_weight=balanced: 0.9010\n",
            "[LightGBM] [Info] Number of positive: 21783, number of negative: 9825\n",
            "[LightGBM] [Info] Auto-choosing col-wise multi-threading, the overhead of testing was 0.361719 seconds.\n",
            "You can set `force_col_wise=true` to remove the overhead.\n",
            "[LightGBM] [Info] Total Bins 243196\n",
            "[LightGBM] [Info] Number of data points in the train set: 31608, number of used features: 6919\n",
            "[LightGBM] [Info] [binary:BoostFromScore]: pavg=0.689161 -> initscore=0.796200\n",
            "[LightGBM] [Info] Start training from score 0.796200\n",
            "Validation F1-Score for n_estimators=50, learning_rate=0.1, max_depth=10, num_leaves=50, min_child_samples=10, class_weight=None: 0.9151\n",
            "[LightGBM] [Info] Number of positive: 21783, number of negative: 9825\n",
            "[LightGBM] [Info] Auto-choosing row-wise multi-threading, the overhead of testing was 0.347872 seconds.\n",
            "You can set `force_row_wise=true` to remove the overhead.\n",
            "And if memory is not enough, you can set `force_col_wise=true`.\n",
            "[LightGBM] [Info] Total Bins 243196\n",
            "[LightGBM] [Info] Number of data points in the train set: 31608, number of used features: 6919\n",
            "[LightGBM] [Info] [binary:BoostFromScore]: pavg=0.500000 -> initscore=0.000000\n",
            "[LightGBM] [Info] Start training from score 0.000000\n",
            "Validation F1-Score for n_estimators=50, learning_rate=0.1, max_depth=10, num_leaves=50, min_child_samples=10, class_weight=balanced: 0.9037\n",
            "[LightGBM] [Info] Number of positive: 21783, number of negative: 9825\n",
            "[LightGBM] [Info] Auto-choosing col-wise multi-threading, the overhead of testing was 0.246619 seconds.\n",
            "You can set `force_col_wise=true` to remove the overhead.\n",
            "[LightGBM] [Info] Total Bins 229751\n",
            "[LightGBM] [Info] Number of data points in the train set: 31608, number of used features: 4631\n",
            "[LightGBM] [Info] [binary:BoostFromScore]: pavg=0.689161 -> initscore=0.796200\n",
            "[LightGBM] [Info] Start training from score 0.796200\n",
            "Validation F1-Score for n_estimators=50, learning_rate=0.1, max_depth=10, num_leaves=50, min_child_samples=20, class_weight=None: 0.9161\n",
            "[LightGBM] [Info] Number of positive: 21783, number of negative: 9825\n",
            "[LightGBM] [Info] Auto-choosing col-wise multi-threading, the overhead of testing was 0.244365 seconds.\n",
            "You can set `force_col_wise=true` to remove the overhead.\n",
            "[LightGBM] [Info] Total Bins 229751\n",
            "[LightGBM] [Info] Number of data points in the train set: 31608, number of used features: 4631\n",
            "[LightGBM] [Info] [binary:BoostFromScore]: pavg=0.500000 -> initscore=0.000000\n",
            "[LightGBM] [Info] Start training from score 0.000000\n",
            "Validation F1-Score for n_estimators=50, learning_rate=0.1, max_depth=10, num_leaves=50, min_child_samples=20, class_weight=balanced: 0.9023\n",
            "[LightGBM] [Info] Number of positive: 21783, number of negative: 9825\n",
            "[LightGBM] [Info] Auto-choosing col-wise multi-threading, the overhead of testing was 0.358941 seconds.\n",
            "You can set `force_col_wise=true` to remove the overhead.\n",
            "[LightGBM] [Info] Total Bins 243196\n",
            "[LightGBM] [Info] Number of data points in the train set: 31608, number of used features: 6919\n",
            "[LightGBM] [Info] [binary:BoostFromScore]: pavg=0.689161 -> initscore=0.796200\n",
            "[LightGBM] [Info] Start training from score 0.796200\n",
            "Validation F1-Score for n_estimators=100, learning_rate=0.01, max_depth=-1, num_leaves=31, min_child_samples=10, class_weight=None: 0.8927\n",
            "[LightGBM] [Info] Number of positive: 21783, number of negative: 9825\n",
            "[LightGBM] [Info] Auto-choosing col-wise multi-threading, the overhead of testing was 0.376952 seconds.\n",
            "You can set `force_col_wise=true` to remove the overhead.\n",
            "[LightGBM] [Info] Total Bins 243196\n",
            "[LightGBM] [Info] Number of data points in the train set: 31608, number of used features: 6919\n",
            "[LightGBM] [Info] [binary:BoostFromScore]: pavg=0.500000 -> initscore=0.000000\n",
            "[LightGBM] [Info] Start training from score 0.000000\n",
            "Validation F1-Score for n_estimators=100, learning_rate=0.01, max_depth=-1, num_leaves=31, min_child_samples=10, class_weight=balanced: 0.8942\n",
            "[LightGBM] [Info] Number of positive: 21783, number of negative: 9825\n",
            "[LightGBM] [Info] Auto-choosing row-wise multi-threading, the overhead of testing was 0.246735 seconds.\n",
            "You can set `force_row_wise=true` to remove the overhead.\n",
            "And if memory is not enough, you can set `force_col_wise=true`.\n",
            "[LightGBM] [Info] Total Bins 229751\n",
            "[LightGBM] [Info] Number of data points in the train set: 31608, number of used features: 4631\n",
            "[LightGBM] [Info] [binary:BoostFromScore]: pavg=0.689161 -> initscore=0.796200\n",
            "[LightGBM] [Info] Start training from score 0.796200\n",
            "Validation F1-Score for n_estimators=100, learning_rate=0.01, max_depth=-1, num_leaves=31, min_child_samples=20, class_weight=None: 0.8927\n",
            "[LightGBM] [Info] Number of positive: 21783, number of negative: 9825\n",
            "[LightGBM] [Info] Auto-choosing col-wise multi-threading, the overhead of testing was 0.275257 seconds.\n",
            "You can set `force_col_wise=true` to remove the overhead.\n",
            "[LightGBM] [Info] Total Bins 229751\n",
            "[LightGBM] [Info] Number of data points in the train set: 31608, number of used features: 4631\n",
            "[LightGBM] [Info] [binary:BoostFromScore]: pavg=0.500000 -> initscore=0.000000\n",
            "[LightGBM] [Info] Start training from score 0.000000\n",
            "Validation F1-Score for n_estimators=100, learning_rate=0.01, max_depth=-1, num_leaves=31, min_child_samples=20, class_weight=balanced: 0.8942\n",
            "[LightGBM] [Info] Number of positive: 21783, number of negative: 9825\n",
            "[LightGBM] [Info] Auto-choosing col-wise multi-threading, the overhead of testing was 0.347456 seconds.\n",
            "You can set `force_col_wise=true` to remove the overhead.\n",
            "[LightGBM] [Info] Total Bins 243196\n",
            "[LightGBM] [Info] Number of data points in the train set: 31608, number of used features: 6919\n",
            "[LightGBM] [Info] [binary:BoostFromScore]: pavg=0.689161 -> initscore=0.796200\n",
            "[LightGBM] [Info] Start training from score 0.796200\n",
            "Validation F1-Score for n_estimators=100, learning_rate=0.01, max_depth=-1, num_leaves=50, min_child_samples=10, class_weight=None: 0.9072\n",
            "[LightGBM] [Info] Number of positive: 21783, number of negative: 9825\n",
            "[LightGBM] [Info] Auto-choosing col-wise multi-threading, the overhead of testing was 0.407831 seconds.\n",
            "You can set `force_col_wise=true` to remove the overhead.\n",
            "[LightGBM] [Info] Total Bins 243196\n",
            "[LightGBM] [Info] Number of data points in the train set: 31608, number of used features: 6919\n",
            "[LightGBM] [Info] [binary:BoostFromScore]: pavg=0.500000 -> initscore=0.000000\n",
            "[LightGBM] [Info] Start training from score 0.000000\n",
            "Validation F1-Score for n_estimators=100, learning_rate=0.01, max_depth=-1, num_leaves=50, min_child_samples=10, class_weight=balanced: 0.9011\n",
            "[LightGBM] [Info] Number of positive: 21783, number of negative: 9825\n",
            "[LightGBM] [Info] Auto-choosing col-wise multi-threading, the overhead of testing was 0.242981 seconds.\n",
            "You can set `force_col_wise=true` to remove the overhead.\n",
            "[LightGBM] [Info] Total Bins 229751\n",
            "[LightGBM] [Info] Number of data points in the train set: 31608, number of used features: 4631\n",
            "[LightGBM] [Info] [binary:BoostFromScore]: pavg=0.689161 -> initscore=0.796200\n",
            "[LightGBM] [Info] Start training from score 0.796200\n",
            "Validation F1-Score for n_estimators=100, learning_rate=0.01, max_depth=-1, num_leaves=50, min_child_samples=20, class_weight=None: 0.9067\n",
            "[LightGBM] [Info] Number of positive: 21783, number of negative: 9825\n",
            "[LightGBM] [Info] Auto-choosing row-wise multi-threading, the overhead of testing was 0.241409 seconds.\n",
            "You can set `force_row_wise=true` to remove the overhead.\n",
            "And if memory is not enough, you can set `force_col_wise=true`.\n",
            "[LightGBM] [Info] Total Bins 229751\n",
            "[LightGBM] [Info] Number of data points in the train set: 31608, number of used features: 4631\n",
            "[LightGBM] [Info] [binary:BoostFromScore]: pavg=0.500000 -> initscore=0.000000\n",
            "[LightGBM] [Info] Start training from score 0.000000\n",
            "Validation F1-Score for n_estimators=100, learning_rate=0.01, max_depth=-1, num_leaves=50, min_child_samples=20, class_weight=balanced: 0.9002\n",
            "[LightGBM] [Info] Number of positive: 21783, number of negative: 9825\n",
            "[LightGBM] [Info] Auto-choosing col-wise multi-threading, the overhead of testing was 0.368777 seconds.\n",
            "You can set `force_col_wise=true` to remove the overhead.\n",
            "[LightGBM] [Info] Total Bins 243196\n",
            "[LightGBM] [Info] Number of data points in the train set: 31608, number of used features: 6919\n",
            "[LightGBM] [Info] [binary:BoostFromScore]: pavg=0.689161 -> initscore=0.796200\n",
            "[LightGBM] [Info] Start training from score 0.796200\n",
            "Validation F1-Score for n_estimators=100, learning_rate=0.01, max_depth=10, num_leaves=31, min_child_samples=10, class_weight=None: 0.8892\n",
            "[LightGBM] [Info] Number of positive: 21783, number of negative: 9825\n",
            "[LightGBM] [Info] Auto-choosing col-wise multi-threading, the overhead of testing was 0.381432 seconds.\n",
            "You can set `force_col_wise=true` to remove the overhead.\n",
            "[LightGBM] [Info] Total Bins 243196\n",
            "[LightGBM] [Info] Number of data points in the train set: 31608, number of used features: 6919\n",
            "[LightGBM] [Info] [binary:BoostFromScore]: pavg=0.500000 -> initscore=0.000000\n",
            "[LightGBM] [Info] Start training from score 0.000000\n",
            "Validation F1-Score for n_estimators=100, learning_rate=0.01, max_depth=10, num_leaves=31, min_child_samples=10, class_weight=balanced: 0.8657\n",
            "[LightGBM] [Info] Number of positive: 21783, number of negative: 9825\n",
            "[LightGBM] [Info] Auto-choosing col-wise multi-threading, the overhead of testing was 0.238224 seconds.\n",
            "You can set `force_col_wise=true` to remove the overhead.\n",
            "[LightGBM] [Info] Total Bins 229751\n",
            "[LightGBM] [Info] Number of data points in the train set: 31608, number of used features: 4631\n",
            "[LightGBM] [Info] [binary:BoostFromScore]: pavg=0.689161 -> initscore=0.796200\n",
            "[LightGBM] [Info] Start training from score 0.796200\n",
            "Validation F1-Score for n_estimators=100, learning_rate=0.01, max_depth=10, num_leaves=31, min_child_samples=20, class_weight=None: 0.8886\n",
            "[LightGBM] [Info] Number of positive: 21783, number of negative: 9825\n",
            "[LightGBM] [Info] Auto-choosing col-wise multi-threading, the overhead of testing was 0.324819 seconds.\n",
            "You can set `force_col_wise=true` to remove the overhead.\n",
            "[LightGBM] [Info] Total Bins 229751\n",
            "[LightGBM] [Info] Number of data points in the train set: 31608, number of used features: 4631\n",
            "[LightGBM] [Info] [binary:BoostFromScore]: pavg=0.500000 -> initscore=0.000000\n",
            "[LightGBM] [Info] Start training from score 0.000000\n",
            "Validation F1-Score for n_estimators=100, learning_rate=0.01, max_depth=10, num_leaves=31, min_child_samples=20, class_weight=balanced: 0.8655\n",
            "[LightGBM] [Info] Number of positive: 21783, number of negative: 9825\n",
            "[LightGBM] [Info] Auto-choosing col-wise multi-threading, the overhead of testing was 0.351984 seconds.\n",
            "You can set `force_col_wise=true` to remove the overhead.\n",
            "[LightGBM] [Info] Total Bins 243196\n",
            "[LightGBM] [Info] Number of data points in the train set: 31608, number of used features: 6919\n",
            "[LightGBM] [Info] [binary:BoostFromScore]: pavg=0.689161 -> initscore=0.796200\n",
            "[LightGBM] [Info] Start training from score 0.796200\n",
            "Validation F1-Score for n_estimators=100, learning_rate=0.01, max_depth=10, num_leaves=50, min_child_samples=10, class_weight=None: 0.8890\n",
            "[LightGBM] [Info] Number of positive: 21783, number of negative: 9825\n",
            "[LightGBM] [Info] Auto-choosing row-wise multi-threading, the overhead of testing was 0.907912 seconds.\n",
            "You can set `force_row_wise=true` to remove the overhead.\n",
            "And if memory is not enough, you can set `force_col_wise=true`.\n",
            "[LightGBM] [Info] Total Bins 243196\n",
            "[LightGBM] [Info] Number of data points in the train set: 31608, number of used features: 6919\n",
            "[LightGBM] [Info] [binary:BoostFromScore]: pavg=0.500000 -> initscore=0.000000\n",
            "[LightGBM] [Info] Start training from score 0.000000\n",
            "Validation F1-Score for n_estimators=100, learning_rate=0.01, max_depth=10, num_leaves=50, min_child_samples=10, class_weight=balanced: 0.8656\n",
            "[LightGBM] [Info] Number of positive: 21783, number of negative: 9825\n",
            "[LightGBM] [Info] Auto-choosing col-wise multi-threading, the overhead of testing was 0.248434 seconds.\n",
            "You can set `force_col_wise=true` to remove the overhead.\n",
            "[LightGBM] [Info] Total Bins 229751\n",
            "[LightGBM] [Info] Number of data points in the train set: 31608, number of used features: 4631\n",
            "[LightGBM] [Info] [binary:BoostFromScore]: pavg=0.689161 -> initscore=0.796200\n",
            "[LightGBM] [Info] Start training from score 0.796200\n",
            "Validation F1-Score for n_estimators=100, learning_rate=0.01, max_depth=10, num_leaves=50, min_child_samples=20, class_weight=None: 0.8883\n",
            "[LightGBM] [Info] Number of positive: 21783, number of negative: 9825\n",
            "[LightGBM] [Info] Auto-choosing col-wise multi-threading, the overhead of testing was 0.428752 seconds.\n",
            "You can set `force_col_wise=true` to remove the overhead.\n",
            "[LightGBM] [Info] Total Bins 229751\n",
            "[LightGBM] [Info] Number of data points in the train set: 31608, number of used features: 4631\n",
            "[LightGBM] [Info] [binary:BoostFromScore]: pavg=0.500000 -> initscore=0.000000\n",
            "[LightGBM] [Info] Start training from score 0.000000\n",
            "Validation F1-Score for n_estimators=100, learning_rate=0.01, max_depth=10, num_leaves=50, min_child_samples=20, class_weight=balanced: 0.8649\n",
            "[LightGBM] [Info] Number of positive: 21783, number of negative: 9825\n",
            "[LightGBM] [Info] Auto-choosing col-wise multi-threading, the overhead of testing was 0.364189 seconds.\n",
            "You can set `force_col_wise=true` to remove the overhead.\n",
            "[LightGBM] [Info] Total Bins 243196\n",
            "[LightGBM] [Info] Number of data points in the train set: 31608, number of used features: 6919\n",
            "[LightGBM] [Info] [binary:BoostFromScore]: pavg=0.689161 -> initscore=0.796200\n",
            "[LightGBM] [Info] Start training from score 0.796200\n",
            "Validation F1-Score for n_estimators=100, learning_rate=0.1, max_depth=-1, num_leaves=31, min_child_samples=10, class_weight=None: 0.9306\n",
            "[LightGBM] [Info] Number of positive: 21783, number of negative: 9825\n",
            "[LightGBM] [Info] Auto-choosing col-wise multi-threading, the overhead of testing was 0.514368 seconds.\n",
            "You can set `force_col_wise=true` to remove the overhead.\n",
            "[LightGBM] [Info] Total Bins 243196\n",
            "[LightGBM] [Info] Number of data points in the train set: 31608, number of used features: 6919\n",
            "[LightGBM] [Info] [binary:BoostFromScore]: pavg=0.500000 -> initscore=0.000000\n",
            "[LightGBM] [Info] Start training from score 0.000000\n",
            "Validation F1-Score for n_estimators=100, learning_rate=0.1, max_depth=-1, num_leaves=31, min_child_samples=10, class_weight=balanced: 0.9289\n",
            "[LightGBM] [Info] Number of positive: 21783, number of negative: 9825\n",
            "[LightGBM] [Info] Auto-choosing col-wise multi-threading, the overhead of testing was 0.237083 seconds.\n",
            "You can set `force_col_wise=true` to remove the overhead.\n",
            "[LightGBM] [Info] Total Bins 229751\n",
            "[LightGBM] [Info] Number of data points in the train set: 31608, number of used features: 4631\n",
            "[LightGBM] [Info] [binary:BoostFromScore]: pavg=0.689161 -> initscore=0.796200\n",
            "[LightGBM] [Info] Start training from score 0.796200\n",
            "Validation F1-Score for n_estimators=100, learning_rate=0.1, max_depth=-1, num_leaves=31, min_child_samples=20, class_weight=None: 0.9324\n",
            "[LightGBM] [Info] Number of positive: 21783, number of negative: 9825\n",
            "[LightGBM] [Info] Auto-choosing col-wise multi-threading, the overhead of testing was 0.253711 seconds.\n",
            "You can set `force_col_wise=true` to remove the overhead.\n",
            "[LightGBM] [Info] Total Bins 229751\n",
            "[LightGBM] [Info] Number of data points in the train set: 31608, number of used features: 4631\n",
            "[LightGBM] [Info] [binary:BoostFromScore]: pavg=0.500000 -> initscore=0.000000\n",
            "[LightGBM] [Info] Start training from score 0.000000\n",
            "Validation F1-Score for n_estimators=100, learning_rate=0.1, max_depth=-1, num_leaves=31, min_child_samples=20, class_weight=balanced: 0.9287\n",
            "[LightGBM] [Info] Number of positive: 21783, number of negative: 9825\n",
            "[LightGBM] [Info] Auto-choosing col-wise multi-threading, the overhead of testing was 0.384467 seconds.\n",
            "You can set `force_col_wise=true` to remove the overhead.\n",
            "[LightGBM] [Info] Total Bins 243196\n",
            "[LightGBM] [Info] Number of data points in the train set: 31608, number of used features: 6919\n",
            "[LightGBM] [Info] [binary:BoostFromScore]: pavg=0.689161 -> initscore=0.796200\n",
            "[LightGBM] [Info] Start training from score 0.796200\n",
            "Validation F1-Score for n_estimators=100, learning_rate=0.1, max_depth=-1, num_leaves=50, min_child_samples=10, class_weight=None: 0.9357\n",
            "[LightGBM] [Info] Number of positive: 21783, number of negative: 9825\n",
            "[LightGBM] [Info] Auto-choosing row-wise multi-threading, the overhead of testing was 0.447276 seconds.\n",
            "You can set `force_row_wise=true` to remove the overhead.\n",
            "And if memory is not enough, you can set `force_col_wise=true`.\n",
            "[LightGBM] [Info] Total Bins 243196\n",
            "[LightGBM] [Info] Number of data points in the train set: 31608, number of used features: 6919\n",
            "[LightGBM] [Info] [binary:BoostFromScore]: pavg=0.500000 -> initscore=0.000000\n",
            "[LightGBM] [Info] Start training from score 0.000000\n",
            "Validation F1-Score for n_estimators=100, learning_rate=0.1, max_depth=-1, num_leaves=50, min_child_samples=10, class_weight=balanced: 0.9334\n",
            "[LightGBM] [Info] Number of positive: 21783, number of negative: 9825\n",
            "[LightGBM] [Info] Auto-choosing col-wise multi-threading, the overhead of testing was 0.247052 seconds.\n",
            "You can set `force_col_wise=true` to remove the overhead.\n",
            "[LightGBM] [Info] Total Bins 229751\n",
            "[LightGBM] [Info] Number of data points in the train set: 31608, number of used features: 4631\n",
            "[LightGBM] [Info] [binary:BoostFromScore]: pavg=0.689161 -> initscore=0.796200\n",
            "[LightGBM] [Info] Start training from score 0.796200\n",
            "Validation F1-Score for n_estimators=100, learning_rate=0.1, max_depth=-1, num_leaves=50, min_child_samples=20, class_weight=None: 0.9356\n",
            "[LightGBM] [Info] Number of positive: 21783, number of negative: 9825\n",
            "[LightGBM] [Info] Auto-choosing row-wise multi-threading, the overhead of testing was 0.246042 seconds.\n",
            "You can set `force_row_wise=true` to remove the overhead.\n",
            "And if memory is not enough, you can set `force_col_wise=true`.\n",
            "[LightGBM] [Info] Total Bins 229751\n",
            "[LightGBM] [Info] Number of data points in the train set: 31608, number of used features: 4631\n",
            "[LightGBM] [Info] [binary:BoostFromScore]: pavg=0.500000 -> initscore=0.000000\n",
            "[LightGBM] [Info] Start training from score 0.000000\n",
            "Validation F1-Score for n_estimators=100, learning_rate=0.1, max_depth=-1, num_leaves=50, min_child_samples=20, class_weight=balanced: 0.9330\n",
            "[LightGBM] [Info] Number of positive: 21783, number of negative: 9825\n",
            "[LightGBM] [Info] Auto-choosing row-wise multi-threading, the overhead of testing was 0.341337 seconds.\n",
            "You can set `force_row_wise=true` to remove the overhead.\n",
            "And if memory is not enough, you can set `force_col_wise=true`.\n",
            "[LightGBM] [Info] Total Bins 243196\n",
            "[LightGBM] [Info] Number of data points in the train set: 31608, number of used features: 6919\n",
            "[LightGBM] [Info] [binary:BoostFromScore]: pavg=0.689161 -> initscore=0.796200\n",
            "[LightGBM] [Info] Start training from score 0.796200\n",
            "Validation F1-Score for n_estimators=100, learning_rate=0.1, max_depth=10, num_leaves=31, min_child_samples=10, class_weight=None: 0.9234\n",
            "[LightGBM] [Info] Number of positive: 21783, number of negative: 9825\n",
            "[LightGBM] [Info] Auto-choosing col-wise multi-threading, the overhead of testing was 0.363625 seconds.\n",
            "You can set `force_col_wise=true` to remove the overhead.\n",
            "[LightGBM] [Info] Total Bins 243196\n",
            "[LightGBM] [Info] Number of data points in the train set: 31608, number of used features: 6919\n",
            "[LightGBM] [Info] [binary:BoostFromScore]: pavg=0.500000 -> initscore=0.000000\n",
            "[LightGBM] [Info] Start training from score 0.000000\n",
            "Validation F1-Score for n_estimators=100, learning_rate=0.1, max_depth=10, num_leaves=31, min_child_samples=10, class_weight=balanced: 0.9162\n",
            "[LightGBM] [Info] Number of positive: 21783, number of negative: 9825\n",
            "[LightGBM] [Info] Auto-choosing row-wise multi-threading, the overhead of testing was 0.249868 seconds.\n",
            "You can set `force_row_wise=true` to remove the overhead.\n",
            "And if memory is not enough, you can set `force_col_wise=true`.\n",
            "[LightGBM] [Info] Total Bins 229751\n",
            "[LightGBM] [Info] Number of data points in the train set: 31608, number of used features: 4631\n",
            "[LightGBM] [Info] [binary:BoostFromScore]: pavg=0.689161 -> initscore=0.796200\n",
            "[LightGBM] [Info] Start training from score 0.796200\n",
            "Validation F1-Score for n_estimators=100, learning_rate=0.1, max_depth=10, num_leaves=31, min_child_samples=20, class_weight=None: 0.9241\n",
            "[LightGBM] [Info] Number of positive: 21783, number of negative: 9825\n",
            "[LightGBM] [Info] Auto-choosing col-wise multi-threading, the overhead of testing was 0.260794 seconds.\n",
            "You can set `force_col_wise=true` to remove the overhead.\n",
            "[LightGBM] [Info] Total Bins 229751\n",
            "[LightGBM] [Info] Number of data points in the train set: 31608, number of used features: 4631\n",
            "[LightGBM] [Info] [binary:BoostFromScore]: pavg=0.500000 -> initscore=0.000000\n",
            "[LightGBM] [Info] Start training from score 0.000000\n",
            "Validation F1-Score for n_estimators=100, learning_rate=0.1, max_depth=10, num_leaves=31, min_child_samples=20, class_weight=balanced: 0.9155\n",
            "[LightGBM] [Info] Number of positive: 21783, number of negative: 9825\n",
            "[LightGBM] [Info] Auto-choosing col-wise multi-threading, the overhead of testing was 0.362456 seconds.\n",
            "You can set `force_col_wise=true` to remove the overhead.\n",
            "[LightGBM] [Info] Total Bins 243196\n",
            "[LightGBM] [Info] Number of data points in the train set: 31608, number of used features: 6919\n",
            "[LightGBM] [Info] [binary:BoostFromScore]: pavg=0.689161 -> initscore=0.796200\n",
            "[LightGBM] [Info] Start training from score 0.796200\n",
            "[LightGBM] [Warning] No further splits with positive gain, best gain: -inf\n",
            "Validation F1-Score for n_estimators=100, learning_rate=0.1, max_depth=10, num_leaves=50, min_child_samples=10, class_weight=None: 0.9238\n",
            "[LightGBM] [Info] Number of positive: 21783, number of negative: 9825\n",
            "[LightGBM] [Info] Auto-choosing col-wise multi-threading, the overhead of testing was 0.379276 seconds.\n",
            "You can set `force_col_wise=true` to remove the overhead.\n",
            "[LightGBM] [Info] Total Bins 243196\n",
            "[LightGBM] [Info] Number of data points in the train set: 31608, number of used features: 6919\n",
            "[LightGBM] [Info] [binary:BoostFromScore]: pavg=0.500000 -> initscore=0.000000\n",
            "[LightGBM] [Info] Start training from score 0.000000\n",
            "[LightGBM] [Warning] No further splits with positive gain, best gain: -inf\n",
            "Validation F1-Score for n_estimators=100, learning_rate=0.1, max_depth=10, num_leaves=50, min_child_samples=10, class_weight=balanced: 0.9178\n",
            "[LightGBM] [Info] Number of positive: 21783, number of negative: 9825\n",
            "[LightGBM] [Info] Auto-choosing col-wise multi-threading, the overhead of testing was 0.249389 seconds.\n",
            "You can set `force_col_wise=true` to remove the overhead.\n",
            "[LightGBM] [Info] Total Bins 229751\n",
            "[LightGBM] [Info] Number of data points in the train set: 31608, number of used features: 4631\n",
            "[LightGBM] [Info] [binary:BoostFromScore]: pavg=0.689161 -> initscore=0.796200\n",
            "[LightGBM] [Info] Start training from score 0.796200\n",
            "[LightGBM] [Warning] No further splits with positive gain, best gain: -inf\n",
            "[LightGBM] [Warning] No further splits with positive gain, best gain: -inf\n",
            "[LightGBM] [Warning] No further splits with positive gain, best gain: -inf\n",
            "Validation F1-Score for n_estimators=100, learning_rate=0.1, max_depth=10, num_leaves=50, min_child_samples=20, class_weight=None: 0.9239\n",
            "[LightGBM] [Info] Number of positive: 21783, number of negative: 9825\n",
            "[LightGBM] [Info] Auto-choosing col-wise multi-threading, the overhead of testing was 0.249630 seconds.\n",
            "You can set `force_col_wise=true` to remove the overhead.\n",
            "[LightGBM] [Info] Total Bins 229751\n",
            "[LightGBM] [Info] Number of data points in the train set: 31608, number of used features: 4631\n",
            "[LightGBM] [Info] [binary:BoostFromScore]: pavg=0.500000 -> initscore=0.000000\n",
            "[LightGBM] [Info] Start training from score 0.000000\n",
            "[LightGBM] [Warning] No further splits with positive gain, best gain: -inf\n",
            "[LightGBM] [Warning] No further splits with positive gain, best gain: -inf\n",
            "[LightGBM] [Warning] No further splits with positive gain, best gain: -inf\n",
            "[LightGBM] [Warning] No further splits with positive gain, best gain: -inf\n",
            "[LightGBM] [Warning] No further splits with positive gain, best gain: -inf\n",
            "Validation F1-Score for n_estimators=100, learning_rate=0.1, max_depth=10, num_leaves=50, min_child_samples=20, class_weight=balanced: 0.9177\n",
            "\n",
            "Best Hyperparameters: {'n_estimators': 100, 'learning_rate': 0.1, 'max_depth': -1, 'num_leaves': 50, 'min_child_samples': 10, 'class_weight': None}\n",
            "Best Validation F1-Score: 0.9357090466891241\n",
            "Total Parameter Tuning Time: 336.65 seconds\n"
          ]
        }
      ],
      "source": [
        "random.seed(1234)\n",
        "\n",
        "param_grid = {\n",
        "    'n_estimators': [50, 100],            # Reduced to two options for number of boosting iterations\n",
        "    'learning_rate': [0.01, 0.1],         # Reduced to two commonly used learning rates\n",
        "    'max_depth': [-1, 10],                # Focus on unlimited depth (-1) and a typical max depth (10)\n",
        "    'num_leaves': [31, 50],               # Removed larger values for simplicity\n",
        "    'min_child_samples': [10, 20],        # Focused on fewer options for minimum child samples\n",
        "    'class_weight': [None, 'balanced']    # Retained both options for class imbalance handling\n",
        "}\n",
        "\n",
        "# Grid search\n",
        "best_f1 = 0\n",
        "best_model = None\n",
        "best_params = None\n",
        "\n",
        "# Start timer\n",
        "start_time = time.time()\n",
        "\n",
        "# Iterate through all combinations of parameters\n",
        "for n_estimators, learning_rate, max_depth, num_leaves, min_child_samples, class_weight in product(\n",
        "    param_grid['n_estimators'],\n",
        "    param_grid['learning_rate'],\n",
        "    param_grid['max_depth'],\n",
        "    param_grid['num_leaves'],\n",
        "    param_grid['min_child_samples'],\n",
        "    param_grid['class_weight']\n",
        "):\n",
        "    try:\n",
        "        # Create the LightGBM model with current parameters\n",
        "        model = LGBMClassifier(\n",
        "            n_estimators=n_estimators,\n",
        "            learning_rate=learning_rate,\n",
        "            max_depth=max_depth,\n",
        "            num_leaves=num_leaves,\n",
        "            min_child_samples=min_child_samples,\n",
        "            class_weight=class_weight,\n",
        "            random_state=42,\n",
        "            n_jobs=-1\n",
        "        )\n",
        "\n",
        "        # Train the model\n",
        "        model.fit(X_train_1, y_train_1)\n",
        "\n",
        "        # Validate the model\n",
        "        y_val_pred = model.predict(X_val_1)\n",
        "        f1 = f1_score(y_val_1, y_val_pred,average = 'weighted')\n",
        "        print(f\"Validation F1-Score for n_estimators={n_estimators}, learning_rate={learning_rate}, \"\n",
        "              f\"max_depth={max_depth}, num_leaves={num_leaves}, \"\n",
        "              f\"min_child_samples={min_child_samples}, class_weight={class_weight}: {f1:.4f}\")\n",
        "\n",
        "        # Update the best model if current one is better\n",
        "        if f1 > best_f1:\n",
        "            best_f1 = f1\n",
        "            best_model = model\n",
        "            best_params = {\n",
        "                'n_estimators': n_estimators,\n",
        "                'learning_rate': learning_rate,\n",
        "                'max_depth': max_depth,\n",
        "                'num_leaves': num_leaves,\n",
        "                'min_child_samples': min_child_samples,\n",
        "                'class_weight': class_weight\n",
        "            }\n",
        "    except Exception as e:\n",
        "        print(f\"Skipping combination n_estimators={n_estimators}, learning_rate={learning_rate}, \"\n",
        "              f\"max_depth={max_depth}, num_leaves={num_leaves}, \"\n",
        "              f\"min_child_samples={min_child_samples}, class_weight={class_weight} due to error: {e}\")\n",
        "\n",
        "# End timer\n",
        "end_time = time.time()\n",
        "total_time = end_time - start_time\n",
        "\n",
        "# Print the best parameters and F1 score\n",
        "print(\"\\nBest Hyperparameters:\", best_params)\n",
        "print(\"Best Validation F1-Score:\", best_f1)\n",
        "print(f\"Total Parameter Tuning Time: {total_time:.2f} seconds\")"
      ]
    },
    {
      "cell_type": "code",
      "execution_count": null,
      "metadata": {
        "colab": {
          "base_uri": "https://localhost:8080/"
        },
        "id": "pwq458GrhAf9",
        "outputId": "ad059ac9-2fa3-41a3-9fa3-5bf2d1da32de"
      },
      "outputs": [
        {
          "name": "stdout",
          "output_type": "stream",
          "text": [
            "\n",
            "Test Performance:\n",
            "              precision    recall  f1-score   support\n",
            "\n",
            "           0       0.89      0.90      0.90      3267\n",
            "           1       0.96      0.95      0.95      7270\n",
            "\n",
            "    accuracy                           0.94     10537\n",
            "   macro avg       0.92      0.93      0.93     10537\n",
            "weighted avg       0.94      0.94      0.94     10537\n",
            "\n"
          ]
        }
      ],
      "source": [
        "## Evaluate the Model on test set\n",
        "y_test_pred = best_model.predict(X_test_1)\n",
        "print(\"\\nTest Performance:\")\n",
        "print(classification_report(y_test_1, y_test_pred))\n"
      ]
    },
    {
      "cell_type": "code",
      "execution_count": null,
      "metadata": {
        "colab": {
          "base_uri": "https://localhost:8080/"
        },
        "id": "V_xEX0B9i1Me",
        "outputId": "5e1ac19e-b950-4107-d3b9-2e0e1b58f6ba"
      },
      "outputs": [
        {
          "data": {
            "text/plain": [
              "0.9358385686099059"
            ]
          },
          "execution_count": 25,
          "metadata": {},
          "output_type": "execute_result"
        }
      ],
      "source": [
        "f1_score(y_test_1,y_test_pred,average = 'weighted')"
      ]
    },
    {
      "cell_type": "code",
      "execution_count": null,
      "metadata": {
        "colab": {
          "base_uri": "https://localhost:8080/",
          "height": 1000
        },
        "id": "ZU0Nj0ithAl1",
        "outputId": "33fbbc6f-788c-4a48-decc-70956532e158"
      },
      "outputs": [
        {
          "data": {
            "image/png": "[encoded data removed]",
            "text/plain": [
              "<Figure size 600x600 with 2 Axes>"
            ]
          },
          "metadata": {},
          "output_type": "display_data"
        },
        {
          "data": {
            "image/png": "[encoded data removed]",
            "text/plain": [
              "<Figure size 800x600 with 1 Axes>"
            ]
          },
          "metadata": {},
          "output_type": "display_data"
        }
      ],
      "source": [
        "# Confusion Matrix\n",
        "conf_matrix = confusion_matrix(y_test_1, y_test_pred)\n",
        "plt.figure(figsize=(6, 6))\n",
        "sns.heatmap(conf_matrix, annot=True, fmt='d', cmap='Blues', xticklabels=['No Issue', 'Issue'], yticklabels=['No Issue', 'Issue'])\n",
        "plt.xlabel('Predicted')\n",
        "plt.ylabel('Actual')\n",
        "plt.title('Confusion Matrix - Binary: LGBM')\n",
        "plt.show()\n",
        "\n",
        "# ROC Curve\n",
        "fpr, tpr, thresholds = roc_curve(y_test_1, y_test_pred)\n",
        "roc_auc = auc(fpr, tpr)\n",
        "\n",
        "plt.figure(figsize=(8, 6))\n",
        "plt.plot(fpr, tpr, label=f'AUC = {roc_auc:.2f}')\n",
        "plt.plot([0, 1], [0, 1], linestyle='--', color='gray')\n",
        "plt.xlabel('False Positive Rate')\n",
        "plt.ylabel('True Positive Rate')\n",
        "plt.title('ROC Curve - Binary: LGBM')\n",
        "plt.legend(loc='lower right')\n",
        "plt.show()\n"
      ]
    },
    {
      "cell_type": "markdown",
      "metadata": {
        "id": "FEX8CIK8TUe6"
      },
      "source": [
        "## 3.2  DL Models\n"
      ]
    },
    {
      "cell_type": "code",
      "execution_count": null,
      "metadata": {
        "colab": {
          "base_uri": "https://localhost:8080/"
        },
        "id": "MLzu2wsNDB4s",
        "outputId": "01345e65-6d3d-476b-d0fd-2cdb63155a81"
      },
      "outputs": [
        {
          "data": {
            "text/plain": [
              "device(type='cuda')"
            ]
          },
          "execution_count": 1,
          "metadata": {},
          "output_type": "execute_result"
        }
      ],
      "source": [
        "import pandas as pd\n",
        "import numpy as np\n",
        "from sklearn.model_selection import train_test_split\n",
        "from sklearn.utils.class_weight import compute_class_weight\n",
        "from sklearn.metrics import classification_report, confusion_matrix, roc_curve, auc\n",
        "import torch\n",
        "from transformers import AlbertTokenizer, AlbertForSequenceClassification, Trainer, TrainingArguments\n",
        "import matplotlib.pyplot as plt\n",
        "import seaborn as sns\n",
        "import pandas as pd\n",
        "import torch\n",
        "from torch.utils.data import Dataset, DataLoader\n",
        "from transformers import AlbertTokenizer, AlbertForSequenceClassification\n",
        "from transformers import DistilBertTokenizer, DistilBertForSequenceClassification\n",
        "from transformers import AdamW\n",
        "from sklearn.model_selection import train_test_split\n",
        "from sklearn.metrics import accuracy_score, classification_report\n",
        "from tqdm import tqdm\n",
        "from collections import Counter\n",
        "import torch\n",
        "from torch import nn\n",
        "from torch.utils.data import Dataset, DataLoader\n",
        "from sklearn.model_selection import train_test_split\n",
        "from sklearn.metrics import accuracy_score, classification_report, confusion_matrix, roc_curve, auc\n",
        "import matplotlib.pyplot as plt\n",
        "import seaborn as sns\n",
        "from tqdm import tqdm\n",
        "device = torch.device('cuda' if torch.cuda.is_available() else 'cpu')\n",
        "device"
      ]
    },
    {
      "cell_type": "markdown",
      "metadata": {
        "id": "qzNU0z_-i8H_"
      },
      "source": [
        "### 3.2.1 ALBERT"
      ]
    },
    {
      "cell_type": "code",
      "execution_count": null,
      "metadata": {
        "id": "lOEPL9wUBgRo"
      },
      "outputs": [],
      "source": [
        "#make a copy especially for ALBERT\n",
        "df2 = df.copy()"
      ]
    },
    {
      "cell_type": "code",
      "execution_count": null,
      "metadata": {
        "id": "Xf8tCnt8DFH-"
      },
      "outputs": [],
      "source": [
        "# Pre-processing for ALBERT\n",
        "def clean_text_Albert(text):\n",
        "    text = text.lower()  # Convert to lowercase\n",
        "    text = re.sub(r\"http\\S+\", \"<URL>\", text)  # Replace URLs with <URL>\n",
        "    text = re.sub(r\"@\\w+\", \"<USER>\", text)   # Replace mentions with <USER>\n",
        "    text = re.sub(r\"#\\w+\", \"<HASHTAG>\", text)  # Replace hashtags with <HASHTAG>\n",
        "    text = re.sub(r\"[^\\w\\s]\", \"\", text)      # Remove special characters\n",
        "    text = re.sub(r\"\\s+\", \" \", text)         # Normalize whitespace\n",
        "    return text.strip()\n",
        "\n",
        "df2['statement'] = df2['statement'].apply(clean_text_Albert)"
      ]
    },
    {
      "cell_type": "markdown",
      "metadata": {
        "id": "x-YJ64ZLEatB"
      },
      "source": [
        "Pre-processing is minimal for ALBERT,\n",
        "\n",
        "Not Required:\n",
        "\n",
        "Stopword Removal:\\\n",
        "ALBERT learns word importance from context, so stopwords (e.g., \"the\", \"is\") should remain.\n",
        "\n",
        "Lemmatization:\\\n",
        "Transformer models like ALBERT are context-aware and already handle semantic relationships between words like \"running\", \"ran\", and \"run\". Lemmatization or stemming can be skipped.\n",
        "\n",
        "\n",
        "\n",
        "Punctuation Removal:\\\n",
        "Do not remove punctuation, as it can change the meaning of sentences (e.g., \"I’m fine.\" vs. \"I’m fine!\"). But when we use traditional model with TF-IDF, removing punctuation helps reduce noises.\\\n",
        "\n",
        "Tokenization:\\\n",
        "ALBERT's tokenizer handles tokenization internally, splitting text into subword units (WordPiece tokens).\n"
      ]
    },
    {
      "cell_type": "code",
      "execution_count": null,
      "metadata": {
        "colab": {
          "base_uri": "https://localhost:8080/",
          "height": 145,
          "referenced_widgets": [
            "13b3978a61d542fab7a7416564b671f1",
            "eaa82f3cd60242bf9c378f894ebf5aa5",
            "fc255b80c8e9444b9a18da9654d2a147",
            "88b845804b994125ad3c826129dc45e7",
            "4f5aaf1a78124d32b58d487b6f26d91c",
            "9ab4bf6b1d2b4e8b8df304c3cf3cc61c",
            "978301ddd54f48aaaa02ed6a5a5e0971",
            "1822a7f610d14ff1ad802ed873af815f",
            "ac8934d6fca041d49a6ca0130c27f071",
            "78492f20483b452cb64e34e3825fe8e1",
            "145333b122534f829c376881614cd9f4",
            "da590e05eeb44ee3b2682f31b4b9b735",
            "691047065cb747f3a1b381b4b8ccf12e",
            "b9d65f26953d41fd9b374028e901ff86",
            "6a7f975bca114a44aec5059d23128f5c",
            "acd4ab68ba974b89b7904ea689f47f12",
            "ddbc86d3811d464188b3f93849951548",
            "aa208d56a9b44d59a06be711bb33bd09",
            "b5eebea110634cb08e2ab375ca3d8877",
            "ae7a791dea684aa9b7408c241df3d1b6",
            "075c1cdfa54d4128a46bb350d954de44",
            "048cd9f290f4417390a0a2f4a1dd3eeb",
            "e6270185a1d84761b6b3bef14cf3d992",
            "94b448a7ea384fb594d2eeb2fae29c91",
            "aa3965963e5b4b8e901b5db41f061b37",
            "6febc25ccb7a41fbb61a9fc73c0f319c",
            "485191c81f4745beb1ea6989a43bbde5",
            "fc74569460e9401384d0c42b44bd0b58",
            "78b730d2ee45437c99c34fa8cfe23705",
            "a1b39d26499c460c9d67c363b117d36e",
            "030db0d7f3f148e5b663967a9b4c005a",
            "af973883c969492786fb4d62991d1cd8",
            "7923bd8bee1e49dcbe1392b4f14746fa",
            "a4bb7878c3674d0c92fe710bdc4df255",
            "ae46f5fea1eb4e0793032a6f7e19bff9",
            "52c7df462b414d0c9ec46e3740174fe1",
            "0a63d5c566e14c8fb6a230f753c423d6",
            "cbfad5a13d2048d89bbf48dd9b36daec",
            "c17fb1bf02964c8d94806a05eff51fd2",
            "fec6695905fc47d89212840ec561db4d",
            "c55790770ddd4b03b2fb61adaf47dc2d",
            "96795ca925874c2eafcd3cec90da24c1",
            "89e96c98baeb4e2ba4406527dc7b1c79",
            "b1d14578378f400aba9ef4e4770e1861"
          ]
        },
        "id": "mhbAvfzVi7Ph",
        "outputId": "195fbcbd-96b6-40b3-b270-1f57c696c3ad"
      },
      "outputs": [
        {
          "data": {
            "application/vnd.jupyter.widget-view+json": {
              "model_id": "13b3978a61d542fab7a7416564b671f1",
              "version_major": 2,
              "version_minor": 0
            },
            "text/plain": [
              "tokenizer_config.json:   0%|          | 0.00/25.0 [00:00<?, ?B/s]"
            ]
          },
          "metadata": {},
          "output_type": "display_data"
        },
        {
          "data": {
            "application/vnd.jupyter.widget-view+json": {
              "model_id": "da590e05eeb44ee3b2682f31b4b9b735",
              "version_major": 2,
              "version_minor": 0
            },
            "text/plain": [
              "spiece.model:   0%|          | 0.00/760k [00:00<?, ?B/s]"
            ]
          },
          "metadata": {},
          "output_type": "display_data"
        },
        {
          "data": {
            "application/vnd.jupyter.widget-view+json": {
              "model_id": "e6270185a1d84761b6b3bef14cf3d992",
              "version_major": 2,
              "version_minor": 0
            },
            "text/plain": [
              "tokenizer.json:   0%|          | 0.00/1.31M [00:00<?, ?B/s]"
            ]
          },
          "metadata": {},
          "output_type": "display_data"
        },
        {
          "data": {
            "application/vnd.jupyter.widget-view+json": {
              "model_id": "a4bb7878c3674d0c92fe710bdc4df255",
              "version_major": 2,
              "version_minor": 0
            },
            "text/plain": [
              "config.json:   0%|          | 0.00/684 [00:00<?, ?B/s]"
            ]
          },
          "metadata": {},
          "output_type": "display_data"
        }
      ],
      "source": [
        "# Initial train-test split: 60% train, 20% test, 20% validation\n",
        "train_texts_2, test_texts_2, train_labels_2, test_labels_2 = train_test_split(\n",
        "    df2['statement'].tolist(), df2['status'].tolist(), test_size=0.2, random_state=42\n",
        ")\n",
        "train_texts_2, val_texts_2, train_labels_2, val_labels_2 = train_test_split(\n",
        "    train_texts_2, train_labels_2, test_size=0.25, random_state=42  # 0.25 * 0.8 = 0.2 of original data\n",
        ")\n",
        "\n",
        "\n",
        "#Prepare the data for the model\n",
        "# Load tokenizer\n",
        "tokenizer = AlbertTokenizer.from_pretrained('albert-base-v2')\n",
        "max_len = 200\n",
        "\n",
        "# Create Dataset objects\n",
        "class SentimentDataset(Dataset):\n",
        "    def __init__(self, texts, labels, tokenizer, max_len):\n",
        "        self.texts = list(texts)  # Ensure texts is a list of strings\n",
        "        self.labels = labels\n",
        "        self.tokenizer = tokenizer\n",
        "        self.max_len = max_len\n",
        "\n",
        "    def __len__(self):\n",
        "        return len(self.labels)\n",
        "\n",
        "    def __getitem__(self, idx):\n",
        "        text = str(self.texts[idx])  # Ensure each text is a string\n",
        "        label = self.labels[idx]\n",
        "        encoding = self.tokenizer(\n",
        "            text,\n",
        "            truncation=True,\n",
        "            padding='max_length',\n",
        "            max_length=self.max_len,\n",
        "            return_tensors=\"pt\"\n",
        "        )\n",
        "        return {\n",
        "            'input_ids': encoding['input_ids'].squeeze(0),\n",
        "            'attention_mask': encoding['attention_mask'].squeeze(0),\n",
        "            'label': torch.tensor(label, dtype=torch.long)\n",
        "        }\n",
        "\n",
        "train_dataset_2 = SentimentDataset(train_texts_2, train_labels_2, tokenizer,max_len)\n",
        "test_dataset_2 = SentimentDataset(test_texts_2, test_labels_2, tokenizer,max_len)\n",
        "val_dataset_2 = SentimentDataset(val_texts_2,val_labels_2,tokenizer,max_len)\n",
        "\n",
        "\n",
        "# Create DataLoaders\n",
        "train_loader_2 = DataLoader(train_dataset_2, batch_size=4, shuffle=True)\n",
        "val_loader_2 = DataLoader(val_dataset_2,batch_size = 4)\n",
        "test_loader_2 = DataLoader(test_dataset_2, batch_size=4)"
      ]
    },
    {
      "cell_type": "code",
      "execution_count": null,
      "metadata": {
        "colab": {
          "background_save": true,
          "base_uri": "https://localhost:8080/",
          "height": 384,
          "referenced_widgets": [
            "9a68b59362754ffe9ec636d8548c84e0"
          ]
        },
        "id": "oqU67u2kQCwg",
        "outputId": "5ff97f97-88f0-418c-aa6d-e3a40a14abee"
      },
      "outputs": [
        {
          "name": "stderr",
          "output_type": "stream",
          "text": [
            "\rRandom Search Tuning:   0%|          | 0/10 [00:00<?, ?it/s]"
          ]
        },
        {
          "data": {
            "application/vnd.jupyter.widget-view+json": {
              "model_id": "9a68b59362754ffe9ec636d8548c84e0",
              "version_major": 2,
              "version_minor": 0
            },
            "text/plain": [
              "model.safetensors:   0%|          | 0.00/47.4M [00:00<?, ?B/s]"
            ]
          },
          "metadata": {},
          "output_type": "display_data"
        },
        {
          "name": "stderr",
          "output_type": "stream",
          "text": [
            "Some weights of AlbertForSequenceClassification were not initialized from the model checkpoint at albert-base-v2 and are newly initialized: ['classifier.bias', 'classifier.weight']\n",
            "You should probably TRAIN this model on a down-stream task to be able to use it for predictions and inference.\n",
            "Random Search Tuning:  10%|█         | 1/10 [39:05<5:51:47, 2345.28s/it, accuracy=0.843, f1=0.825]Some weights of AlbertForSequenceClassification were not initialized from the model checkpoint at albert-base-v2 and are newly initialized: ['classifier.bias', 'classifier.weight']\n",
            "You should probably TRAIN this model on a down-stream task to be able to use it for predictions and inference.\n",
            "Random Search Tuning:  20%|██        | 2/10 [1:08:49<4:28:42, 2015.34s/it, accuracy=0.946, f1=0.945]Some weights of AlbertForSequenceClassification were not initialized from the model checkpoint at albert-base-v2 and are newly initialized: ['classifier.bias', 'classifier.weight']\n",
            "You should probably TRAIN this model on a down-stream task to be able to use it for predictions and inference.\n",
            "Random Search Tuning:  30%|███       | 3/10 [1:47:59<4:12:57, 2168.28s/it, accuracy=0.955, f1=0.955]Some weights of AlbertForSequenceClassification were not initialized from the model checkpoint at albert-base-v2 and are newly initialized: ['classifier.bias', 'classifier.weight']\n",
            "You should probably TRAIN this model on a down-stream task to be able to use it for predictions and inference.\n",
            "Random Search Tuning:  40%|████      | 4/10 [2:27:16<3:44:15, 2242.52s/it, accuracy=0.932, f1=0.932]Some weights of AlbertForSequenceClassification were not initialized from the model checkpoint at albert-base-v2 and are newly initialized: ['classifier.bias', 'classifier.weight']\n",
            "You should probably TRAIN this model on a down-stream task to be able to use it for predictions and inference.\n",
            "Random Search Tuning:  50%|█████     | 5/10 [2:56:58<2:53:01, 2076.36s/it, accuracy=0.948, f1=0.948]Some weights of AlbertForSequenceClassification were not initialized from the model checkpoint at albert-base-v2 and are newly initialized: ['classifier.bias', 'classifier.weight']\n",
            "You should probably TRAIN this model on a down-stream task to be able to use it for predictions and inference.\n",
            "Random Search Tuning:  60%|██████    | 6/10 [3:26:42<2:11:48, 1977.11s/it, accuracy=0.856, f1=0.842]Some weights of AlbertForSequenceClassification were not initialized from the model checkpoint at albert-base-v2 and are newly initialized: ['classifier.bias', 'classifier.weight']\n",
            "You should probably TRAIN this model on a down-stream task to be able to use it for predictions and inference.\n",
            "Random Search Tuning:  70%|███████   | 7/10 [4:05:54<1:44:59, 2099.78s/it, accuracy=0.957, f1=0.957]Some weights of AlbertForSequenceClassification were not initialized from the model checkpoint at albert-base-v2 and are newly initialized: ['classifier.bias', 'classifier.weight']\n",
            "You should probably TRAIN this model on a down-stream task to be able to use it for predictions and inference.\n",
            "Random Search Tuning:  80%|████████  | 8/10 [4:45:13<1:12:44, 2182.17s/it, accuracy=0.953, f1=0.953]Some weights of AlbertForSequenceClassification were not initialized from the model checkpoint at albert-base-v2 and are newly initialized: ['classifier.bias', 'classifier.weight']\n",
            "You should probably TRAIN this model on a down-stream task to be able to use it for predictions and inference.\n",
            "Random Search Tuning:  90%|█████████ | 9/10 [5:24:23<37:14, 2234.78s/it, accuracy=0.947, f1=0.947]  Some weights of AlbertForSequenceClassification were not initialized from the model checkpoint at albert-base-v2 and are newly initialized: ['classifier.bias', 'classifier.weight']\n",
            "You should probably TRAIN this model on a down-stream task to be able to use it for predictions and inference.\n",
            "Random Search Tuning: 100%|██████████| 10/10 [5:54:03<00:00, 2124.40s/it, accuracy=0.953, f1=0.953]"
          ]
        },
        {
          "name": "stdout",
          "output_type": "stream",
          "text": [
            "Best F1 Score: 0.9571\n",
            "Best Hyperparameters: {'lr': 1.4631381572004846e-05, 'epochs': 4, 'dropout': 0.1119270550078218}\n",
            "Total Parameter Tuning Time: 21244.18 seconds\n"
          ]
        },
        {
          "name": "stderr",
          "output_type": "stream",
          "text": [
            "\n"
          ]
        }
      ],
      "source": [
        "random.seed(1234)\n",
        "\n",
        "def random_hyperparameter_tuning(train_texts, train_labels, val_texts, val_labels, tokenizer, n_iter=10):\n",
        "    # Define hyperparameter ranges\n",
        "    param_space = {\n",
        "        'lr': (np.log10(1e-5), np.log10(1e-4)),              # Learning rate range\n",
        "        'epochs': (3, 5),                # Epoch range\n",
        "        'dropout': (0.1, 0.5)           # Dropout rate range\n",
        "    }\n",
        "\n",
        "    best_f1 = 0\n",
        "    best_params = None\n",
        "    best_model = None\n",
        "\n",
        "    # Compute class weights for class imbalance\n",
        "    class_weights = compute_class_weight(class_weight='balanced', classes=np.unique(train_labels), y=train_labels)\n",
        "    class_weights = torch.tensor(class_weights, dtype=torch.float).to(device)\n",
        "\n",
        "    # Progress bar for random search iterations\n",
        "    with tqdm(total=n_iter, desc=\"Random Search Tuning\", leave=True) as pbar:\n",
        "        for _ in range(n_iter):\n",
        "            # Randomly sample hyperparameters\n",
        "            hyperparams = {\n",
        "                'lr': 10**np.random.uniform(*param_space['lr']),\n",
        "                'epochs': np.random.randint(*param_space['epochs']),\n",
        "                'dropout': np.random.uniform(*param_space['dropout'])\n",
        "            }\n",
        "\n",
        "            # Initialize model with dropout\n",
        "            model = AlbertForSequenceClassification.from_pretrained(\n",
        "                'albert-base-v2',\n",
        "                num_labels=2,\n",
        "                hidden_dropout_prob=hyperparams['dropout']\n",
        "            ).to(device)\n",
        "\n",
        "            optimizer = AdamW(model.parameters(), lr=hyperparams['lr'])\n",
        "            criterion = torch.nn.CrossEntropyLoss(weight=class_weights)\n",
        "\n",
        "            # Training loop\n",
        "            for epoch in range(hyperparams['epochs']):\n",
        "                model.train()\n",
        "                for batch in train_loader_2:\n",
        "                    input_ids = batch['input_ids'].to(device)\n",
        "                    attention_mask = batch['attention_mask'].to(device)\n",
        "                    labels = batch['label'].to(device)\n",
        "\n",
        "                    optimizer.zero_grad()\n",
        "                    outputs = model(input_ids, attention_mask=attention_mask)\n",
        "                    loss = criterion(outputs.logits, labels)\n",
        "                    loss.backward()\n",
        "                    optimizer.step()\n",
        "\n",
        "            # Validation evaluation\n",
        "            model.eval()\n",
        "            val_predictions, val_labels_batch = [], []\n",
        "            with torch.no_grad():\n",
        "                for batch in val_loader_2:\n",
        "                    input_ids = batch['input_ids'].to(device)\n",
        "                    attention_mask = batch['attention_mask'].to(device)\n",
        "                    labels = batch['label'].to(device)\n",
        "\n",
        "                    outputs = model(input_ids, attention_mask=attention_mask)\n",
        "                    preds = torch.argmax(outputs.logits, dim=1)\n",
        "                    val_predictions.extend(preds.cpu().numpy())\n",
        "                    val_labels_batch.extend(labels.cpu().numpy())\n",
        "\n",
        "            # Calculate F1-score\n",
        "            f1 = f1_score(val_labels_batch, val_predictions, average='weighted')\n",
        "            accuracy = accuracy_score(val_labels_batch, val_predictions)\n",
        "\n",
        "            # Update best model\n",
        "            if f1 > best_f1:\n",
        "                best_f1 = f1\n",
        "                best_params = hyperparams\n",
        "                best_model = model\n",
        "                # Save the best model\n",
        "                model_save_path = \"best_albert_model.pth\"\n",
        "                torch.save(model.state_dict(), model_save_path)\n",
        "\n",
        "            # Update progress bar\n",
        "            pbar.set_postfix(f1=f1, accuracy=accuracy)\n",
        "            pbar.update(1)\n",
        "\n",
        "    print(f\"Best F1 Score: {best_f1:.4f}\")\n",
        "    print(f\"Best Hyperparameters: {best_params}\")\n",
        "    return best_params, best_f1, best_model\n",
        "\n",
        "#Start timer\n",
        "start_time = time.time()\n",
        "best_params, best_f1, best_model = random_hyperparameter_tuning(\n",
        "    train_texts=train_texts_2,\n",
        "    train_labels=train_labels_2,\n",
        "    val_texts=val_texts_2,\n",
        "    val_labels=val_labels_2,\n",
        "    tokenizer=tokenizer,\n",
        "    n_iter=10\n",
        ")\n",
        "# End timer\n",
        "end_time = time.time()\n",
        "total_time = end_time - start_time\n",
        "print(f\"Total Parameter Tuning Time: {total_time:.2f} seconds\")"
      ]
    },
    {
      "cell_type": "code",
      "execution_count": null,
      "metadata": {
        "colab": {
          "background_save": true
        },
        "id": "IrEmiykpJMnz",
        "outputId": "2a401541-ef7a-4044-8333-ec587354eef4"
      },
      "outputs": [
        {
          "name": "stdout",
          "output_type": "stream",
          "text": [
            "Test F-1 Score: 0.9576, Test Accuracy: 0.9576\n"
          ]
        }
      ],
      "source": [
        "best_model.load_state_dict(torch.load(\"best_albert_model.pth\"))\n",
        "best_model.to(device)\n",
        "\n",
        "# Initialize lists to store predictions and labels\n",
        "test_predictions, test_labels_batch, test_probabilities = [], [], []\n",
        "\n",
        "# Set the model to evaluation mode\n",
        "best_model.eval()\n",
        "\n",
        "# Perform evaluation\n",
        "with torch.no_grad():\n",
        "    for batch in test_loader_2:\n",
        "        input_ids = batch['input_ids'].to(device)\n",
        "        attention_mask = batch['attention_mask'].to(device)\n",
        "        labels = batch['label'].to(device)\n",
        "\n",
        "        # Forward pass\n",
        "        outputs = best_model(input_ids, attention_mask=attention_mask)\n",
        "\n",
        "        # Predicted labels\n",
        "        preds = torch.argmax(outputs.logits, dim=1)\n",
        "        test_predictions.extend(preds.cpu().numpy())\n",
        "\n",
        "        # True labels\n",
        "        test_labels_batch.extend(labels.cpu().numpy())\n",
        "\n",
        "        # Probabilities for class 1\n",
        "        probs = torch.softmax(outputs.logits, dim=1)[:, 1]\n",
        "        test_probabilities.extend(probs.cpu().numpy())\n",
        "\n",
        "# Calculate F1 Score and Accuracy\n",
        "test_f1 = f1_score(test_labels_batch, test_predictions, average='weighted')\n",
        "test_accuracy = accuracy_score(test_labels_batch, test_predictions)\n",
        "\n",
        "print(f\"Test F-1 Score: {test_f1:.4f}, Test Accuracy: {test_accuracy:.4f}\")"
      ]
    },
    {
      "cell_type": "code",
      "execution_count": null,
      "metadata": {
        "colab": {
          "background_save": true
        },
        "id": "pGpPhqRRI1Zj",
        "outputId": "4bf7a762-6b02-4390-d473-13f452b8296d"
      },
      "outputs": [
        {
          "data": {
            "image/png": "[encoded data removed]",
            "text/plain": [
              "<Figure size 600x600 with 2 Axes>"
            ]
          },
          "metadata": {},
          "output_type": "display_data"
        },
        {
          "data": {
            "image/png": "[encoded data removed]",
            "text/plain": [
              "<Figure size 800x600 with 1 Axes>"
            ]
          },
          "metadata": {},
          "output_type": "display_data"
        }
      ],
      "source": [
        "# Confusion Matrix\n",
        "conf_matrix = confusion_matrix(test_labels_batch, test_predictions)\n",
        "plt.figure(figsize=(6, 6))\n",
        "sns.heatmap(conf_matrix, annot=True, fmt='d', cmap='Blues', xticklabels=['No Issue', 'Issue'], yticklabels=['No Issue', 'Issue'])\n",
        "plt.xlabel('Predicted')\n",
        "plt.ylabel('Actual')\n",
        "plt.title('Confusion Matrix - Binary: ALBERT')\n",
        "plt.show()\n",
        "\n",
        "# ROC Curve\n",
        "fpr, tpr, thresholds = roc_curve(test_labels_batch,test_predictions)\n",
        "roc_auc = auc(fpr, tpr)\n",
        "\n",
        "plt.figure(figsize=(8, 6))\n",
        "plt.plot(fpr, tpr, label=f'AUC = {roc_auc:.2f}')\n",
        "plt.plot([0, 1], [0, 1], linestyle='--', color='gray')\n",
        "plt.xlabel('False Positive Rate')\n",
        "plt.ylabel('True Positive Rate')\n",
        "plt.title('ROC Curve - Binary: ALBERT')\n",
        "plt.legend(loc='lower right')\n",
        "plt.show()"
      ]
    },
    {
      "cell_type": "markdown",
      "metadata": {
        "id": "kqpnRHGhjAoN"
      },
      "source": [
        "### 3.2.2 GRU"
      ]
    },
    {
      "cell_type": "code",
      "execution_count": null,
      "metadata": {
        "id": "haolyiMKKYjB"
      },
      "outputs": [],
      "source": [
        "#copy for GRU\n",
        "df3 = df.copy()"
      ]
    },
    {
      "cell_type": "code",
      "execution_count": null,
      "metadata": {
        "id": "OybvhU51KWX-"
      },
      "outputs": [],
      "source": [
        "# Pre-processing for GRU - still minimal\n",
        "def clean_text_GRU(text):\n",
        "    text = text.lower()  # Convert to lowercase\n",
        "    text = re.sub(r\"http\\S+\", \"<URL>\", text)  # Replace URLs\n",
        "    text = re.sub(r\"@\\w+\", \"<USER>\", text)   # Replace mentions\n",
        "    text = re.sub(r\"#\\w+\", \"<HASHTAG>\", text)  # Replace hashtags\n",
        "    text = re.sub(r\"[^\\w\\s]\", \"\", text)      # Remove special characters\n",
        "    text = re.sub(r\"\\s+\", \" \", text)         # Normalize whitespace\n",
        "    return text.strip()\n",
        "\n",
        "df3['statement'] = df3['statement'].apply(clean_text_GRU)"
      ]
    },
    {
      "cell_type": "code",
      "execution_count": null,
      "metadata": {
        "id": "UVnCvuKmi7e9"
      },
      "outputs": [],
      "source": [
        "# Hyperparameters\n",
        "MAX_LEN = 200  # Maximum sequence length\n",
        "VOCAB_SIZE = 10000  # Vocabulary size\n",
        "BATCH_SIZE = 16\n",
        "\n",
        "# Split Dataset\n",
        "# Initial train-test split\n",
        "train_texts_3, test_texts_3, train_labels_3, test_labels_3 = train_test_split(\n",
        "    df3['statement'].tolist(), df3['status'].tolist(), test_size=0.2, random_state=42\n",
        ")\n",
        "# Further split training data into training and validation sets\n",
        "train_texts_3, val_texts_3, train_labels_3, val_labels_3 = train_test_split(\n",
        "    train_texts_3, train_labels_3, test_size=0.25, random_state=42  # 0.25 * 0.8 = 0.2 of original data\n",
        ")\n",
        "\n",
        "# **MODIFIED**: Build Vocabulary after the train-validation-test split\n",
        "# Build Vocabulary on Training Data Only\n",
        "all_train_words = \" \".join(train_texts_3).split()\n",
        "most_common_words = [word for word, _ in Counter(all_train_words).most_common(VOCAB_SIZE - 1)]\n",
        "word_to_index = {word: idx + 1 for idx, word in enumerate(most_common_words)}\n",
        "\n",
        "# Text-to-Sequence Conversion\n",
        "def text_to_sequence(text, word_to_index, max_len=MAX_LEN):\n",
        "    tokens = text.split()\n",
        "    sequence = [word_to_index.get(word, 0) for word in tokens]\n",
        "    return sequence[:max_len]\n",
        "\n",
        "# Convert text to sequences for train, validation, and test sets\n",
        "train_sequences_3 = [text_to_sequence(text, word_to_index) for text in train_texts_3]\n",
        "val_sequences_3 = [text_to_sequence(text, word_to_index) for text in val_texts_3]\n",
        "test_sequences_3 = [text_to_sequence(text, word_to_index) for text in test_texts_3]\n",
        "\n",
        "# Pad Sequences\n",
        "train_sequences_3 = nn.utils.rnn.pad_sequence([torch.tensor(seq) for seq in train_sequences_3], batch_first=True, padding_value=0)\n",
        "val_sequences_3 = nn.utils.rnn.pad_sequence([torch.tensor(seq) for seq in val_sequences_3], batch_first=True, padding_value=0)\n",
        "test_sequences_3 = nn.utils.rnn.pad_sequence([torch.tensor(seq) for seq in test_sequences_3], batch_first=True, padding_value=0)\n",
        "\n",
        "# Convert Labels\n",
        "train_labels_3 = torch.tensor(train_labels_3, dtype=torch.long)\n",
        "val_labels_3 = torch.tensor(val_labels_3, dtype=torch.long)\n",
        "test_labels_3 = torch.tensor(test_labels_3, dtype=torch.long)\n",
        "\n",
        "# Dataset Class\n",
        "class SentimentDataset(Dataset):\n",
        "    def __init__(self, texts, labels):\n",
        "        self.texts = texts\n",
        "        self.labels = labels\n",
        "\n",
        "    def __len__(self):\n",
        "        return len(self.labels)\n",
        "\n",
        "    def __getitem__(self, idx):\n",
        "        return {\n",
        "            'input_ids': self.texts[idx],\n",
        "            'label': self.labels[idx]\n",
        "        }\n",
        "\n",
        "# Create Datasets and DataLoaders\n",
        "train_dataset_3 = SentimentDataset(train_sequences_3, train_labels_3)\n",
        "val_dataset_3 = SentimentDataset(val_sequences_3, val_labels_3)\n",
        "test_dataset_3 = SentimentDataset(test_sequences_3, test_labels_3)\n",
        "\n",
        "train_loader_3 = DataLoader(train_dataset_3, batch_size=BATCH_SIZE, shuffle=True)\n",
        "val_loader_3 = DataLoader(val_dataset_3, batch_size=BATCH_SIZE)\n",
        "test_loader_3 = DataLoader(test_dataset_3, batch_size=BATCH_SIZE)"
      ]
    },
    {
      "cell_type": "code",
      "execution_count": null,
      "metadata": {
        "id": "z8eQecQ9M8YX"
      },
      "outputs": [],
      "source": [
        "# Define GRU Model\n",
        "class GRUSentimentModel(nn.Module):\n",
        "    def __init__(self, vocab_size, embedding_dim, hidden_dim, output_dim):\n",
        "        super(GRUSentimentModel, self).__init__()\n",
        "        self.embedding = nn.Embedding(vocab_size, embedding_dim)\n",
        "        self.gru = nn.GRU(embedding_dim, hidden_dim, batch_first=True)\n",
        "        self.fc = nn.Linear(hidden_dim, output_dim)\n",
        "        self.dropout = nn.Dropout(0.3)\n",
        "\n",
        "    def forward(self, input_ids):\n",
        "        embedded = self.embedding(input_ids)\n",
        "        _, hidden = self.gru(embedded)  # Only last hidden state\n",
        "        output = self.fc(self.dropout(hidden[-1]))\n",
        "        return output  # **MODIFIED**: Removed `softmax` because `CrossEntropyLoss` expects raw logits\n",
        "\n",
        "# #Define Loss Function\n",
        "# class FocalLoss(nn.Module):\n",
        "#     def __init__(self, alpha=0.2, gamma=0.5, ignore_index=-1):\n",
        "#         super(FocalLoss, self).__init__()\n",
        "#         self.alpha = alpha\n",
        "#         self.gamma = gamma\n",
        "#         self.ignore_index = ignore_index\n",
        "#         self.cross_entropy = nn.CrossEntropyLoss(ignore_index=ignore_index, reduction='none')\n",
        "\n",
        "#     def forward(self, logits, target):\n",
        "#         # Cross entropy loss\n",
        "#         ce_loss = self.cross_entropy(logits, target)\n",
        "#         # Probabilities of correct class\n",
        "#         pt = torch.exp(-ce_loss)\n",
        "#         # Focal loss\n",
        "#         focal_loss = self.alpha * (1 - pt) ** self.gamma * ce_loss\n",
        "#         return focal_loss.mean()\n",
        "\n"
      ]
    },
    {
      "cell_type": "code",
      "execution_count": null,
      "metadata": {
        "colab": {
          "base_uri": "https://localhost:8080/"
        },
        "id": "VJgiSDTBNK1G",
        "outputId": "45f87507-0ef8-4bf5-d435-230ddf45a2bc"
      },
      "outputs": [
        {
          "name": "stderr",
          "output_type": "stream",
          "text": [
            "Training Epoch 1/9: 100%|██████████| 1976/1976 [00:20<00:00, 96.64it/s, loss=0.0548]\n"
          ]
        },
        {
          "name": "stdout",
          "output_type": "stream",
          "text": [
            "Epoch 1/9, Loss: 0.2157\n"
          ]
        },
        {
          "name": "stderr",
          "output_type": "stream",
          "text": [
            "Training Epoch 2/9: 100%|██████████| 1976/1976 [00:19<00:00, 100.16it/s, loss=0.00313]\n"
          ]
        },
        {
          "name": "stdout",
          "output_type": "stream",
          "text": [
            "Epoch 2/9, Loss: 0.1209\n"
          ]
        },
        {
          "name": "stderr",
          "output_type": "stream",
          "text": [
            "Training Epoch 3/9: 100%|██████████| 1976/1976 [00:19<00:00, 99.98it/s, loss=0.316] \n"
          ]
        },
        {
          "name": "stdout",
          "output_type": "stream",
          "text": [
            "Epoch 3/9, Loss: 0.0834\n"
          ]
        },
        {
          "name": "stderr",
          "output_type": "stream",
          "text": [
            "Training Epoch 4/9: 100%|██████████| 1976/1976 [00:19<00:00, 100.60it/s, loss=0.0182]\n"
          ]
        },
        {
          "name": "stdout",
          "output_type": "stream",
          "text": [
            "Epoch 4/9, Loss: 0.0466\n"
          ]
        },
        {
          "name": "stderr",
          "output_type": "stream",
          "text": [
            "Training Epoch 5/9: 100%|██████████| 1976/1976 [00:19<00:00, 100.15it/s, loss=0.00192]\n"
          ]
        },
        {
          "name": "stdout",
          "output_type": "stream",
          "text": [
            "Epoch 5/9, Loss: 0.0315\n"
          ]
        },
        {
          "name": "stderr",
          "output_type": "stream",
          "text": [
            "Training Epoch 6/9: 100%|██████████| 1976/1976 [00:20<00:00, 98.35it/s, loss=0.00143]\n"
          ]
        },
        {
          "name": "stdout",
          "output_type": "stream",
          "text": [
            "Epoch 6/9, Loss: 0.0234\n"
          ]
        },
        {
          "name": "stderr",
          "output_type": "stream",
          "text": [
            "Training Epoch 7/9: 100%|██████████| 1976/1976 [00:19<00:00, 99.80it/s, loss=0.000907]\n"
          ]
        },
        {
          "name": "stdout",
          "output_type": "stream",
          "text": [
            "Epoch 7/9, Loss: 0.0202\n"
          ]
        },
        {
          "name": "stderr",
          "output_type": "stream",
          "text": [
            "Training Epoch 8/9: 100%|██████████| 1976/1976 [00:19<00:00, 100.34it/s, loss=0.00811]\n"
          ]
        },
        {
          "name": "stdout",
          "output_type": "stream",
          "text": [
            "Epoch 8/9, Loss: 0.0177\n"
          ]
        },
        {
          "name": "stderr",
          "output_type": "stream",
          "text": [
            "Training Epoch 9/9: 100%|██████████| 1976/1976 [00:19<00:00, 99.83it/s, loss=0.00387] \n"
          ]
        },
        {
          "name": "stdout",
          "output_type": "stream",
          "text": [
            "Epoch 9/9, Loss: 0.0159\n"
          ]
        },
        {
          "name": "stderr",
          "output_type": "stream",
          "text": [
            "Validating: 100%|██████████| 659/659 [00:02<00:00, 284.74it/s]\n",
            "Random Search Tuning:  10%|█         | 1/10 [03:01<27:14, 181.60s/it, accuracy=0.946, f1=0.946]"
          ]
        },
        {
          "name": "stdout",
          "output_type": "stream",
          "text": [
            "Validation F-1 Score: 0.9463, Accuracy: 0.9465\n"
          ]
        },
        {
          "name": "stderr",
          "output_type": "stream",
          "text": [
            "Training Epoch 1/9: 100%|██████████| 1976/1976 [00:18<00:00, 106.41it/s, loss=0.0602]\n"
          ]
        },
        {
          "name": "stdout",
          "output_type": "stream",
          "text": [
            "Epoch 1/9, Loss: 0.2082\n"
          ]
        },
        {
          "name": "stderr",
          "output_type": "stream",
          "text": [
            "Training Epoch 2/9: 100%|██████████| 1976/1976 [00:18<00:00, 106.12it/s, loss=0.00623]\n"
          ]
        },
        {
          "name": "stdout",
          "output_type": "stream",
          "text": [
            "Epoch 2/9, Loss: 0.1173\n"
          ]
        },
        {
          "name": "stderr",
          "output_type": "stream",
          "text": [
            "Training Epoch 3/9: 100%|██████████| 1976/1976 [00:18<00:00, 105.57it/s, loss=0.00605]\n"
          ]
        },
        {
          "name": "stdout",
          "output_type": "stream",
          "text": [
            "Epoch 3/9, Loss: 0.0709\n"
          ]
        },
        {
          "name": "stderr",
          "output_type": "stream",
          "text": [
            "Training Epoch 4/9: 100%|██████████| 1976/1976 [00:18<00:00, 106.67it/s, loss=0.00194]\n"
          ]
        },
        {
          "name": "stdout",
          "output_type": "stream",
          "text": [
            "Epoch 4/9, Loss: 0.0407\n"
          ]
        },
        {
          "name": "stderr",
          "output_type": "stream",
          "text": [
            "Training Epoch 5/9: 100%|██████████| 1976/1976 [00:18<00:00, 106.55it/s, loss=0.000582]\n"
          ]
        },
        {
          "name": "stdout",
          "output_type": "stream",
          "text": [
            "Epoch 5/9, Loss: 0.0229\n"
          ]
        },
        {
          "name": "stderr",
          "output_type": "stream",
          "text": [
            "Training Epoch 6/9: 100%|██████████| 1976/1976 [00:18<00:00, 106.70it/s, loss=0.00258]\n"
          ]
        },
        {
          "name": "stdout",
          "output_type": "stream",
          "text": [
            "Epoch 6/9, Loss: 0.0166\n"
          ]
        },
        {
          "name": "stderr",
          "output_type": "stream",
          "text": [
            "Training Epoch 7/9: 100%|██████████| 1976/1976 [00:18<00:00, 105.88it/s, loss=0.000325]\n"
          ]
        },
        {
          "name": "stdout",
          "output_type": "stream",
          "text": [
            "Epoch 7/9, Loss: 0.0153\n"
          ]
        },
        {
          "name": "stderr",
          "output_type": "stream",
          "text": [
            "Training Epoch 8/9: 100%|██████████| 1976/1976 [00:18<00:00, 106.26it/s, loss=0.00976]\n"
          ]
        },
        {
          "name": "stdout",
          "output_type": "stream",
          "text": [
            "Epoch 8/9, Loss: 0.0150\n"
          ]
        },
        {
          "name": "stderr",
          "output_type": "stream",
          "text": [
            "Training Epoch 9/9: 100%|██████████| 1976/1976 [00:18<00:00, 105.40it/s, loss=0.000112]\n"
          ]
        },
        {
          "name": "stdout",
          "output_type": "stream",
          "text": [
            "Epoch 9/9, Loss: 0.0122\n"
          ]
        },
        {
          "name": "stderr",
          "output_type": "stream",
          "text": [
            "Validating: 100%|██████████| 659/659 [00:01<00:00, 351.33it/s]\n",
            "Random Search Tuning:  20%|██        | 2/10 [05:51<23:17, 174.67s/it, accuracy=0.948, f1=0.948]"
          ]
        },
        {
          "name": "stdout",
          "output_type": "stream",
          "text": [
            "Validation F-1 Score: 0.9481, Accuracy: 0.9479\n"
          ]
        },
        {
          "name": "stderr",
          "output_type": "stream",
          "text": [
            "Training Epoch 1/6: 100%|██████████| 1976/1976 [00:19<00:00, 99.02it/s, loss=0.429]\n"
          ]
        },
        {
          "name": "stdout",
          "output_type": "stream",
          "text": [
            "Epoch 1/6, Loss: 0.3182\n"
          ]
        },
        {
          "name": "stderr",
          "output_type": "stream",
          "text": [
            "Training Epoch 2/6: 100%|██████████| 1976/1976 [00:19<00:00, 99.14it/s, loss=0.0129]\n"
          ]
        },
        {
          "name": "stdout",
          "output_type": "stream",
          "text": [
            "Epoch 2/6, Loss: 0.1789\n"
          ]
        },
        {
          "name": "stderr",
          "output_type": "stream",
          "text": [
            "Training Epoch 3/6: 100%|██████████| 1976/1976 [00:19<00:00, 98.97it/s, loss=0.00602]\n"
          ]
        },
        {
          "name": "stdout",
          "output_type": "stream",
          "text": [
            "Epoch 3/6, Loss: 0.1458\n"
          ]
        },
        {
          "name": "stderr",
          "output_type": "stream",
          "text": [
            "Training Epoch 4/6: 100%|██████████| 1976/1976 [00:19<00:00, 98.88it/s, loss=0.104]\n"
          ]
        },
        {
          "name": "stdout",
          "output_type": "stream",
          "text": [
            "Epoch 4/6, Loss: 0.1214\n"
          ]
        },
        {
          "name": "stderr",
          "output_type": "stream",
          "text": [
            "Training Epoch 5/6: 100%|██████████| 1976/1976 [00:19<00:00, 98.97it/s, loss=0.00499]\n"
          ]
        },
        {
          "name": "stdout",
          "output_type": "stream",
          "text": [
            "Epoch 5/6, Loss: 0.1023\n"
          ]
        },
        {
          "name": "stderr",
          "output_type": "stream",
          "text": [
            "Training Epoch 6/6: 100%|██████████| 1976/1976 [00:19<00:00, 98.83it/s, loss=1.13]\n"
          ]
        },
        {
          "name": "stdout",
          "output_type": "stream",
          "text": [
            "Epoch 6/6, Loss: 0.0850\n"
          ]
        },
        {
          "name": "stderr",
          "output_type": "stream",
          "text": [
            "Validating: 100%|██████████| 659/659 [00:02<00:00, 272.38it/s]\n",
            "Random Search Tuning:  30%|███       | 3/10 [07:54<17:36, 150.92s/it, accuracy=0.942, f1=0.943]"
          ]
        },
        {
          "name": "stdout",
          "output_type": "stream",
          "text": [
            "Validation F-1 Score: 0.9426, Accuracy: 0.9420\n"
          ]
        },
        {
          "name": "stderr",
          "output_type": "stream",
          "text": [
            "Training Epoch 1/9: 100%|██████████| 1976/1976 [00:22<00:00, 85.97it/s, loss=0.156]\n"
          ]
        },
        {
          "name": "stdout",
          "output_type": "stream",
          "text": [
            "Epoch 1/9, Loss: 0.2625\n"
          ]
        },
        {
          "name": "stderr",
          "output_type": "stream",
          "text": [
            "Training Epoch 2/9: 100%|██████████| 1976/1976 [00:23<00:00, 85.60it/s, loss=0.172]\n"
          ]
        },
        {
          "name": "stdout",
          "output_type": "stream",
          "text": [
            "Epoch 2/9, Loss: 0.1475\n"
          ]
        },
        {
          "name": "stderr",
          "output_type": "stream",
          "text": [
            "Training Epoch 3/9: 100%|██████████| 1976/1976 [00:23<00:00, 85.83it/s, loss=0.0138]\n"
          ]
        },
        {
          "name": "stdout",
          "output_type": "stream",
          "text": [
            "Epoch 3/9, Loss: 0.1105\n"
          ]
        },
        {
          "name": "stderr",
          "output_type": "stream",
          "text": [
            "Training Epoch 4/9: 100%|██████████| 1976/1976 [00:23<00:00, 85.80it/s, loss=0.0227]\n"
          ]
        },
        {
          "name": "stdout",
          "output_type": "stream",
          "text": [
            "Epoch 4/9, Loss: 0.0807\n"
          ]
        },
        {
          "name": "stderr",
          "output_type": "stream",
          "text": [
            "Training Epoch 5/9: 100%|██████████| 1976/1976 [00:22<00:00, 86.04it/s, loss=0.24]\n"
          ]
        },
        {
          "name": "stdout",
          "output_type": "stream",
          "text": [
            "Epoch 5/9, Loss: 0.0550\n"
          ]
        },
        {
          "name": "stderr",
          "output_type": "stream",
          "text": [
            "Training Epoch 6/9: 100%|██████████| 1976/1976 [00:22<00:00, 86.21it/s, loss=0.0108]\n"
          ]
        },
        {
          "name": "stdout",
          "output_type": "stream",
          "text": [
            "Epoch 6/9, Loss: 0.0361\n"
          ]
        },
        {
          "name": "stderr",
          "output_type": "stream",
          "text": [
            "Training Epoch 7/9: 100%|██████████| 1976/1976 [00:22<00:00, 85.97it/s, loss=0.00159]\n"
          ]
        },
        {
          "name": "stdout",
          "output_type": "stream",
          "text": [
            "Epoch 7/9, Loss: 0.0251\n"
          ]
        },
        {
          "name": "stderr",
          "output_type": "stream",
          "text": [
            "Training Epoch 8/9: 100%|██████████| 1976/1976 [00:23<00:00, 85.90it/s, loss=0.00135]\n"
          ]
        },
        {
          "name": "stdout",
          "output_type": "stream",
          "text": [
            "Epoch 8/9, Loss: 0.0177\n"
          ]
        },
        {
          "name": "stderr",
          "output_type": "stream",
          "text": [
            "Training Epoch 9/9: 100%|██████████| 1976/1976 [00:22<00:00, 86.15it/s, loss=0.00822]\n"
          ]
        },
        {
          "name": "stdout",
          "output_type": "stream",
          "text": [
            "Epoch 9/9, Loss: 0.0147\n"
          ]
        },
        {
          "name": "stderr",
          "output_type": "stream",
          "text": [
            "Validating: 100%|██████████| 659/659 [00:02<00:00, 265.97it/s]\n",
            "Random Search Tuning:  40%|████      | 4/10 [11:23<17:25, 174.19s/it, accuracy=0.947, f1=0.947]"
          ]
        },
        {
          "name": "stdout",
          "output_type": "stream",
          "text": [
            "Validation F-1 Score: 0.9473, Accuracy: 0.9474\n"
          ]
        },
        {
          "name": "stderr",
          "output_type": "stream",
          "text": [
            "Training Epoch 1/7: 100%|██████████| 1976/1976 [00:23<00:00, 82.91it/s, loss=0.0109]\n"
          ]
        },
        {
          "name": "stdout",
          "output_type": "stream",
          "text": [
            "Epoch 1/7, Loss: 0.2375\n"
          ]
        },
        {
          "name": "stderr",
          "output_type": "stream",
          "text": [
            "Training Epoch 2/7: 100%|██████████| 1976/1976 [00:23<00:00, 83.00it/s, loss=0.0886]\n"
          ]
        },
        {
          "name": "stdout",
          "output_type": "stream",
          "text": [
            "Epoch 2/7, Loss: 0.1388\n"
          ]
        },
        {
          "name": "stderr",
          "output_type": "stream",
          "text": [
            "Training Epoch 3/7: 100%|██████████| 1976/1976 [00:23<00:00, 83.05it/s, loss=0.09]\n"
          ]
        },
        {
          "name": "stdout",
          "output_type": "stream",
          "text": [
            "Epoch 3/7, Loss: 0.1035\n"
          ]
        },
        {
          "name": "stderr",
          "output_type": "stream",
          "text": [
            "Training Epoch 4/7: 100%|██████████| 1976/1976 [00:23<00:00, 83.02it/s, loss=0.0096]\n"
          ]
        },
        {
          "name": "stdout",
          "output_type": "stream",
          "text": [
            "Epoch 4/7, Loss: 0.0760\n"
          ]
        },
        {
          "name": "stderr",
          "output_type": "stream",
          "text": [
            "Training Epoch 5/7: 100%|██████████| 1976/1976 [00:23<00:00, 83.06it/s, loss=0.000893]\n"
          ]
        },
        {
          "name": "stdout",
          "output_type": "stream",
          "text": [
            "Epoch 5/7, Loss: 0.0481\n"
          ]
        },
        {
          "name": "stderr",
          "output_type": "stream",
          "text": [
            "Training Epoch 6/7: 100%|██████████| 1976/1976 [00:23<00:00, 83.08it/s, loss=0.0094]\n"
          ]
        },
        {
          "name": "stdout",
          "output_type": "stream",
          "text": [
            "Epoch 6/7, Loss: 0.0299\n"
          ]
        },
        {
          "name": "stderr",
          "output_type": "stream",
          "text": [
            "Training Epoch 7/7: 100%|██████████| 1976/1976 [00:23<00:00, 83.04it/s, loss=0.000632]\n"
          ]
        },
        {
          "name": "stdout",
          "output_type": "stream",
          "text": [
            "Epoch 7/7, Loss: 0.0235\n"
          ]
        },
        {
          "name": "stderr",
          "output_type": "stream",
          "text": [
            "Validating: 100%|██████████| 659/659 [00:02<00:00, 227.71it/s]\n",
            "Random Search Tuning:  50%|█████     | 5/10 [14:13<14:23, 172.65s/it, accuracy=0.949, f1=0.949]"
          ]
        },
        {
          "name": "stdout",
          "output_type": "stream",
          "text": [
            "Validation F-1 Score: 0.9487, Accuracy: 0.9487\n"
          ]
        },
        {
          "name": "stderr",
          "output_type": "stream",
          "text": [
            "Training Epoch 1/7: 100%|██████████| 1976/1976 [00:18<00:00, 106.18it/s, loss=0.0488]\n"
          ]
        },
        {
          "name": "stdout",
          "output_type": "stream",
          "text": [
            "Epoch 1/7, Loss: 0.3056\n"
          ]
        },
        {
          "name": "stderr",
          "output_type": "stream",
          "text": [
            "Training Epoch 2/7: 100%|██████████| 1976/1976 [00:18<00:00, 106.91it/s, loss=0.0513]\n"
          ]
        },
        {
          "name": "stdout",
          "output_type": "stream",
          "text": [
            "Epoch 2/7, Loss: 0.1646\n"
          ]
        },
        {
          "name": "stderr",
          "output_type": "stream",
          "text": [
            "Training Epoch 3/7: 100%|██████████| 1976/1976 [00:18<00:00, 106.09it/s, loss=0.0183]\n"
          ]
        },
        {
          "name": "stdout",
          "output_type": "stream",
          "text": [
            "Epoch 3/7, Loss: 0.1362\n"
          ]
        },
        {
          "name": "stderr",
          "output_type": "stream",
          "text": [
            "Training Epoch 4/7: 100%|██████████| 1976/1976 [00:18<00:00, 105.78it/s, loss=0.339]\n"
          ]
        },
        {
          "name": "stdout",
          "output_type": "stream",
          "text": [
            "Epoch 4/7, Loss: 0.1122\n"
          ]
        },
        {
          "name": "stderr",
          "output_type": "stream",
          "text": [
            "Training Epoch 5/7: 100%|██████████| 1976/1976 [00:18<00:00, 105.24it/s, loss=0.0203]\n"
          ]
        },
        {
          "name": "stdout",
          "output_type": "stream",
          "text": [
            "Epoch 5/7, Loss: 0.0922\n"
          ]
        },
        {
          "name": "stderr",
          "output_type": "stream",
          "text": [
            "Training Epoch 6/7: 100%|██████████| 1976/1976 [00:18<00:00, 104.76it/s, loss=0.00806]\n"
          ]
        },
        {
          "name": "stdout",
          "output_type": "stream",
          "text": [
            "Epoch 6/7, Loss: 0.0735\n"
          ]
        },
        {
          "name": "stderr",
          "output_type": "stream",
          "text": [
            "Training Epoch 7/7: 100%|██████████| 1976/1976 [00:19<00:00, 103.62it/s, loss=0.0145]\n"
          ]
        },
        {
          "name": "stdout",
          "output_type": "stream",
          "text": [
            "Epoch 7/7, Loss: 0.0591\n"
          ]
        },
        {
          "name": "stderr",
          "output_type": "stream",
          "text": [
            "Validating: 100%|██████████| 659/659 [00:01<00:00, 355.41it/s]\n",
            "Random Search Tuning:  60%|██████    | 6/10 [16:27<10:37, 159.31s/it, accuracy=0.944, f1=0.944]"
          ]
        },
        {
          "name": "stdout",
          "output_type": "stream",
          "text": [
            "Validation F-1 Score: 0.9442, Accuracy: 0.9437\n"
          ]
        },
        {
          "name": "stderr",
          "output_type": "stream",
          "text": [
            "Training Epoch 1/5: 100%|██████████| 1976/1976 [00:19<00:00, 99.06it/s, loss=0.0783]\n"
          ]
        },
        {
          "name": "stdout",
          "output_type": "stream",
          "text": [
            "Epoch 1/5, Loss: 0.2392\n"
          ]
        },
        {
          "name": "stderr",
          "output_type": "stream",
          "text": [
            "Training Epoch 2/5: 100%|██████████| 1976/1976 [00:19<00:00, 99.37it/s, loss=0.0875] \n"
          ]
        },
        {
          "name": "stdout",
          "output_type": "stream",
          "text": [
            "Epoch 2/5, Loss: 0.1310\n"
          ]
        },
        {
          "name": "stderr",
          "output_type": "stream",
          "text": [
            "Training Epoch 3/5: 100%|██████████| 1976/1976 [00:20<00:00, 98.68it/s, loss=0.131] \n"
          ]
        },
        {
          "name": "stdout",
          "output_type": "stream",
          "text": [
            "Epoch 3/5, Loss: 0.0954\n"
          ]
        },
        {
          "name": "stderr",
          "output_type": "stream",
          "text": [
            "Training Epoch 4/5: 100%|██████████| 1976/1976 [00:19<00:00, 99.27it/s, loss=0.013] \n"
          ]
        },
        {
          "name": "stdout",
          "output_type": "stream",
          "text": [
            "Epoch 4/5, Loss: 0.0660\n"
          ]
        },
        {
          "name": "stderr",
          "output_type": "stream",
          "text": [
            "Training Epoch 5/5: 100%|██████████| 1976/1976 [00:19<00:00, 99.11it/s, loss=0.000929] \n"
          ]
        },
        {
          "name": "stdout",
          "output_type": "stream",
          "text": [
            "Epoch 5/5, Loss: 0.0418\n"
          ]
        },
        {
          "name": "stderr",
          "output_type": "stream",
          "text": [
            "Validating: 100%|██████████| 659/659 [00:02<00:00, 293.34it/s]\n",
            "Random Search Tuning:  70%|███████   | 7/10 [18:09<07:02, 140.70s/it, accuracy=0.945, f1=0.945]"
          ]
        },
        {
          "name": "stdout",
          "output_type": "stream",
          "text": [
            "Validation F-1 Score: 0.9453, Accuracy: 0.9448\n"
          ]
        },
        {
          "name": "stderr",
          "output_type": "stream",
          "text": [
            "Training Epoch 1/9: 100%|██████████| 1976/1976 [00:19<00:00, 99.29it/s, loss=0.431]\n"
          ]
        },
        {
          "name": "stdout",
          "output_type": "stream",
          "text": [
            "Epoch 1/9, Loss: 0.2744\n"
          ]
        },
        {
          "name": "stderr",
          "output_type": "stream",
          "text": [
            "Training Epoch 2/9: 100%|██████████| 1976/1976 [00:19<00:00, 100.81it/s, loss=0.0158]\n"
          ]
        },
        {
          "name": "stdout",
          "output_type": "stream",
          "text": [
            "Epoch 2/9, Loss: 0.1550\n"
          ]
        },
        {
          "name": "stderr",
          "output_type": "stream",
          "text": [
            "Training Epoch 3/9: 100%|██████████| 1976/1976 [00:19<00:00, 100.28it/s, loss=0.274]\n"
          ]
        },
        {
          "name": "stdout",
          "output_type": "stream",
          "text": [
            "Epoch 3/9, Loss: 0.1244\n"
          ]
        },
        {
          "name": "stderr",
          "output_type": "stream",
          "text": [
            "Training Epoch 4/9: 100%|██████████| 1976/1976 [00:19<00:00, 101.00it/s, loss=0.011]\n"
          ]
        },
        {
          "name": "stdout",
          "output_type": "stream",
          "text": [
            "Epoch 4/9, Loss: 0.0996\n"
          ]
        },
        {
          "name": "stderr",
          "output_type": "stream",
          "text": [
            "Training Epoch 5/9: 100%|██████████| 1976/1976 [00:19<00:00, 100.30it/s, loss=0.029]\n"
          ]
        },
        {
          "name": "stdout",
          "output_type": "stream",
          "text": [
            "Epoch 5/9, Loss: 0.0736\n"
          ]
        },
        {
          "name": "stderr",
          "output_type": "stream",
          "text": [
            "Training Epoch 6/9: 100%|██████████| 1976/1976 [00:19<00:00, 100.51it/s, loss=0.056]\n"
          ]
        },
        {
          "name": "stdout",
          "output_type": "stream",
          "text": [
            "Epoch 6/9, Loss: 0.0535\n"
          ]
        },
        {
          "name": "stderr",
          "output_type": "stream",
          "text": [
            "Training Epoch 7/9: 100%|██████████| 1976/1976 [00:19<00:00, 100.83it/s, loss=0.00186]\n"
          ]
        },
        {
          "name": "stdout",
          "output_type": "stream",
          "text": [
            "Epoch 7/9, Loss: 0.0369\n"
          ]
        },
        {
          "name": "stderr",
          "output_type": "stream",
          "text": [
            "Training Epoch 8/9: 100%|██████████| 1976/1976 [00:19<00:00, 100.48it/s, loss=0.00124]\n"
          ]
        },
        {
          "name": "stdout",
          "output_type": "stream",
          "text": [
            "Epoch 8/9, Loss: 0.0276\n"
          ]
        },
        {
          "name": "stderr",
          "output_type": "stream",
          "text": [
            "Training Epoch 9/9: 100%|██████████| 1976/1976 [00:19<00:00, 100.30it/s, loss=0.00194]\n"
          ]
        },
        {
          "name": "stdout",
          "output_type": "stream",
          "text": [
            "Epoch 9/9, Loss: 0.0220\n"
          ]
        },
        {
          "name": "stderr",
          "output_type": "stream",
          "text": [
            "Validating: 100%|██████████| 659/659 [00:02<00:00, 294.40it/s]\n",
            "Random Search Tuning:  80%|████████  | 8/10 [21:09<05:06, 153.15s/it, accuracy=0.946, f1=0.946]"
          ]
        },
        {
          "name": "stdout",
          "output_type": "stream",
          "text": [
            "Validation F-1 Score: 0.9460, Accuracy: 0.9457\n"
          ]
        },
        {
          "name": "stderr",
          "output_type": "stream",
          "text": [
            "Training Epoch 1/5: 100%|██████████| 1976/1976 [00:19<00:00, 100.68it/s, loss=0.0894]\n"
          ]
        },
        {
          "name": "stdout",
          "output_type": "stream",
          "text": [
            "Epoch 1/5, Loss: 0.2432\n"
          ]
        },
        {
          "name": "stderr",
          "output_type": "stream",
          "text": [
            "Training Epoch 2/5: 100%|██████████| 1976/1976 [00:19<00:00, 100.38it/s, loss=0.0832]\n"
          ]
        },
        {
          "name": "stdout",
          "output_type": "stream",
          "text": [
            "Epoch 2/5, Loss: 0.1366\n"
          ]
        },
        {
          "name": "stderr",
          "output_type": "stream",
          "text": [
            "Training Epoch 3/5: 100%|██████████| 1976/1976 [00:19<00:00, 100.74it/s, loss=0.00596]\n"
          ]
        },
        {
          "name": "stdout",
          "output_type": "stream",
          "text": [
            "Epoch 3/5, Loss: 0.1008\n"
          ]
        },
        {
          "name": "stderr",
          "output_type": "stream",
          "text": [
            "Training Epoch 4/5: 100%|██████████| 1976/1976 [00:19<00:00, 100.98it/s, loss=0.0117]\n"
          ]
        },
        {
          "name": "stdout",
          "output_type": "stream",
          "text": [
            "Epoch 4/5, Loss: 0.0665\n"
          ]
        },
        {
          "name": "stderr",
          "output_type": "stream",
          "text": [
            "Training Epoch 5/5: 100%|██████████| 1976/1976 [00:19<00:00, 100.84it/s, loss=0.1]\n"
          ]
        },
        {
          "name": "stdout",
          "output_type": "stream",
          "text": [
            "Epoch 5/5, Loss: 0.0421\n"
          ]
        },
        {
          "name": "stderr",
          "output_type": "stream",
          "text": [
            "Validating: 100%|██████████| 659/659 [00:02<00:00, 296.57it/s]\n",
            "Random Search Tuning:  90%|█████████ | 9/10 [22:50<02:16, 136.76s/it, accuracy=0.952, f1=0.952]"
          ]
        },
        {
          "name": "stdout",
          "output_type": "stream",
          "text": [
            "Validation F-1 Score: 0.9523, Accuracy: 0.9523\n"
          ]
        },
        {
          "name": "stderr",
          "output_type": "stream",
          "text": [
            "Training Epoch 1/8: 100%|██████████| 1976/1976 [00:19<00:00, 99.69it/s, loss=0.196] \n"
          ]
        },
        {
          "name": "stdout",
          "output_type": "stream",
          "text": [
            "Epoch 1/8, Loss: 0.2153\n"
          ]
        },
        {
          "name": "stderr",
          "output_type": "stream",
          "text": [
            "Training Epoch 2/8: 100%|██████████| 1976/1976 [00:19<00:00, 100.48it/s, loss=0.0346]\n"
          ]
        },
        {
          "name": "stdout",
          "output_type": "stream",
          "text": [
            "Epoch 2/8, Loss: 0.1183\n"
          ]
        },
        {
          "name": "stderr",
          "output_type": "stream",
          "text": [
            "Training Epoch 3/8: 100%|██████████| 1976/1976 [00:19<00:00, 99.95it/s, loss=0.466]\n"
          ]
        },
        {
          "name": "stdout",
          "output_type": "stream",
          "text": [
            "Epoch 3/8, Loss: 0.0749\n"
          ]
        },
        {
          "name": "stderr",
          "output_type": "stream",
          "text": [
            "Training Epoch 4/8: 100%|██████████| 1976/1976 [00:19<00:00, 100.22it/s, loss=6.57e-5]\n"
          ]
        },
        {
          "name": "stdout",
          "output_type": "stream",
          "text": [
            "Epoch 4/8, Loss: 0.0383\n"
          ]
        },
        {
          "name": "stderr",
          "output_type": "stream",
          "text": [
            "Training Epoch 5/8: 100%|██████████| 1976/1976 [00:19<00:00, 100.28it/s, loss=0.00213]\n"
          ]
        },
        {
          "name": "stdout",
          "output_type": "stream",
          "text": [
            "Epoch 5/8, Loss: 0.0237\n"
          ]
        },
        {
          "name": "stderr",
          "output_type": "stream",
          "text": [
            "Training Epoch 6/8: 100%|██████████| 1976/1976 [00:19<00:00, 100.47it/s, loss=0.000424]\n"
          ]
        },
        {
          "name": "stdout",
          "output_type": "stream",
          "text": [
            "Epoch 6/8, Loss: 0.0178\n"
          ]
        },
        {
          "name": "stderr",
          "output_type": "stream",
          "text": [
            "Training Epoch 7/8: 100%|██████████| 1976/1976 [00:19<00:00, 100.04it/s, loss=7.83e-6]\n"
          ]
        },
        {
          "name": "stdout",
          "output_type": "stream",
          "text": [
            "Epoch 7/8, Loss: 0.0142\n"
          ]
        },
        {
          "name": "stderr",
          "output_type": "stream",
          "text": [
            "Training Epoch 8/8: 100%|██████████| 1976/1976 [00:19<00:00, 100.06it/s, loss=0.000331]\n"
          ]
        },
        {
          "name": "stdout",
          "output_type": "stream",
          "text": [
            "Epoch 8/8, Loss: 0.0133\n"
          ]
        },
        {
          "name": "stderr",
          "output_type": "stream",
          "text": [
            "Validating: 100%|██████████| 659/659 [00:02<00:00, 293.26it/s]\n",
            "Random Search Tuning: 100%|██████████| 10/10 [25:30<00:00, 153.07s/it, accuracy=0.947, f1=0.947]"
          ]
        },
        {
          "name": "stdout",
          "output_type": "stream",
          "text": [
            "Validation F-1 Score: 0.9465, Accuracy: 0.9467\n",
            "Best Validation F1 Score: 0.9523\n",
            "Best Hyperparameters: {'embedding_dim': 156.02979350260784, 'hidden_dim': 467.03628008471236, 'lr': 0.000411395570516993, 'epochs': 5}\n",
            "Total Parameter Tuning Time: 1530.76 seconds\n"
          ]
        },
        {
          "name": "stderr",
          "output_type": "stream",
          "text": [
            "\n"
          ]
        }
      ],
      "source": [
        "random.seed(1234)\n",
        "\n",
        "def train_and_evaluate(hyperparams, train_loader, val_loader, vocab_size, output_dim, device):\n",
        "    embedding_dim = int(hyperparams['embedding_dim'])\n",
        "    hidden_dim = int(hyperparams['hidden_dim'])\n",
        "    lr = hyperparams['lr']\n",
        "    # alpha = hyperparams['alpha']\n",
        "    # gamma = hyperparams['gamma']\n",
        "\n",
        "    # Initialize the model, loss, and optimizer\n",
        "    model = GRUSentimentModel(vocab_size, embedding_dim, hidden_dim, output_dim).to(device)\n",
        "\n",
        "    # **MODIFIED**: Compute class weights for the training set\n",
        "    all_train_labels = [label for batch in train_loader for label in batch['label'].numpy()]\n",
        "    class_weights = compute_class_weight(\n",
        "        class_weight='balanced',\n",
        "        classes=np.unique(all_train_labels),\n",
        "        y=all_train_labels\n",
        "    )\n",
        "    class_weights_tensor = torch.tensor(class_weights, dtype=torch.float).to(device)  # Convert to PyTorch tensor\n",
        "\n",
        "    # **MODIFIED**: Use CrossEntropyLoss with class weights\n",
        "    criterion = nn.CrossEntropyLoss(weight=class_weights_tensor)\n",
        "    optimizer = torch.optim.Adam(model.parameters(), lr=lr)\n",
        "\n",
        "    # Training loop\n",
        "    for epoch in range(hyperparams['epochs']):\n",
        "        model.train()\n",
        "        total_loss = 0\n",
        "        train_loop = tqdm(train_loader, desc=f\"Training Epoch {epoch + 1}/{hyperparams['epochs']}\", leave=True, position=0)\n",
        "        for batch in train_loop:\n",
        "            input_ids = batch['input_ids'].to(device)\n",
        "            labels = batch['label'].to(device)\n",
        "\n",
        "            optimizer.zero_grad()\n",
        "            outputs = model(input_ids)\n",
        "            loss = criterion(outputs, labels)  # **MODIFIED**: Use CrossEntropyLoss\n",
        "            total_loss += loss.item()\n",
        "            loss.backward()\n",
        "            optimizer.step()\n",
        "\n",
        "            train_loop.set_postfix(loss=loss.item())\n",
        "\n",
        "        print(f\"Epoch {epoch + 1}/{hyperparams['epochs']}, Loss: {total_loss / len(train_loader):.4f}\")\n",
        "\n",
        "    # Validation evaluation\n",
        "    model.eval()\n",
        "    val_predictions, val_labels = [], []\n",
        "    val_loop = tqdm(val_loader, desc=\"Validating\", leave=True, position=0)\n",
        "    with torch.no_grad():\n",
        "        for batch in val_loop:\n",
        "            input_ids = batch['input_ids'].to(device)\n",
        "            labels = batch['label'].to(device)\n",
        "\n",
        "            outputs = model(input_ids)\n",
        "            preds = torch.argmax(outputs, dim=1)\n",
        "            val_predictions.extend(preds.cpu().numpy())\n",
        "            val_labels.extend(labels.cpu().numpy())\n",
        "\n",
        "    # Calculate F1 score and accuracy\n",
        "    f1 = f1_score(val_labels, val_predictions, average='weighted')\n",
        "    accuracy = accuracy_score(val_labels, val_predictions)\n",
        "    print(f\"Validation F-1 Score: {f1:.4f}, Accuracy: {accuracy:.4f}\")\n",
        "    return f1, accuracy, model\n",
        "\n",
        "\n",
        "def random_hyperparameter_tuning(train_loader, val_loader, vocab_size, output_dim, device, n_iter=20):\n",
        "    # Define hyperparameter ranges for random search\n",
        "    param_space = {\n",
        "        'embedding_dim': (150, 250),\n",
        "        'hidden_dim': (256, 768),\n",
        "        'lr': (np.log10(1e-4), np.log10(1e-3)),  # Log-uniform for learning rate\n",
        "        'epochs': (5, 10),  # **MODIFIED**: Removed `alpha` and `gamma` since FocalLoss is no longer used\n",
        "    }\n",
        "\n",
        "    best_f1 = 0\n",
        "    best_params = None\n",
        "    best_model = None\n",
        "\n",
        "    # Random search iterations\n",
        "    with tqdm(total=n_iter, desc=\"Random Search Tuning\", leave=True, position=0) as pbar:\n",
        "        for _ in range(n_iter):\n",
        "            # Sample hyperparameters\n",
        "            hyperparams = {\n",
        "                'embedding_dim': np.random.uniform(*param_space['embedding_dim']),\n",
        "                'hidden_dim': np.random.uniform(*param_space['hidden_dim']),\n",
        "                'lr': 10**np.random.uniform(*param_space['lr']),\n",
        "                'epochs': np.random.randint(*param_space['epochs']),\n",
        "            }\n",
        "            f1, accuracy, model = train_and_evaluate(hyperparams, train_loader, val_loader, vocab_size, output_dim, device)\n",
        "            pbar.set_postfix(f1=f1, accuracy=accuracy)\n",
        "            pbar.update(1)\n",
        "\n",
        "            if f1 > best_f1:\n",
        "                best_f1 = f1\n",
        "                best_params = hyperparams\n",
        "                best_model = model\n",
        "\n",
        "    print(f\"Best Validation F1 Score: {best_f1:.4f}\")\n",
        "    print(f\"Best Hyperparameters: {best_params}\")\n",
        "\n",
        "    # Save the best model\n",
        "    torch.save(best_model.state_dict(), \"best_gru_model.pth\")\n",
        "    return best_params, best_f1, best_model\n",
        "\n",
        "#Start timer\n",
        "start_time = time.time()\n",
        "# Run random search\n",
        "best_params, best_f1, best_model= random_hyperparameter_tuning(\n",
        "    train_loader_3,\n",
        "    val_loader_3,\n",
        "    vocab_size=VOCAB_SIZE,\n",
        "    output_dim=2,\n",
        "    device=device,\n",
        "    n_iter=10  # Number of random samples to evaluate\n",
        ")\n",
        "# End timer\n",
        "end_time = time.time()\n",
        "total_time = end_time - start_time\n",
        "print(f\"Total Parameter Tuning Time: {total_time:.2f} seconds\")\n"
      ]
    },
    {
      "cell_type": "code",
      "execution_count": null,
      "metadata": {
        "colab": {
          "base_uri": "https://localhost:8080/"
        },
        "id": "pNsnsIJFrzKW",
        "outputId": "2541841c-c525-4e9f-c332-6a1936ee7327"
      },
      "outputs": [
        {
          "name": "stderr",
          "output_type": "stream",
          "text": [
            "Testing Best Model: 100%|██████████| 659/659 [00:02<00:00, 278.07it/s]\n"
          ]
        },
        {
          "name": "stdout",
          "output_type": "stream",
          "text": [
            "Test F-1 Score: 0.9512, Test Accuracy: 0.9512\n",
            "\n",
            "Classification Report:\n",
            "              precision    recall  f1-score   support\n",
            "\n",
            "           0     0.9208    0.9219    0.9214      3267\n",
            "           1     0.9649    0.9644    0.9646      7270\n",
            "\n",
            "    accuracy                         0.9512     10537\n",
            "   macro avg     0.9429    0.9432    0.9430     10537\n",
            "weighted avg     0.9512    0.9512    0.9512     10537\n",
            "\n"
          ]
        }
      ],
      "source": [
        "# Evaluate the best model on the test set\n",
        "best_model.eval()\n",
        "test_predictions, test_labels = [], []\n",
        "\n",
        "# **MODIFIED**: Added probabilities collection for further analysis if needed\n",
        "test_probabilities = []\n",
        "test_loop = tqdm(test_loader_3, desc=\"Testing Best Model\", leave=True, position=0)\n",
        "with torch.no_grad():\n",
        "    for batch in test_loop:\n",
        "        input_ids = batch['input_ids'].to(device)\n",
        "        labels = batch['label'].to(device)\n",
        "\n",
        "        # Forward pass\n",
        "        outputs = best_model(input_ids)\n",
        "\n",
        "        # **MODIFIED**: Added probability calculation using softmax\n",
        "        probs = torch.softmax(outputs, dim=1)  # Probabilities for each class\n",
        "        preds = torch.argmax(probs, dim=1)  # Predicted class\n",
        "\n",
        "        test_predictions.extend(preds.cpu().numpy())\n",
        "        test_labels.extend(labels.cpu().numpy())\n",
        "\n",
        "        # **MODIFIED**: Collect probabilities of the positive class (e.g., class 1)\n",
        "        test_probabilities.extend(probs[:, 1].cpu().numpy())\n",
        "\n",
        "# Calculate F1 score and accuracy on the test set\n",
        "test_f1 = f1_score(test_labels, test_predictions, average='weighted')\n",
        "test_accuracy = accuracy_score(test_labels, test_predictions)\n",
        "\n",
        "print(f\"Test F-1 Score: {test_f1:.4f}, Test Accuracy: {test_accuracy:.4f}\")\n",
        "print(\"\\nClassification Report:\")\n",
        "print(classification_report(test_labels, test_predictions, digits=4))"
      ]
    },
    {
      "cell_type": "code",
      "execution_count": null,
      "metadata": {
        "colab": {
          "base_uri": "https://localhost:8080/",
          "height": 1000
        },
        "id": "M-7K6ijjNM9W",
        "outputId": "00fb685a-95b1-4825-c1b1-9b8d465f0d58"
      },
      "outputs": [
        {
          "data": {
            "image/png": "[encoded data removed]",
            "text/plain": [
              "<Figure size 600x600 with 2 Axes>"
            ]
          },
          "metadata": {},
          "output_type": "display_data"
        },
        {
          "data": {
            "image/png": "[encoded data removed]",
            "text/plain": [
              "<Figure size 800x600 with 1 Axes>"
            ]
          },
          "metadata": {},
          "output_type": "display_data"
        }
      ],
      "source": [
        "# Confusion Matrix\n",
        "conf_matrix = confusion_matrix(test_labels, test_predictions)\n",
        "plt.figure(figsize=(6, 6))\n",
        "sns.heatmap(conf_matrix, annot=True, fmt='d', cmap='Blues', xticklabels=['No Issue', 'Issue'], yticklabels=['No Issue', 'Issue'])\n",
        "plt.xlabel('Predicted')\n",
        "plt.ylabel('Actual')\n",
        "plt.title('Confusion Matrix - Binary: GRU')\n",
        "plt.show()\n",
        "\n",
        "# ROC Curve\n",
        "fpr, tpr, thresholds = roc_curve(test_labels, test_predictions)\n",
        "roc_auc = auc(fpr, tpr)\n",
        "\n",
        "plt.figure(figsize=(8, 6))\n",
        "plt.plot(fpr, tpr, label=f'AUC = {roc_auc:.2f}')\n",
        "plt.plot([0, 1], [0, 1], linestyle='--', color='gray')\n",
        "plt.xlabel('False Positive Rate')\n",
        "plt.ylabel('True Positive Rate')\n",
        "plt.title('ROC Curve - Binary: GRU')\n",
        "plt.legend(loc='lower right')\n",
        "plt.show()\n"
      ]
    }
  ],
  "metadata": {
    "accelerator": "GPU",
    "colab": {
      "gpuType": "L4",
      "machine_shape": "hm",
      "provenance": [],
      "toc_visible": true
    },
    "kernelspec": {
      "display_name": "Python 3",
      "name": "python3"
    },
    "language_info": {
      "name": "python"
    },
    "widgets": {
      "application/vnd.jupyter.widget-state+json": {
        "030db0d7f3f148e5b663967a9b4c005a": {
          "model_module": "@jupyter-widgets/controls",
          "model_module_version": "1.5.0",
          "model_name": "ProgressStyleModel",
          "state": {
            "_model_module": "@jupyter-widgets/controls",
            "_model_module_version": "1.5.0",
            "_model_name": "ProgressStyleModel",
            "_view_count": null,
            "_view_module": "@jupyter-widgets/base",
            "_view_module_version": "1.2.0",
            "_view_name": "StyleView",
            "bar_color": null,
            "description_width": ""
          }
        },
        "048cd9f290f4417390a0a2f4a1dd3eeb": {
          "model_module": "@jupyter-widgets/controls",
          "model_module_version": "1.5.0",
          "model_name": "DescriptionStyleModel",
          "state": {
            "_model_module": "@jupyter-widgets/controls",
            "_model_module_version": "1.5.0",
            "_model_name": "DescriptionStyleModel",
            "_view_count": null,
            "_view_module": "@jupyter-widgets/base",
            "_view_module_version": "1.2.0",
            "_view_name": "StyleView",
            "description_width": ""
          }
        },
        "075c1cdfa54d4128a46bb350d954de44": {
          "model_module": "@jupyter-widgets/base",
          "model_module_version": "1.2.0",
          "model_name": "LayoutModel",
          "state": {
            "_model_module": "@jupyter-widgets/base",
            "_model_module_version": "1.2.0",
            "_model_name": "LayoutModel",
            "_view_count": null,
            "_view_module": "@jupyter-widgets/base",
            "_view_module_version": "1.2.0",
            "_view_name": "LayoutView",
            "align_content": null,
            "align_items": null,
            "align_self": null,
            "border": null,
            "bottom": null,
            "display": null,
            "flex": null,
            "flex_flow": null,
            "grid_area": null,
            "grid_auto_columns": null,
            "grid_auto_flow": null,
            "grid_auto_rows": null,
            "grid_column": null,
            "grid_gap": null,
            "grid_row": null,
            "grid_template_areas": null,
            "grid_template_columns": null,
            "grid_template_rows": null,
            "height": null,
            "justify_content": null,
            "justify_items": null,
            "left": null,
            "margin": null,
            "max_height": null,
            "max_width": null,
            "min_height": null,
            "min_width": null,
            "object_fit": null,
            "object_position": null,
            "order": null,
            "overflow": null,
            "overflow_x": null,
            "overflow_y": null,
            "padding": null,
            "right": null,
            "top": null,
            "visibility": null,
            "width": null
          }
        },
        "0a63d5c566e14c8fb6a230f753c423d6": {
          "model_module": "@jupyter-widgets/controls",
          "model_module_version": "1.5.0",
          "model_name": "HTMLModel",
          "state": {
            "_dom_classes": [],
            "_model_module": "@jupyter-widgets/controls",
            "_model_module_version": "1.5.0",
            "_model_name": "HTMLModel",
            "_view_count": null,
            "_view_module": "@jupyter-widgets/controls",
            "_view_module_version": "1.5.0",
            "_view_name": "HTMLView",
            "description": "",
            "description_tooltip": null,
            "layout": "IPY_MODEL_89e96c98baeb4e2ba4406527dc7b1c79",
            "placeholder": "​",
            "style": "IPY_MODEL_b1d14578378f400aba9ef4e4770e1861",
            "value": " 684/684 [00:00&lt;00:00, 55.5kB/s]"
          }
        },
        "13b3978a61d542fab7a7416564b671f1": {
          "model_module": "@jupyter-widgets/controls",
          "model_module_version": "1.5.0",
          "model_name": "HBoxModel",
          "state": {
            "_dom_classes": [],
            "_model_module": "@jupyter-widgets/controls",
            "_model_module_version": "1.5.0",
            "_model_name": "HBoxModel",
            "_view_count": null,
            "_view_module": "@jupyter-widgets/controls",
            "_view_module_version": "1.5.0",
            "_view_name": "HBoxView",
            "box_style": "",
            "children": [
              "IPY_MODEL_eaa82f3cd60242bf9c378f894ebf5aa5",
              "IPY_MODEL_fc255b80c8e9444b9a18da9654d2a147",
              "IPY_MODEL_88b845804b994125ad3c826129dc45e7"
            ],
            "layout": "IPY_MODEL_4f5aaf1a78124d32b58d487b6f26d91c"
          }
        },
        "145333b122534f829c376881614cd9f4": {
          "model_module": "@jupyter-widgets/controls",
          "model_module_version": "1.5.0",
          "model_name": "DescriptionStyleModel",
          "state": {
            "_model_module": "@jupyter-widgets/controls",
            "_model_module_version": "1.5.0",
            "_model_name": "DescriptionStyleModel",
            "_view_count": null,
            "_view_module": "@jupyter-widgets/base",
            "_view_module_version": "1.2.0",
            "_view_name": "StyleView",
            "description_width": ""
          }
        },
        "1822a7f610d14ff1ad802ed873af815f": {
          "model_module": "@jupyter-widgets/base",
          "model_module_version": "1.2.0",
          "model_name": "LayoutModel",
          "state": {
            "_model_module": "@jupyter-widgets/base",
            "_model_module_version": "1.2.0",
            "_model_name": "LayoutModel",
            "_view_count": null,
            "_view_module": "@jupyter-widgets/base",
            "_view_module_version": "1.2.0",
            "_view_name": "LayoutView",
            "align_content": null,
            "align_items": null,
            "align_self": null,
            "border": null,
            "bottom": null,
            "display": null,
            "flex": null,
            "flex_flow": null,
            "grid_area": null,
            "grid_auto_columns": null,
            "grid_auto_flow": null,
            "grid_auto_rows": null,
            "grid_column": null,
            "grid_gap": null,
            "grid_row": null,
            "grid_template_areas": null,
            "grid_template_columns": null,
            "grid_template_rows": null,
            "height": null,
            "justify_content": null,
            "justify_items": null,
            "left": null,
            "margin": null,
            "max_height": null,
            "max_width": null,
            "min_height": null,
            "min_width": null,
            "object_fit": null,
            "object_position": null,
            "order": null,
            "overflow": null,
            "overflow_x": null,
            "overflow_y": null,
            "padding": null,
            "right": null,
            "top": null,
            "visibility": null,
            "width": null
          }
        },
        "485191c81f4745beb1ea6989a43bbde5": {
          "model_module": "@jupyter-widgets/base",
          "model_module_version": "1.2.0",
          "model_name": "LayoutModel",
          "state": {
            "_model_module": "@jupyter-widgets/base",
            "_model_module_version": "1.2.0",
            "_model_name": "LayoutModel",
            "_view_count": null,
            "_view_module": "@jupyter-widgets/base",
            "_view_module_version": "1.2.0",
            "_view_name": "LayoutView",
            "align_content": null,
            "align_items": null,
            "align_self": null,
            "border": null,
            "bottom": null,
            "display": null,
            "flex": null,
            "flex_flow": null,
            "grid_area": null,
            "grid_auto_columns": null,
            "grid_auto_flow": null,
            "grid_auto_rows": null,
            "grid_column": null,
            "grid_gap": null,
            "grid_row": null,
            "grid_template_areas": null,
            "grid_template_columns": null,
            "grid_template_rows": null,
            "height": null,
            "justify_content": null,
            "justify_items": null,
            "left": null,
            "margin": null,
            "max_height": null,
            "max_width": null,
            "min_height": null,
            "min_width": null,
            "object_fit": null,
            "object_position": null,
            "order": null,
            "overflow": null,
            "overflow_x": null,
            "overflow_y": null,
            "padding": null,
            "right": null,
            "top": null,
            "visibility": null,
            "width": null
          }
        },
        "4f5aaf1a78124d32b58d487b6f26d91c": {
          "model_module": "@jupyter-widgets/base",
          "model_module_version": "1.2.0",
          "model_name": "LayoutModel",
          "state": {
            "_model_module": "@jupyter-widgets/base",
            "_model_module_version": "1.2.0",
            "_model_name": "LayoutModel",
            "_view_count": null,
            "_view_module": "@jupyter-widgets/base",
            "_view_module_version": "1.2.0",
            "_view_name": "LayoutView",
            "align_content": null,
            "align_items": null,
            "align_self": null,
            "border": null,
            "bottom": null,
            "display": null,
            "flex": null,
            "flex_flow": null,
            "grid_area": null,
            "grid_auto_columns": null,
            "grid_auto_flow": null,
            "grid_auto_rows": null,
            "grid_column": null,
            "grid_gap": null,
            "grid_row": null,
            "grid_template_areas": null,
            "grid_template_columns": null,
            "grid_template_rows": null,
            "height": null,
            "justify_content": null,
            "justify_items": null,
            "left": null,
            "margin": null,
            "max_height": null,
            "max_width": null,
            "min_height": null,
            "min_width": null,
            "object_fit": null,
            "object_position": null,
            "order": null,
            "overflow": null,
            "overflow_x": null,
            "overflow_y": null,
            "padding": null,
            "right": null,
            "top": null,
            "visibility": null,
            "width": null
          }
        },
        "52c7df462b414d0c9ec46e3740174fe1": {
          "model_module": "@jupyter-widgets/controls",
          "model_module_version": "1.5.0",
          "model_name": "FloatProgressModel",
          "state": {
            "_dom_classes": [],
            "_model_module": "@jupyter-widgets/controls",
            "_model_module_version": "1.5.0",
            "_model_name": "FloatProgressModel",
            "_view_count": null,
            "_view_module": "@jupyter-widgets/controls",
            "_view_module_version": "1.5.0",
            "_view_name": "ProgressView",
            "bar_style": "success",
            "description": "",
            "description_tooltip": null,
            "layout": "IPY_MODEL_c55790770ddd4b03b2fb61adaf47dc2d",
            "max": 684,
            "min": 0,
            "orientation": "horizontal",
            "style": "IPY_MODEL_96795ca925874c2eafcd3cec90da24c1",
            "value": 684
          }
        },
        "691047065cb747f3a1b381b4b8ccf12e": {
          "model_module": "@jupyter-widgets/controls",
          "model_module_version": "1.5.0",
          "model_name": "HTMLModel",
          "state": {
            "_dom_classes": [],
            "_model_module": "@jupyter-widgets/controls",
            "_model_module_version": "1.5.0",
            "_model_name": "HTMLModel",
            "_view_count": null,
            "_view_module": "@jupyter-widgets/controls",
            "_view_module_version": "1.5.0",
            "_view_name": "HTMLView",
            "description": "",
            "description_tooltip": null,
            "layout": "IPY_MODEL_ddbc86d3811d464188b3f93849951548",
            "placeholder": "​",
            "style": "IPY_MODEL_aa208d56a9b44d59a06be711bb33bd09",
            "value": "spiece.model: 100%"
          }
        },
        "6a7f975bca114a44aec5059d23128f5c": {
          "model_module": "@jupyter-widgets/controls",
          "model_module_version": "1.5.0",
          "model_name": "HTMLModel",
          "state": {
            "_dom_classes": [],
            "_model_module": "@jupyter-widgets/controls",
            "_model_module_version": "1.5.0",
            "_model_name": "HTMLModel",
            "_view_count": null,
            "_view_module": "@jupyter-widgets/controls",
            "_view_module_version": "1.5.0",
            "_view_name": "HTMLView",
            "description": "",
            "description_tooltip": null,
            "layout": "IPY_MODEL_075c1cdfa54d4128a46bb350d954de44",
            "placeholder": "​",
            "style": "IPY_MODEL_048cd9f290f4417390a0a2f4a1dd3eeb",
            "value": " 760k/760k [00:00&lt;00:00, 777kB/s]"
          }
        },
        "6febc25ccb7a41fbb61a9fc73c0f319c": {
          "model_module": "@jupyter-widgets/controls",
          "model_module_version": "1.5.0",
          "model_name": "HTMLModel",
          "state": {
            "_dom_classes": [],
            "_model_module": "@jupyter-widgets/controls",
            "_model_module_version": "1.5.0",
            "_model_name": "HTMLModel",
            "_view_count": null,
            "_view_module": "@jupyter-widgets/controls",
            "_view_module_version": "1.5.0",
            "_view_name": "HTMLView",
            "description": "",
            "description_tooltip": null,
            "layout": "IPY_MODEL_af973883c969492786fb4d62991d1cd8",
            "placeholder": "​",
            "style": "IPY_MODEL_7923bd8bee1e49dcbe1392b4f14746fa",
            "value": " 1.31M/1.31M [00:00&lt;00:00, 1.90MB/s]"
          }
        },
        "78492f20483b452cb64e34e3825fe8e1": {
          "model_module": "@jupyter-widgets/base",
          "model_module_version": "1.2.0",
          "model_name": "LayoutModel",
          "state": {
            "_model_module": "@jupyter-widgets/base",
            "_model_module_version": "1.2.0",
            "_model_name": "LayoutModel",
            "_view_count": null,
            "_view_module": "@jupyter-widgets/base",
            "_view_module_version": "1.2.0",
            "_view_name": "LayoutView",
            "align_content": null,
            "align_items": null,
            "align_self": null,
            "border": null,
            "bottom": null,
            "display": null,
            "flex": null,
            "flex_flow": null,
            "grid_area": null,
            "grid_auto_columns": null,
            "grid_auto_flow": null,
            "grid_auto_rows": null,
            "grid_column": null,
            "grid_gap": null,
            "grid_row": null,
            "grid_template_areas": null,
            "grid_template_columns": null,
            "grid_template_rows": null,
            "height": null,
            "justify_content": null,
            "justify_items": null,
            "left": null,
            "margin": null,
            "max_height": null,
            "max_width": null,
            "min_height": null,
            "min_width": null,
            "object_fit": null,
            "object_position": null,
            "order": null,
            "overflow": null,
            "overflow_x": null,
            "overflow_y": null,
            "padding": null,
            "right": null,
            "top": null,
            "visibility": null,
            "width": null
          }
        },
        "78b730d2ee45437c99c34fa8cfe23705": {
          "model_module": "@jupyter-widgets/controls",
          "model_module_version": "1.5.0",
          "model_name": "DescriptionStyleModel",
          "state": {
            "_model_module": "@jupyter-widgets/controls",
            "_model_module_version": "1.5.0",
            "_model_name": "DescriptionStyleModel",
            "_view_count": null,
            "_view_module": "@jupyter-widgets/base",
            "_view_module_version": "1.2.0",
            "_view_name": "StyleView",
            "description_width": ""
          }
        },
        "7923bd8bee1e49dcbe1392b4f14746fa": {
          "model_module": "@jupyter-widgets/controls",
          "model_module_version": "1.5.0",
          "model_name": "DescriptionStyleModel",
          "state": {
            "_model_module": "@jupyter-widgets/controls",
            "_model_module_version": "1.5.0",
            "_model_name": "DescriptionStyleModel",
            "_view_count": null,
            "_view_module": "@jupyter-widgets/base",
            "_view_module_version": "1.2.0",
            "_view_name": "StyleView",
            "description_width": ""
          }
        },
        "88b845804b994125ad3c826129dc45e7": {
          "model_module": "@jupyter-widgets/controls",
          "model_module_version": "1.5.0",
          "model_name": "HTMLModel",
          "state": {
            "_dom_classes": [],
            "_model_module": "@jupyter-widgets/controls",
            "_model_module_version": "1.5.0",
            "_model_name": "HTMLModel",
            "_view_count": null,
            "_view_module": "@jupyter-widgets/controls",
            "_view_module_version": "1.5.0",
            "_view_name": "HTMLView",
            "description": "",
            "description_tooltip": null,
            "layout": "IPY_MODEL_78492f20483b452cb64e34e3825fe8e1",
            "placeholder": "​",
            "style": "IPY_MODEL_145333b122534f829c376881614cd9f4",
            "value": " 25.0/25.0 [00:00&lt;00:00, 2.08kB/s]"
          }
        },
        "89e96c98baeb4e2ba4406527dc7b1c79": {
          "model_module": "@jupyter-widgets/base",
          "model_module_version": "1.2.0",
          "model_name": "LayoutModel",
          "state": {
            "_model_module": "@jupyter-widgets/base",
            "_model_module_version": "1.2.0",
            "_model_name": "LayoutModel",
            "_view_count": null,
            "_view_module": "@jupyter-widgets/base",
            "_view_module_version": "1.2.0",
            "_view_name": "LayoutView",
            "align_content": null,
            "align_items": null,
            "align_self": null,
            "border": null,
            "bottom": null,
            "display": null,
            "flex": null,
            "flex_flow": null,
            "grid_area": null,
            "grid_auto_columns": null,
            "grid_auto_flow": null,
            "grid_auto_rows": null,
            "grid_column": null,
            "grid_gap": null,
            "grid_row": null,
            "grid_template_areas": null,
            "grid_template_columns": null,
            "grid_template_rows": null,
            "height": null,
            "justify_content": null,
            "justify_items": null,
            "left": null,
            "margin": null,
            "max_height": null,
            "max_width": null,
            "min_height": null,
            "min_width": null,
            "object_fit": null,
            "object_position": null,
            "order": null,
            "overflow": null,
            "overflow_x": null,
            "overflow_y": null,
            "padding": null,
            "right": null,
            "top": null,
            "visibility": null,
            "width": null
          }
        },
        "94b448a7ea384fb594d2eeb2fae29c91": {
          "model_module": "@jupyter-widgets/controls",
          "model_module_version": "1.5.0",
          "model_name": "HTMLModel",
          "state": {
            "_dom_classes": [],
            "_model_module": "@jupyter-widgets/controls",
            "_model_module_version": "1.5.0",
            "_model_name": "HTMLModel",
            "_view_count": null,
            "_view_module": "@jupyter-widgets/controls",
            "_view_module_version": "1.5.0",
            "_view_name": "HTMLView",
            "description": "",
            "description_tooltip": null,
            "layout": "IPY_MODEL_fc74569460e9401384d0c42b44bd0b58",
            "placeholder": "​",
            "style": "IPY_MODEL_78b730d2ee45437c99c34fa8cfe23705",
            "value": "tokenizer.json: 100%"
          }
        },
        "96795ca925874c2eafcd3cec90da24c1": {
          "model_module": "@jupyter-widgets/controls",
          "model_module_version": "1.5.0",
          "model_name": "ProgressStyleModel",
          "state": {
            "_model_module": "@jupyter-widgets/controls",
            "_model_module_version": "1.5.0",
            "_model_name": "ProgressStyleModel",
            "_view_count": null,
            "_view_module": "@jupyter-widgets/base",
            "_view_module_version": "1.2.0",
            "_view_name": "StyleView",
            "bar_color": null,
            "description_width": ""
          }
        },
        "978301ddd54f48aaaa02ed6a5a5e0971": {
          "model_module": "@jupyter-widgets/controls",
          "model_module_version": "1.5.0",
          "model_name": "DescriptionStyleModel",
          "state": {
            "_model_module": "@jupyter-widgets/controls",
            "_model_module_version": "1.5.0",
            "_model_name": "DescriptionStyleModel",
            "_view_count": null,
            "_view_module": "@jupyter-widgets/base",
            "_view_module_version": "1.2.0",
            "_view_name": "StyleView",
            "description_width": ""
          }
        },
        "9ab4bf6b1d2b4e8b8df304c3cf3cc61c": {
          "model_module": "@jupyter-widgets/base",
          "model_module_version": "1.2.0",
          "model_name": "LayoutModel",
          "state": {
            "_model_module": "@jupyter-widgets/base",
            "_model_module_version": "1.2.0",
            "_model_name": "LayoutModel",
            "_view_count": null,
            "_view_module": "@jupyter-widgets/base",
            "_view_module_version": "1.2.0",
            "_view_name": "LayoutView",
            "align_content": null,
            "align_items": null,
            "align_self": null,
            "border": null,
            "bottom": null,
            "display": null,
            "flex": null,
            "flex_flow": null,
            "grid_area": null,
            "grid_auto_columns": null,
            "grid_auto_flow": null,
            "grid_auto_rows": null,
            "grid_column": null,
            "grid_gap": null,
            "grid_row": null,
            "grid_template_areas": null,
            "grid_template_columns": null,
            "grid_template_rows": null,
            "height": null,
            "justify_content": null,
            "justify_items": null,
            "left": null,
            "margin": null,
            "max_height": null,
            "max_width": null,
            "min_height": null,
            "min_width": null,
            "object_fit": null,
            "object_position": null,
            "order": null,
            "overflow": null,
            "overflow_x": null,
            "overflow_y": null,
            "padding": null,
            "right": null,
            "top": null,
            "visibility": null,
            "width": null
          }
        },
        "a1b39d26499c460c9d67c363b117d36e": {
          "model_module": "@jupyter-widgets/base",
          "model_module_version": "1.2.0",
          "model_name": "LayoutModel",
          "state": {
            "_model_module": "@jupyter-widgets/base",
            "_model_module_version": "1.2.0",
            "_model_name": "LayoutModel",
            "_view_count": null,
            "_view_module": "@jupyter-widgets/base",
            "_view_module_version": "1.2.0",
            "_view_name": "LayoutView",
            "align_content": null,
            "align_items": null,
            "align_self": null,
            "border": null,
            "bottom": null,
            "display": null,
            "flex": null,
            "flex_flow": null,
            "grid_area": null,
            "grid_auto_columns": null,
            "grid_auto_flow": null,
            "grid_auto_rows": null,
            "grid_column": null,
            "grid_gap": null,
            "grid_row": null,
            "grid_template_areas": null,
            "grid_template_columns": null,
            "grid_template_rows": null,
            "height": null,
            "justify_content": null,
            "justify_items": null,
            "left": null,
            "margin": null,
            "max_height": null,
            "max_width": null,
            "min_height": null,
            "min_width": null,
            "object_fit": null,
            "object_position": null,
            "order": null,
            "overflow": null,
            "overflow_x": null,
            "overflow_y": null,
            "padding": null,
            "right": null,
            "top": null,
            "visibility": null,
            "width": null
          }
        },
        "a4bb7878c3674d0c92fe710bdc4df255": {
          "model_module": "@jupyter-widgets/controls",
          "model_module_version": "1.5.0",
          "model_name": "HBoxModel",
          "state": {
            "_dom_classes": [],
            "_model_module": "@jupyter-widgets/controls",
            "_model_module_version": "1.5.0",
            "_model_name": "HBoxModel",
            "_view_count": null,
            "_view_module": "@jupyter-widgets/controls",
            "_view_module_version": "1.5.0",
            "_view_name": "HBoxView",
            "box_style": "",
            "children": [
              "IPY_MODEL_ae46f5fea1eb4e0793032a6f7e19bff9",
              "IPY_MODEL_52c7df462b414d0c9ec46e3740174fe1",
              "IPY_MODEL_0a63d5c566e14c8fb6a230f753c423d6"
            ],
            "layout": "IPY_MODEL_cbfad5a13d2048d89bbf48dd9b36daec"
          }
        },
        "aa208d56a9b44d59a06be711bb33bd09": {
          "model_module": "@jupyter-widgets/controls",
          "model_module_version": "1.5.0",
          "model_name": "DescriptionStyleModel",
          "state": {
            "_model_module": "@jupyter-widgets/controls",
            "_model_module_version": "1.5.0",
            "_model_name": "DescriptionStyleModel",
            "_view_count": null,
            "_view_module": "@jupyter-widgets/base",
            "_view_module_version": "1.2.0",
            "_view_name": "StyleView",
            "description_width": ""
          }
        },
        "aa3965963e5b4b8e901b5db41f061b37": {
          "model_module": "@jupyter-widgets/controls",
          "model_module_version": "1.5.0",
          "model_name": "FloatProgressModel",
          "state": {
            "_dom_classes": [],
            "_model_module": "@jupyter-widgets/controls",
            "_model_module_version": "1.5.0",
            "_model_name": "FloatProgressModel",
            "_view_count": null,
            "_view_module": "@jupyter-widgets/controls",
            "_view_module_version": "1.5.0",
            "_view_name": "ProgressView",
            "bar_style": "success",
            "description": "",
            "description_tooltip": null,
            "layout": "IPY_MODEL_a1b39d26499c460c9d67c363b117d36e",
            "max": 1312669,
            "min": 0,
            "orientation": "horizontal",
            "style": "IPY_MODEL_030db0d7f3f148e5b663967a9b4c005a",
            "value": 1312669
          }
        },
        "ac8934d6fca041d49a6ca0130c27f071": {
          "model_module": "@jupyter-widgets/controls",
          "model_module_version": "1.5.0",
          "model_name": "ProgressStyleModel",
          "state": {
            "_model_module": "@jupyter-widgets/controls",
            "_model_module_version": "1.5.0",
            "_model_name": "ProgressStyleModel",
            "_view_count": null,
            "_view_module": "@jupyter-widgets/base",
            "_view_module_version": "1.2.0",
            "_view_name": "StyleView",
            "bar_color": null,
            "description_width": ""
          }
        },
        "acd4ab68ba974b89b7904ea689f47f12": {
          "model_module": "@jupyter-widgets/base",
          "model_module_version": "1.2.0",
          "model_name": "LayoutModel",
          "state": {
            "_model_module": "@jupyter-widgets/base",
            "_model_module_version": "1.2.0",
            "_model_name": "LayoutModel",
            "_view_count": null,
            "_view_module": "@jupyter-widgets/base",
            "_view_module_version": "1.2.0",
            "_view_name": "LayoutView",
            "align_content": null,
            "align_items": null,
            "align_self": null,
            "border": null,
            "bottom": null,
            "display": null,
            "flex": null,
            "flex_flow": null,
            "grid_area": null,
            "grid_auto_columns": null,
            "grid_auto_flow": null,
            "grid_auto_rows": null,
            "grid_column": null,
            "grid_gap": null,
            "grid_row": null,
            "grid_template_areas": null,
            "grid_template_columns": null,
            "grid_template_rows": null,
            "height": null,
            "justify_content": null,
            "justify_items": null,
            "left": null,
            "margin": null,
            "max_height": null,
            "max_width": null,
            "min_height": null,
            "min_width": null,
            "object_fit": null,
            "object_position": null,
            "order": null,
            "overflow": null,
            "overflow_x": null,
            "overflow_y": null,
            "padding": null,
            "right": null,
            "top": null,
            "visibility": null,
            "width": null
          }
        },
        "ae46f5fea1eb4e0793032a6f7e19bff9": {
          "model_module": "@jupyter-widgets/controls",
          "model_module_version": "1.5.0",
          "model_name": "HTMLModel",
          "state": {
            "_dom_classes": [],
            "_model_module": "@jupyter-widgets/controls",
            "_model_module_version": "1.5.0",
            "_model_name": "HTMLModel",
            "_view_count": null,
            "_view_module": "@jupyter-widgets/controls",
            "_view_module_version": "1.5.0",
            "_view_name": "HTMLView",
            "description": "",
            "description_tooltip": null,
            "layout": "IPY_MODEL_c17fb1bf02964c8d94806a05eff51fd2",
            "placeholder": "​",
            "style": "IPY_MODEL_fec6695905fc47d89212840ec561db4d",
            "value": "config.json: 100%"
          }
        },
        "ae7a791dea684aa9b7408c241df3d1b6": {
          "model_module": "@jupyter-widgets/controls",
          "model_module_version": "1.5.0",
          "model_name": "ProgressStyleModel",
          "state": {
            "_model_module": "@jupyter-widgets/controls",
            "_model_module_version": "1.5.0",
            "_model_name": "ProgressStyleModel",
            "_view_count": null,
            "_view_module": "@jupyter-widgets/base",
            "_view_module_version": "1.2.0",
            "_view_name": "StyleView",
            "bar_color": null,
            "description_width": ""
          }
        },
        "af973883c969492786fb4d62991d1cd8": {
          "model_module": "@jupyter-widgets/base",
          "model_module_version": "1.2.0",
          "model_name": "LayoutModel",
          "state": {
            "_model_module": "@jupyter-widgets/base",
            "_model_module_version": "1.2.0",
            "_model_name": "LayoutModel",
            "_view_count": null,
            "_view_module": "@jupyter-widgets/base",
            "_view_module_version": "1.2.0",
            "_view_name": "LayoutView",
            "align_content": null,
            "align_items": null,
            "align_self": null,
            "border": null,
            "bottom": null,
            "display": null,
            "flex": null,
            "flex_flow": null,
            "grid_area": null,
            "grid_auto_columns": null,
            "grid_auto_flow": null,
            "grid_auto_rows": null,
            "grid_column": null,
            "grid_gap": null,
            "grid_row": null,
            "grid_template_areas": null,
            "grid_template_columns": null,
            "grid_template_rows": null,
            "height": null,
            "justify_content": null,
            "justify_items": null,
            "left": null,
            "margin": null,
            "max_height": null,
            "max_width": null,
            "min_height": null,
            "min_width": null,
            "object_fit": null,
            "object_position": null,
            "order": null,
            "overflow": null,
            "overflow_x": null,
            "overflow_y": null,
            "padding": null,
            "right": null,
            "top": null,
            "visibility": null,
            "width": null
          }
        },
        "b1d14578378f400aba9ef4e4770e1861": {
          "model_module": "@jupyter-widgets/controls",
          "model_module_version": "1.5.0",
          "model_name": "DescriptionStyleModel",
          "state": {
            "_model_module": "@jupyter-widgets/controls",
            "_model_module_version": "1.5.0",
            "_model_name": "DescriptionStyleModel",
            "_view_count": null,
            "_view_module": "@jupyter-widgets/base",
            "_view_module_version": "1.2.0",
            "_view_name": "StyleView",
            "description_width": ""
          }
        },
        "b5eebea110634cb08e2ab375ca3d8877": {
          "model_module": "@jupyter-widgets/base",
          "model_module_version": "1.2.0",
          "model_name": "LayoutModel",
          "state": {
            "_model_module": "@jupyter-widgets/base",
            "_model_module_version": "1.2.0",
            "_model_name": "LayoutModel",
            "_view_count": null,
            "_view_module": "@jupyter-widgets/base",
            "_view_module_version": "1.2.0",
            "_view_name": "LayoutView",
            "align_content": null,
            "align_items": null,
            "align_self": null,
            "border": null,
            "bottom": null,
            "display": null,
            "flex": null,
            "flex_flow": null,
            "grid_area": null,
            "grid_auto_columns": null,
            "grid_auto_flow": null,
            "grid_auto_rows": null,
            "grid_column": null,
            "grid_gap": null,
            "grid_row": null,
            "grid_template_areas": null,
            "grid_template_columns": null,
            "grid_template_rows": null,
            "height": null,
            "justify_content": null,
            "justify_items": null,
            "left": null,
            "margin": null,
            "max_height": null,
            "max_width": null,
            "min_height": null,
            "min_width": null,
            "object_fit": null,
            "object_position": null,
            "order": null,
            "overflow": null,
            "overflow_x": null,
            "overflow_y": null,
            "padding": null,
            "right": null,
            "top": null,
            "visibility": null,
            "width": null
          }
        },
        "b9d65f26953d41fd9b374028e901ff86": {
          "model_module": "@jupyter-widgets/controls",
          "model_module_version": "1.5.0",
          "model_name": "FloatProgressModel",
          "state": {
            "_dom_classes": [],
            "_model_module": "@jupyter-widgets/controls",
            "_model_module_version": "1.5.0",
            "_model_name": "FloatProgressModel",
            "_view_count": null,
            "_view_module": "@jupyter-widgets/controls",
            "_view_module_version": "1.5.0",
            "_view_name": "ProgressView",
            "bar_style": "success",
            "description": "",
            "description_tooltip": null,
            "layout": "IPY_MODEL_b5eebea110634cb08e2ab375ca3d8877",
            "max": 760289,
            "min": 0,
            "orientation": "horizontal",
            "style": "IPY_MODEL_ae7a791dea684aa9b7408c241df3d1b6",
            "value": 760289
          }
        },
        "c17fb1bf02964c8d94806a05eff51fd2": {
          "model_module": "@jupyter-widgets/base",
          "model_module_version": "1.2.0",
          "model_name": "LayoutModel",
          "state": {
            "_model_module": "@jupyter-widgets/base",
            "_model_module_version": "1.2.0",
            "_model_name": "LayoutModel",
            "_view_count": null,
            "_view_module": "@jupyter-widgets/base",
            "_view_module_version": "1.2.0",
            "_view_name": "LayoutView",
            "align_content": null,
            "align_items": null,
            "align_self": null,
            "border": null,
            "bottom": null,
            "display": null,
            "flex": null,
            "flex_flow": null,
            "grid_area": null,
            "grid_auto_columns": null,
            "grid_auto_flow": null,
            "grid_auto_rows": null,
            "grid_column": null,
            "grid_gap": null,
            "grid_row": null,
            "grid_template_areas": null,
            "grid_template_columns": null,
            "grid_template_rows": null,
            "height": null,
            "justify_content": null,
            "justify_items": null,
            "left": null,
            "margin": null,
            "max_height": null,
            "max_width": null,
            "min_height": null,
            "min_width": null,
            "object_fit": null,
            "object_position": null,
            "order": null,
            "overflow": null,
            "overflow_x": null,
            "overflow_y": null,
            "padding": null,
            "right": null,
            "top": null,
            "visibility": null,
            "width": null
          }
        },
        "c55790770ddd4b03b2fb61adaf47dc2d": {
          "model_module": "@jupyter-widgets/base",
          "model_module_version": "1.2.0",
          "model_name": "LayoutModel",
          "state": {
            "_model_module": "@jupyter-widgets/base",
            "_model_module_version": "1.2.0",
            "_model_name": "LayoutModel",
            "_view_count": null,
            "_view_module": "@jupyter-widgets/base",
            "_view_module_version": "1.2.0",
            "_view_name": "LayoutView",
            "align_content": null,
            "align_items": null,
            "align_self": null,
            "border": null,
            "bottom": null,
            "display": null,
            "flex": null,
            "flex_flow": null,
            "grid_area": null,
            "grid_auto_columns": null,
            "grid_auto_flow": null,
            "grid_auto_rows": null,
            "grid_column": null,
            "grid_gap": null,
            "grid_row": null,
            "grid_template_areas": null,
            "grid_template_columns": null,
            "grid_template_rows": null,
            "height": null,
            "justify_content": null,
            "justify_items": null,
            "left": null,
            "margin": null,
            "max_height": null,
            "max_width": null,
            "min_height": null,
            "min_width": null,
            "object_fit": null,
            "object_position": null,
            "order": null,
            "overflow": null,
            "overflow_x": null,
            "overflow_y": null,
            "padding": null,
            "right": null,
            "top": null,
            "visibility": null,
            "width": null
          }
        },
        "cbfad5a13d2048d89bbf48dd9b36daec": {
          "model_module": "@jupyter-widgets/base",
          "model_module_version": "1.2.0",
          "model_name": "LayoutModel",
          "state": {
            "_model_module": "@jupyter-widgets/base",
            "_model_module_version": "1.2.0",
            "_model_name": "LayoutModel",
            "_view_count": null,
            "_view_module": "@jupyter-widgets/base",
            "_view_module_version": "1.2.0",
            "_view_name": "LayoutView",
            "align_content": null,
            "align_items": null,
            "align_self": null,
            "border": null,
            "bottom": null,
            "display": null,
            "flex": null,
            "flex_flow": null,
            "grid_area": null,
            "grid_auto_columns": null,
            "grid_auto_flow": null,
            "grid_auto_rows": null,
            "grid_column": null,
            "grid_gap": null,
            "grid_row": null,
            "grid_template_areas": null,
            "grid_template_columns": null,
            "grid_template_rows": null,
            "height": null,
            "justify_content": null,
            "justify_items": null,
            "left": null,
            "margin": null,
            "max_height": null,
            "max_width": null,
            "min_height": null,
            "min_width": null,
            "object_fit": null,
            "object_position": null,
            "order": null,
            "overflow": null,
            "overflow_x": null,
            "overflow_y": null,
            "padding": null,
            "right": null,
            "top": null,
            "visibility": null,
            "width": null
          }
        },
        "da590e05eeb44ee3b2682f31b4b9b735": {
          "model_module": "@jupyter-widgets/controls",
          "model_module_version": "1.5.0",
          "model_name": "HBoxModel",
          "state": {
            "_dom_classes": [],
            "_model_module": "@jupyter-widgets/controls",
            "_model_module_version": "1.5.0",
            "_model_name": "HBoxModel",
            "_view_count": null,
            "_view_module": "@jupyter-widgets/controls",
            "_view_module_version": "1.5.0",
            "_view_name": "HBoxView",
            "box_style": "",
            "children": [
              "IPY_MODEL_691047065cb747f3a1b381b4b8ccf12e",
              "IPY_MODEL_b9d65f26953d41fd9b374028e901ff86",
              "IPY_MODEL_6a7f975bca114a44aec5059d23128f5c"
            ],
            "layout": "IPY_MODEL_acd4ab68ba974b89b7904ea689f47f12"
          }
        },
        "ddbc86d3811d464188b3f93849951548": {
          "model_module": "@jupyter-widgets/base",
          "model_module_version": "1.2.0",
          "model_name": "LayoutModel",
          "state": {
            "_model_module": "@jupyter-widgets/base",
            "_model_module_version": "1.2.0",
            "_model_name": "LayoutModel",
            "_view_count": null,
            "_view_module": "@jupyter-widgets/base",
            "_view_module_version": "1.2.0",
            "_view_name": "LayoutView",
            "align_content": null,
            "align_items": null,
            "align_self": null,
            "border": null,
            "bottom": null,
            "display": null,
            "flex": null,
            "flex_flow": null,
            "grid_area": null,
            "grid_auto_columns": null,
            "grid_auto_flow": null,
            "grid_auto_rows": null,
            "grid_column": null,
            "grid_gap": null,
            "grid_row": null,
            "grid_template_areas": null,
            "grid_template_columns": null,
            "grid_template_rows": null,
            "height": null,
            "justify_content": null,
            "justify_items": null,
            "left": null,
            "margin": null,
            "max_height": null,
            "max_width": null,
            "min_height": null,
            "min_width": null,
            "object_fit": null,
            "object_position": null,
            "order": null,
            "overflow": null,
            "overflow_x": null,
            "overflow_y": null,
            "padding": null,
            "right": null,
            "top": null,
            "visibility": null,
            "width": null
          }
        },
        "e6270185a1d84761b6b3bef14cf3d992": {
          "model_module": "@jupyter-widgets/controls",
          "model_module_version": "1.5.0",
          "model_name": "HBoxModel",
          "state": {
            "_dom_classes": [],
            "_model_module": "@jupyter-widgets/controls",
            "_model_module_version": "1.5.0",
            "_model_name": "HBoxModel",
            "_view_count": null,
            "_view_module": "@jupyter-widgets/controls",
            "_view_module_version": "1.5.0",
            "_view_name": "HBoxView",
            "box_style": "",
            "children": [
              "IPY_MODEL_94b448a7ea384fb594d2eeb2fae29c91",
              "IPY_MODEL_aa3965963e5b4b8e901b5db41f061b37",
              "IPY_MODEL_6febc25ccb7a41fbb61a9fc73c0f319c"
            ],
            "layout": "IPY_MODEL_485191c81f4745beb1ea6989a43bbde5"
          }
        },
        "eaa82f3cd60242bf9c378f894ebf5aa5": {
          "model_module": "@jupyter-widgets/controls",
          "model_module_version": "1.5.0",
          "model_name": "HTMLModel",
          "state": {
            "_dom_classes": [],
            "_model_module": "@jupyter-widgets/controls",
            "_model_module_version": "1.5.0",
            "_model_name": "HTMLModel",
            "_view_count": null,
            "_view_module": "@jupyter-widgets/controls",
            "_view_module_version": "1.5.0",
            "_view_name": "HTMLView",
            "description": "",
            "description_tooltip": null,
            "layout": "IPY_MODEL_9ab4bf6b1d2b4e8b8df304c3cf3cc61c",
            "placeholder": "​",
            "style": "IPY_MODEL_978301ddd54f48aaaa02ed6a5a5e0971",
            "value": "tokenizer_config.json: 100%"
          }
        },
        "fc255b80c8e9444b9a18da9654d2a147": {
          "model_module": "@jupyter-widgets/controls",
          "model_module_version": "1.5.0",
          "model_name": "FloatProgressModel",
          "state": {
            "_dom_classes": [],
            "_model_module": "@jupyter-widgets/controls",
            "_model_module_version": "1.5.0",
            "_model_name": "FloatProgressModel",
            "_view_count": null,
            "_view_module": "@jupyter-widgets/controls",
            "_view_module_version": "1.5.0",
            "_view_name": "ProgressView",
            "bar_style": "success",
            "description": "",
            "description_tooltip": null,
            "layout": "IPY_MODEL_1822a7f610d14ff1ad802ed873af815f",
            "max": 25,
            "min": 0,
            "orientation": "horizontal",
            "style": "IPY_MODEL_ac8934d6fca041d49a6ca0130c27f071",
            "value": 25
          }
        },
        "fc74569460e9401384d0c42b44bd0b58": {
          "model_module": "@jupyter-widgets/base",
          "model_module_version": "1.2.0",
          "model_name": "LayoutModel",
          "state": {
            "_model_module": "@jupyter-widgets/base",
            "_model_module_version": "1.2.0",
            "_model_name": "LayoutModel",
            "_view_count": null,
            "_view_module": "@jupyter-widgets/base",
            "_view_module_version": "1.2.0",
            "_view_name": "LayoutView",
            "align_content": null,
            "align_items": null,
            "align_self": null,
            "border": null,
            "bottom": null,
            "display": null,
            "flex": null,
            "flex_flow": null,
            "grid_area": null,
            "grid_auto_columns": null,
            "grid_auto_flow": null,
            "grid_auto_rows": null,
            "grid_column": null,
            "grid_gap": null,
            "grid_row": null,
            "grid_template_areas": null,
            "grid_template_columns": null,
            "grid_template_rows": null,
            "height": null,
            "justify_content": null,
            "justify_items": null,
            "left": null,
            "margin": null,
            "max_height": null,
            "max_width": null,
            "min_height": null,
            "min_width": null,
            "object_fit": null,
            "object_position": null,
            "order": null,
            "overflow": null,
            "overflow_x": null,
            "overflow_y": null,
            "padding": null,
            "right": null,
            "top": null,
            "visibility": null,
            "width": null
          }
        },
        "fec6695905fc47d89212840ec561db4d": {
          "model_module": "@jupyter-widgets/controls",
          "model_module_version": "1.5.0",
          "model_name": "DescriptionStyleModel",
          "state": {
            "_model_module": "@jupyter-widgets/controls",
            "_model_module_version": "1.5.0",
            "_model_name": "DescriptionStyleModel",
            "_view_count": null,
            "_view_module": "@jupyter-widgets/base",
            "_view_module_version": "1.2.0",
            "_view_name": "StyleView",
            "description_width": ""
          }
        }
      }
    }
  },
  "nbformat": 4,
  "nbformat_minor": 0
}
